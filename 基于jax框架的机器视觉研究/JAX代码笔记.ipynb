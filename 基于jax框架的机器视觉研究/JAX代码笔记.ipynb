{
 "cells": [
  {
   "cell_type": "markdown",
   "id": "f9387ebc-9536-4357-ad59-28b106078185",
   "metadata": {
    "tags": []
   },
   "source": [
    "# JAX笔记"
   ]
  },
  {
   "cell_type": "code",
   "execution_count": 1,
   "id": "587e2a31-50f9-4102-931a-0bf94ed6159c",
   "metadata": {},
   "outputs": [],
   "source": [
    "import jax.numpy as jnp\n",
    "import matplotlib.pyplot as plt\n",
    "import random\n",
    "import jax\n",
    "import numpy as np\n",
    "import torch"
   ]
  },
  {
   "cell_type": "markdown",
   "id": "d87b9f7d-5dd4-4f40-a2e4-9157f905b3ae",
   "metadata": {},
   "source": [
    "## PRNG 的设计思想"
   ]
  },
  {
   "cell_type": "markdown",
   "id": "f6eb2805-c80b-45e1-911d-808019eb28cb",
   "metadata": {},
   "source": [
    "伪随机数发生器（PRNG），也被称为确定性随机位产生器（DRBG），它是一种算法，用于产生性质近似的随机数。PRNG 生成的序列不是真正随机的，因为它完全由初始值决定，称为 PRNG 的种子\n",
    "> https://en.wikipedia.org/wiki/Pseudorandom_number_generator"
   ]
  },
  {
   "cell_type": "markdown",
   "id": "c87ed872-b86a-49c9-88a4-d0720509a8bc",
   "metadata": {},
   "source": [
    "与NumPy 和 SciPy 的\"有状态\"伪随机数生成器 (PRNG)不同，JAX 随机函数都需要将显式 PRNG 状态作为第一个参数传递到函数中。随机状态由两个无符号 32 位整数描述，称为key，通常由jax.random.PRNGKey()函数生成"
   ]
  },
  {
   "cell_type": "markdown",
   "id": "e7c0c41f-1a32-47a1-b0f8-5790df0bc18b",
   "metadata": {},
   "source": [
    "JAX PRNG的设计要求是“可并行”的，并确保“可重复”性，因此需要将随机数种子以参数的形式传入到函数中。"
   ]
  },
  {
   "cell_type": "code",
   "execution_count": 72,
   "id": "37da506a-e90f-499e-b877-e808cdf81cd0",
   "metadata": {},
   "outputs": [
    {
     "name": "stdout",
     "output_type": "stream",
     "text": [
      "key: [0 0]\n",
      "Random value: 0.41845703\n"
     ]
    }
   ],
   "source": [
    "key = jax.random.PRNGKey(0)\n",
    "print(\"key:\",key)\n",
    "print(\"Random value:\",jax.random.uniform(key))"
   ]
  },
  {
   "cell_type": "markdown",
   "id": "9605f289-5e95-4053-a17d-45c4a6526347",
   "metadata": {},
   "source": [
    "如果你需要一个新的随机数，你可以用它jax.random.split()来生成新的子密钥："
   ]
  },
  {
   "cell_type": "code",
   "execution_count": 73,
   "id": "c4838379-bbb8-416d-afc6-bbdc8e877eec",
   "metadata": {},
   "outputs": [
    {
     "name": "stdout",
     "output_type": "stream",
     "text": [
      "key: [4146024105  967050713]\n",
      "0.5572065\n",
      "subkey: [2718843009 1272950319]\n",
      "0.10536897\n"
     ]
    }
   ],
   "source": [
    "key = jax.random.PRNGKey(0)\n",
    "key, subkey = jax.random.split(key)\n",
    "print(\"key:\",key)\n",
    "print(jax.random.uniform(key))\n",
    "print(\"subkey:\",subkey)\n",
    "print(jax.random.uniform(subkey))"
   ]
  },
  {
   "cell_type": "markdown",
   "id": "404845e0-1b4c-4e73-99dd-500ddc8d4f08",
   "metadata": {},
   "source": [
    "## JAX求梯度（grad）"
   ]
  },
  {
   "cell_type": "code",
   "execution_count": 173,
   "id": "d5f8bc45-caee-4645-a1be-732201845aae",
   "metadata": {},
   "outputs": [],
   "source": [
    "def sum_of_squares(x):\n",
    "    return jnp.sum(x**2)"
   ]
  },
  {
   "cell_type": "code",
   "execution_count": 181,
   "id": "bc5e0d34-3d2f-4eea-8ddf-29a0e0f4a904",
   "metadata": {},
   "outputs": [
    {
     "name": "stdout",
     "output_type": "stream",
     "text": [
      "x: [0. 1. 2.]\n",
      "y: 5.0\n"
     ]
    }
   ],
   "source": [
    "x = jnp.arange(3.0)\n",
    "y = sum_of_squares(x)\n",
    "print(\"x:\",x)\n",
    "print(\"y:\",y)"
   ]
  },
  {
   "cell_type": "code",
   "execution_count": 182,
   "id": "225da7b3-2cbb-4db5-81fc-99db36930c37",
   "metadata": {},
   "outputs": [
    {
     "data": {
      "text/plain": [
       "DeviceArray([0., 2., 4.], dtype=float32)"
      ]
     },
     "execution_count": 182,
     "metadata": {},
     "output_type": "execute_result"
    }
   ],
   "source": [
    "jax.grad(sum_of_squares)( jnp.asarray(x.tolist()))"
   ]
  },
  {
   "cell_type": "markdown",
   "id": "3726ce80-001c-4b79-ad0b-45d896c866d9",
   "metadata": {},
   "source": [
    "## 使用JAX实现的线性回归\n",
    "\n"
   ]
  },
  {
   "cell_type": "markdown",
   "id": "ede18c48-d37e-48b7-87a7-7ec568a84c3e",
   "metadata": {
    "tags": []
   },
   "source": [
    "### 简单线性回归"
   ]
  },
  {
   "cell_type": "code",
   "execution_count": 280,
   "id": "2664d21d-3cb8-4576-a359-cf1156b0f689",
   "metadata": {},
   "outputs": [],
   "source": [
    "features = np.random.normal(size=(10,))\n",
    "noise = np.random.normal(scale=0.1, size=(10,))\n",
    "y = features * 3 - 1 + noise"
   ]
  },
  {
   "cell_type": "code",
   "execution_count": 286,
   "id": "e0f98a44-156f-4e39-a5a9-0e93a811dff0",
   "metadata": {},
   "outputs": [
    {
     "name": "stdout",
     "output_type": "stream",
     "text": [
      "更新前w,b: [1. 1.] loss = 8.90182\n",
      "更新后w,b: [1.4026248 0.5087129] loss = 5.327842\n"
     ]
    }
   ],
   "source": [
    "learning_rate = 0.1\n",
    "\n",
    "def predict(params,X):\n",
    "    W,b = params\n",
    "    return X*W+b\n",
    "    \n",
    "def squared_loss(params, X, y):\n",
    "    y_hat = predict(params,X)\n",
    "    return jnp.mean((y-y_hat.reshape(y.shape))**2)\n",
    "\n",
    "params = jnp.array([1., 1.])\n",
    "\n",
    "print(\"更新前w,b:\",params,\"loss =\",squared_loss(params,features,y))\n",
    "params = params - learning_rate * jax.grad(squared_loss)(params,features,y)\n",
    "print(\"更新后w,b:\",params,\"loss =\",squared_loss(params,features,y))"
   ]
  },
  {
   "cell_type": "code",
   "execution_count": 287,
   "id": "d96af2b8-129f-4b97-b7fb-6eb33768858c",
   "metadata": {},
   "outputs": [
    {
     "name": "stdout",
     "output_type": "stream",
     "text": [
      "w,b: [ 2.9808729  -0.97643864] loss = 0.006122653\n"
     ]
    },
    {
     "data": {
      "image/png": "[encoded data removed]",
      "text/plain": [
       "<Figure size 432x288 with 1 Axes>"
      ]
     },
     "metadata": {
      "needs_background": "light"
     },
     "output_type": "display_data"
    }
   ],
   "source": [
    "for _ in range(20):\n",
    "    params = params - learning_rate * jax.grad(squared_loss)(params,features,y)\n",
    "    plt.scatter(features, y)\n",
    "    plt.plot(features, predict(params,features))\n",
    "print(\"w,b:\",params,\"loss =\",squared_loss(params,features,y))"
   ]
  },
  {
   "cell_type": "markdown",
   "id": "88258e3b-597d-4a81-8c41-0847d8bd053a",
   "metadata": {
    "tags": []
   },
   "source": [
    "### 较复杂的线性回归\n",
    "\n",
    "在这个例子中，假设X具有三个属性"
   ]
  },
  {
   "cell_type": "code",
   "execution_count": 4,
   "id": "94c86df2-2057-4e15-b509-53bd2f30907c",
   "metadata": {},
   "outputs": [
    {
     "data": {
      "text/plain": [
       "array([[-0.07768128],\n",
       "       [ 0.76405741],\n",
       "       [ 1.3041409 ],\n",
       "       [-0.92663122],\n",
       "       [-0.02784093],\n",
       "       [-0.80102919],\n",
       "       [-2.57386402],\n",
       "       [ 0.42506159],\n",
       "       [ 0.77430163],\n",
       "       [-1.64938475]])"
      ]
     },
     "execution_count": 4,
     "metadata": {},
     "output_type": "execute_result"
    }
   ],
   "source": [
    "features = np.random.normal(size=(10,3))\n",
    "w_real = np.random.normal(size=(3,1))\n",
    "b_real = np.random.normal(size=(10,1))\n",
    "noise = np.random.normal(scale=0.1, size=(10,1))\n",
    "y = np.matmul(features,w_real)+b_real+noise\n",
    "y"
   ]
  },
  {
   "cell_type": "code",
   "execution_count": 40,
   "id": "c4af593c-235c-486b-913c-11017535bc17",
   "metadata": {},
   "outputs": [
    {
     "name": "stdout",
     "output_type": "stream",
     "text": [
      "更新前w,b: [DeviceArray([[ 0.13893168],\n",
      "             [ 0.509335  ],\n",
      "             [-0.53116107]], dtype=float32), DeviceArray([[-0.38812608],\n",
      "             [-0.04487164],\n",
      "             [-2.0427258 ],\n",
      "             [ 0.07932311],\n",
      "             [ 0.33349916],\n",
      "             [ 0.7959976 ],\n",
      "             [-1.4411978 ],\n",
      "             [-1.6929979 ],\n",
      "             [-0.37369204],\n",
      "             [-1.5401139 ]], dtype=float32)] loss = 3.3276212\n",
      "更新后w,b: [DeviceArray([[ 0.08073936],\n",
      "             [ 0.29873985],\n",
      "             [-0.48158327]], dtype=float32), DeviceArray([[-0.36889294],\n",
      "             [-0.04552448],\n",
      "             [-1.9595271 ],\n",
      "             [ 0.06473079],\n",
      "             [ 0.31370008],\n",
      "             [ 0.7621331 ],\n",
      "             [-1.4548105 ],\n",
      "             [-1.6469178 ],\n",
      "             [-0.32975566],\n",
      "             [-1.5453378 ]], dtype=float32)] loss = 2.743939\n"
     ]
    }
   ],
   "source": [
    "learning_rate = 0.1\n",
    "\n",
    "def predict(params,X):\n",
    "    W,b = params\n",
    "    return jnp.matmul(X,W)+b\n",
    "\n",
    "def squared_loss(params, X, y):\n",
    "    y_hat = predict(params,X)\n",
    "    return jnp.mean((y-y_hat.reshape(y.shape))**2)\n",
    "\n",
    "\n",
    "key = jax.random.PRNGKey(0)\n",
    "key1, key2 = jax.random.split(key, 2)\n",
    "\n",
    "W = jax.random.normal(key1, (3, 1))\n",
    "b = jax.random.normal(key2, (10,1))\n",
    "params = [W,b]\n",
    "\n",
    "print(\"更新前w,b:\",params,\"loss =\",squared_loss(params,features,y))\n",
    "\n",
    "grads = jax.grad(squared_loss)(params,features,y)\n",
    "params = [params[0] - learning_rate * grads[0], params[1] - learning_rate * grads[1]]\n",
    "\n",
    "print(\"更新后w,b:\",params,\"loss =\",squared_loss(params,features,y))"
   ]
  },
  {
   "cell_type": "code",
   "execution_count": 39,
   "id": "dd360edd-ab4a-4740-8971-48e32af84f3a",
   "metadata": {},
   "outputs": [
    {
     "name": "stdout",
     "output_type": "stream",
     "text": [
      "w,b: [DeviceArray([[-0.21983534],\n",
      "             [-0.6499963 ],\n",
      "             [-0.03816024]], dtype=float32), DeviceArray([[-0.35996518],\n",
      "             [ 0.80396914],\n",
      "             [ 0.13568763],\n",
      "             [-1.0924063 ],\n",
      "             [ 0.49793577],\n",
      "             [-1.0341266 ],\n",
      "             [-2.154087  ],\n",
      "             [-0.44372064],\n",
      "             [-0.09831703],\n",
      "             [-0.7453041 ]], dtype=float32)] loss = 0.028454727\n",
      "Wall time: 240 ms\n"
     ]
    }
   ],
   "source": [
    "%%time\n",
    "for _ in range(20):\n",
    "    grads = jax.grad(squared_loss)(params,features,y)\n",
    "    params = [params[0] - learning_rate * grads[0], params[1] - learning_rate * grads[1]]\n",
    "print(\"w,b:\",params,\"loss =\",squared_loss(params,features,y))"
   ]
  }
 ],
 "metadata": {
  "kernelspec": {
   "display_name": "Python 3 (ipykernel)",
   "language": "python",
   "name": "python3"
  },
  "language_info": {
   "codemirror_mode": {
    "name": "ipython",
    "version": 3
   },
   "file_extension": ".py",
   "mimetype": "text/x-python",
   "name": "python",
   "nbconvert_exporter": "python",
   "pygments_lexer": "ipython3",
   "version": "3.8.12"
  },
  "widgets": {
   "application/vnd.jupyter.widget-state+json": {
    "state": {},
    "version_major": 2,
    "version_minor": 0
   }
  }
 },
 "nbformat": 4,
 "nbformat_minor": 5
}
