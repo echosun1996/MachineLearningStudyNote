{
 "cells": [
  {
   "cell_type": "markdown",
   "id": "b6317847-92c9-492a-82cf-90188722d395",
   "metadata": {},
   "source": [
    "# 深度学习基础"
   ]
  },
  {
   "cell_type": "markdown",
   "id": "42ddecf7-ab42-4f0e-beff-c96f5da52dc0",
   "metadata": {
    "tags": []
   },
   "source": [
    "导入包"
   ]
  },
  {
   "cell_type": "code",
   "execution_count": 51,
   "id": "46e5eb1b-488c-486c-8ec6-ec550203599c",
   "metadata": {},
   "outputs": [],
   "source": [
    "%matplotlib widget\n",
    "import math\n",
    "import os\n",
    "import random\n",
    "\n",
    "import IPython.display as display\n",
    "import matplotlib.pyplot as plt\n",
    "import numpy as np\n",
    "import pandas as pd\n",
    "import torch\n",
    "import torchvision\n",
    "from d2l import torch as d2l\n",
    "from IPython.core.interactiveshell import InteractiveShell\n",
    "from tensorflow.keras.datasets import fashion_mnist\n",
    "from torch.utils import data\n",
    "from torchvision import transforms\n",
    "\n",
    "InteractiveShell.ast_node_interactivity = \"all\"\n",
    "\n",
    "d2l.plt.rcParams['font.sans-serif'] = ['SimHei']  # 显示中文\n",
    "d2l.plt.rcParams['axes.unicode_minus'] = False  # 显示负号"
   ]
  },
  {
   "cell_type": "markdown",
   "id": "d2a81514-75a4-451f-9b34-4d70cc2c728d",
   "metadata": {
    "tags": []
   },
   "source": [
    "信任当前文件"
   ]
  },
  {
   "cell_type": "code",
   "execution_count": 46,
   "id": "e654cd99-5e26-4d22-ad79-7003506aded0",
   "metadata": {
    "tags": []
   },
   "outputs": [
    {
     "name": "stdout",
     "output_type": "stream",
     "text": [
      "Signing notebook: 2.线性神经网络.ipynb\n"
     ]
    }
   ],
   "source": [
    "!jupyter trust 2.线性神经网络.ipynb"
   ]
  },
  {
   "cell_type": "markdown",
   "id": "0c488dfa-6a3d-4466-a5aa-c1f171623784",
   "metadata": {},
   "source": [
    "加速jupyterlab补全, 但是会停用函数内代码提示等功能"
   ]
  },
  {
   "cell_type": "code",
   "execution_count": 3,
   "id": "917add53-53b4-4d94-af77-8de7f3294bd1",
   "metadata": {},
   "outputs": [],
   "source": [
    "# %config Completer.use_jedi = False"
   ]
  },
  {
   "cell_type": "markdown",
   "id": "9369e6c4-68f3-4c4d-b127-185eb98ad2cd",
   "metadata": {
    "tags": []
   },
   "source": [
    "## 以简化的房价预测模型为例\n",
    "\n",
    "- 假设1: 影响房价$y$的关键因素是`住房面积`$x_1$、和`房龄`$x_3$\n",
    "- 假设2: `成交价`$y$是关键因素的加权和，即$y= w_1 x_1+w_2 x_2+b$\n",
    "\n",
    "\n",
    "损失函数\n",
    "- 平方损失: $l(y,\\widehat{y}) = \\frac{1}{2} (y-\\widehat{y})^2$\n",
    "\n",
    "假设样本数n\n",
    "$$X = [x_1,x_2,\\dots,x_n]^T$$\n",
    "$$y = [y_1,y_2,\\dots,y_n]^T$$\n",
    "\n",
    "训练损失\n",
    "$$l(X,y,w,b)=\\frac{1}{2n} \\sum_{i=1}^{n}(y_i - \\left \\langle x_i,w \\right \\rangle -b)^2 = \\frac{1}{2n} \\left \\| y-Xw-b \\right \\|^2$$\n",
    "\n",
    "最小化损失来学习参数\n",
    "$$w^*,b^*= arg\\min_{w,b} l(X,y,w,b)$$"
   ]
  },
  {
   "cell_type": "markdown",
   "id": "eb4a8e52-5dad-4d2d-9ad0-f20c1c316848",
   "metadata": {
    "tags": []
   },
   "source": [
    "## 矢量化（vectorization）加速\n",
    "\n",
    "矢量化编程就是尽可能的避免显示的for循环，尽量使用矩阵运算来代替，从而发挥python中矩阵运算的优势，大大降低时间代价。\n",
    "\n",
    "遇到数据量很大的for循环运算，就立刻思考是否能用矩阵运算代替。"
   ]
  },
  {
   "cell_type": "code",
   "execution_count": 4,
   "id": "f373d3e2-4194-4f6f-a0ba-378e490ac066",
   "metadata": {},
   "outputs": [],
   "source": [
    "a = torch.ones(100000)\n",
    "b = torch.ones(100000)"
   ]
  },
  {
   "cell_type": "markdown",
   "id": "c9a3ee2d-6b28-4b41-b1ab-5fe2e111bd4b",
   "metadata": {},
   "source": [
    "### 未矢量化的测试"
   ]
  },
  {
   "cell_type": "code",
   "execution_count": 5,
   "id": "fd564537-cec3-45e3-aadd-d8f509c6fa00",
   "metadata": {},
   "outputs": [
    {
     "name": "stdout",
     "output_type": "stream",
     "text": [
      "Wall time: 935 ms\n"
     ]
    },
    {
     "data": {
      "text/plain": [
       "tensor([2., 2., 2.,  ..., 2., 2., 2.])"
      ]
     },
     "execution_count": 5,
     "metadata": {},
     "output_type": "execute_result"
    }
   ],
   "source": [
    "%%time\n",
    "c = torch.zeros(len(a))\n",
    "for i in range(len(a)):\n",
    "    c[i] = a[i]+b[i]\n",
    "c"
   ]
  },
  {
   "cell_type": "markdown",
   "id": "f7b3f62b-dc64-4c05-ac56-3835e43211d0",
   "metadata": {
    "tags": []
   },
   "source": [
    "### 矢量化后的测试"
   ]
  },
  {
   "cell_type": "code",
   "execution_count": 6,
   "id": "a6e208cc-84ba-418b-bbe4-07da77d5d717",
   "metadata": {},
   "outputs": [
    {
     "name": "stdout",
     "output_type": "stream",
     "text": [
      "Wall time: 0 ns\n"
     ]
    },
    {
     "data": {
      "text/plain": [
       "tensor([2., 2., 2.,  ..., 2., 2., 2.])"
      ]
     },
     "execution_count": 6,
     "metadata": {},
     "output_type": "execute_result"
    }
   ],
   "source": [
    "%%time\n",
    "c = torch.zeros(len(a))\n",
    "c = a+b\n",
    "c"
   ]
  },
  {
   "cell_type": "markdown",
   "id": "1cce453a-51c7-43e5-af16-466e7c431a8f",
   "metadata": {},
   "source": [
    "通过上述的测试，可以看出“矢量化”可以极大的提高计算速度。"
   ]
  },
  {
   "cell_type": "markdown",
   "id": "be8e6521-8d8d-4b07-b27c-0ae373a62e40",
   "metadata": {
    "tags": []
   },
   "source": [
    "## 线性回归的实现\n"
   ]
  },
  {
   "cell_type": "markdown",
   "id": "f7a0a886-b1b5-41b8-a4db-0b6955664abe",
   "metadata": {
    "tags": []
   },
   "source": [
    "训练数据集的样本数为1000，输入的特征数是2，权重$w=[2,-3.4]^T$，偏差$b=4.2$，随机噪声$\\epsilon $，生成标签：\n",
    "$$y=Xw+b+\\epsilon $$\n",
    "\n",
    "其中$\\epsilon $服从均值为0，标准差为0.01的正态分布。代表无意义的干扰。"
   ]
  },
  {
   "cell_type": "markdown",
   "id": "e3f5d109-5f63-4ebd-b5d5-b6ff0b35d2b4",
   "metadata": {
    "tags": []
   },
   "source": [
    "### 生成数据集"
   ]
  },
  {
   "cell_type": "code",
   "execution_count": 52,
   "id": "9e334332-b53d-40d2-87e8-97bc0bdebcc4",
   "metadata": {},
   "outputs": [
    {
     "data": {
      "text/plain": [
       "<torch._C.Generator at 0x28d09af4210>"
      ]
     },
     "execution_count": 52,
     "metadata": {},
     "output_type": "execute_result"
    },
    {
     "name": "stdout",
     "output_type": "stream",
     "text": [
      "features : tensor([[-1.5256, -0.7502],\n",
      "        [-0.6540, -1.6095],\n",
      "        [-0.1002, -0.6092],\n",
      "        ...,\n",
      "        [ 2.0441, -1.3229],\n",
      "        [ 1.0491, -2.2162],\n",
      "        [ 1.0833,  1.5990]])\n",
      "w : tensor([ 2.0000, -3.4000])\n",
      "shape(c) = torch.Size([1000])\n"
     ]
    }
   ],
   "source": [
    "# 固定seed，使得normal生成的数据集固定\n",
    "torch.manual_seed(1)\n",
    "\n",
    "# 生成 features\n",
    "features = torch.normal(mean=0, std=1, size=(1000, 2))\n",
    "print(\"features :\", features)\n",
    "\n",
    "# 生成 w\n",
    "w = torch.tensor([2, -3.4])\n",
    "print(\"w :\", w)\n",
    "\n",
    "\n",
    "# 生成 c\n",
    "c = torch.normal(mean=0, std=0.01, size=[1000])\n",
    "print(\"shape(c) =\", c.shape)\n",
    "\n",
    "b = 4.2\n",
    "\n",
    "# 计算得到 labels\n",
    "labels = torch.matmul(features, w) + b + c"
   ]
  },
  {
   "cell_type": "markdown",
   "id": "ad501d54-62b8-4c18-a57b-e4641f7ac688",
   "metadata": {},
   "source": [
    "### 可视化训练样本"
   ]
  },
  {
   "cell_type": "code",
   "execution_count": 53,
   "id": "33719a66-eb69-49f8-9ecc-0dc337c566bb",
   "metadata": {},
   "outputs": [
    {
     "data": {
      "text/plain": [
       "tensor([-1.5256, -0.6540, -0.1002, -0.9798, -0.7121, -0.7773, -0.2223,  0.2284,\n",
       "        -0.6970,  0.6995,  0.8657, -0.6629,  1.1017, -2.2456,  0.0612, -0.7981,\n",
       "         1.8793,  0.1578,  0.1991,  0.1530, -0.1110, -0.1578,  2.3571,  1.5748,\n",
       "        -0.9274,  0.0663,  0.7626,  1.1651,  0.1374, -0.1860,  1.5392, -3.3312,\n",
       "        -0.0255, -0.5962, -0.2106,  1.6734, -0.7040, -0.9962, -0.4610,  0.3956,\n",
       "        -0.5065, -0.6540, -1.4344,  0.1716,  0.2546, -1.0412, -1.0483,  0.2911,\n",
       "         0.6614,  0.8165])"
      ]
     },
     "execution_count": 53,
     "metadata": {},
     "output_type": "execute_result"
    },
    {
     "data": {
      "text/plain": [
       "tensor([-0.7502, -1.6095, -0.6092, -1.6091,  0.3037, -0.2515,  1.6871,  0.4676,\n",
       "        -1.1608,  0.1991,  0.2444,  0.8073, -0.1759, -1.4465, -0.6177, -0.1316,\n",
       "        -0.0721, -0.7735,  0.0457, -0.4757,  0.2927, -0.0288, -1.0373, -0.6298,\n",
       "         0.5451, -0.4370,  0.4415,  2.0154,  0.9386, -0.6446, -0.8696, -0.7479,\n",
       "        -1.0233, -1.0055, -0.0075,  0.0103, -0.1853, -0.8313, -0.5601, -0.9823,\n",
       "         0.0998,  0.7317, -0.5008, -0.1600, -0.5020,  0.7323, -0.4709,  1.9907,\n",
       "         1.1899, -0.9135])"
      ]
     },
     "execution_count": 53,
     "metadata": {},
     "output_type": "execute_result"
    }
   ],
   "source": [
    "features[:50, 0]\n",
    "features[:50, 1]"
   ]
  },
  {
   "cell_type": "code",
   "execution_count": 54,
   "id": "5ba38083-75e7-4cbe-b725-0bab4c2e0aa3",
   "metadata": {
    "tags": []
   },
   "outputs": [
    {
     "data": {
      "text/plain": [
       "<matplotlib.collections.PathCollection at 0x28d47015af0>"
      ]
     },
     "execution_count": 54,
     "metadata": {},
     "output_type": "execute_result"
    },
    {
     "data": {
      "application/vnd.jupyter.widget-view+json": {
       "model_id": "85a22f1b63da415da97c42f3362cfad0",
       "version_major": 2,
       "version_minor": 0
      },
      "text/html": [
       "\n",
       "            <div style=\"display: inline-block;\">\n",
       "                <div class=\"jupyter-widgets widget-label\" style=\"text-align: center;\">\n",
       "                    Figure\n",
       "                </div>\n",
       "                <img src='data:image/png;base64,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' width=350.0/>\n",
       "            </div>\n",
       "        "
      ],
      "text/plain": [
       "Canvas(toolbar=Toolbar(toolitems=[('Home', 'Reset original view', 'home', 'home'), ('Back', 'Back to previous …"
      ]
     },
     "metadata": {},
     "output_type": "display_data"
    }
   ],
   "source": [
    "d2l.set_figsize()\n",
    "d2l.plt.scatter(features[:, 1], labels)"
   ]
  },
  {
   "cell_type": "code",
   "execution_count": 55,
   "id": "a97b152f-a35b-4c4d-8d5f-6a3711c2cbae",
   "metadata": {},
   "outputs": [
    {
     "data": {
      "text/plain": [
       "<matplotlib.collections.PathCollection at 0x28d4702e9a0>"
      ]
     },
     "execution_count": 55,
     "metadata": {},
     "output_type": "execute_result"
    }
   ],
   "source": [
    "d2l.plt.scatter(features[:, 0], labels)"
   ]
  },
  {
   "cell_type": "markdown",
   "id": "a7000ec2-3f83-4ca0-8ac3-cc3b3ff24bf9",
   "metadata": {},
   "source": [
    "### 回归方法1: 使用梯度下降的方式得到w和b"
   ]
  },
  {
   "cell_type": "code",
   "execution_count": 56,
   "id": "4d06bbd1-bb8e-4905-9604-c3c4bfcb3108",
   "metadata": {},
   "outputs": [],
   "source": [
    "# 生成一个小批量样本用于更新模型\n",
    "def data_iter(batch_size, features, labels):\n",
    "    num_examples = len(features)\n",
    "    indices = list(range(num_examples))\n",
    "    random.shuffle(indices)\n",
    "    for i in range(0, num_examples, batch_size):\n",
    "        batch_indices = torch.tensor(\n",
    "            indices[i:min(i+batch_size, num_examples)])\n",
    "        yield features[batch_indices], labels[batch_indices]"
   ]
  },
  {
   "cell_type": "markdown",
   "id": "f7568c98-d95d-42ae-909b-6e1f80eb8d5d",
   "metadata": {},
   "source": [
    "测试`data_iter`函数功能"
   ]
  },
  {
   "cell_type": "code",
   "execution_count": 57,
   "id": "12e88fb4-25af-4688-9254-fd3d2f8a3d66",
   "metadata": {},
   "outputs": [
    {
     "name": "stdout",
     "output_type": "stream",
     "text": [
      "X.shape: torch.Size([10, 2])\n",
      "y.shape: torch.Size([10])\n",
      "tensor([[ 0.3469,  2.5516],\n",
      "        [ 0.5881,  0.0514],\n",
      "        [-0.1504,  0.5233],\n",
      "        [ 1.2831,  1.2678],\n",
      "        [-0.7783,  0.0177],\n",
      "        [ 0.2877,  1.1313],\n",
      "        [-1.1081,  1.1770],\n",
      "        [ 1.4023,  0.4841],\n",
      "        [ 1.1365,  0.7353],\n",
      "        [-1.2984,  0.5426]]) \n",
      " tensor([-3.7767,  5.2179,  2.1115,  2.4792,  2.5876,  0.9179, -2.0206,  5.3520,\n",
      "         3.9715, -0.2486])\n"
     ]
    }
   ],
   "source": [
    "batch_size = 10\n",
    "\n",
    "for X, y in data_iter(batch_size, features, labels):\n",
    "    print(\"X.shape:\", X.shape)\n",
    "    print(\"y.shape:\", y.shape)\n",
    "    print(X, \"\\n\", y)\n",
    "    break"
   ]
  },
  {
   "cell_type": "markdown",
   "id": "6ca38bba-a990-4b37-96a8-becedd9e6498",
   "metadata": {},
   "source": [
    "线性回归计算"
   ]
  },
  {
   "cell_type": "code",
   "execution_count": 13,
   "id": "61033c85-8456-4a8a-893c-6d596cad2c6f",
   "metadata": {},
   "outputs": [],
   "source": [
    "def linreg(X, w, b):\n",
    "    return torch.matmul(X, w)+b"
   ]
  },
  {
   "cell_type": "markdown",
   "id": "da6f11cd-7bec-4fd7-b31c-7bfd069b8424",
   "metadata": {},
   "source": [
    "平方损失函数"
   ]
  },
  {
   "cell_type": "code",
   "execution_count": 14,
   "id": "eaef170c-c07b-44e2-9d2e-cc879d01dd02",
   "metadata": {},
   "outputs": [],
   "source": [
    "def squared_loss(y_hat, y):\n",
    "    # 这里 y 是一个向量，而 y_hat 是一个列数为1的矩阵，需要作变换。\n",
    "    return (y-y_hat.reshape(y.shape))**2/2"
   ]
  },
  {
   "cell_type": "markdown",
   "id": "73357dac-8868-4f71-9699-5a1f732b0420",
   "metadata": {},
   "source": [
    "梯度下降函数"
   ]
  },
  {
   "cell_type": "code",
   "execution_count": 15,
   "id": "75a57b9c-8c07-478d-bc3d-b50d8c5b6d00",
   "metadata": {},
   "outputs": [],
   "source": [
    "def sgd(parameters, learning_rate, batch_size):\n",
    "    with torch.no_grad():\n",
    "        for parameter in parameters:\n",
    "            parameter -= learning_rate*parameter.grad/batch_size\n",
    "            parameter.grad.zero_()  # 由于tensor默认累加梯度，这里需要清零梯度"
   ]
  },
  {
   "cell_type": "markdown",
   "id": "2c6c1206-8320-450e-b4c8-cab96de74492",
   "metadata": {},
   "source": [
    "训练模型"
   ]
  },
  {
   "cell_type": "code",
   "execution_count": 16,
   "id": "d94eb07e-0faf-4d5c-bfa1-f2bd2b651646",
   "metadata": {},
   "outputs": [
    {
     "name": "stdout",
     "output_type": "stream",
     "text": [
      "Original w: [[-0.009108570404350758], [-0.011253414675593376]]\n",
      "Original b: 0.0\n",
      "Epoch 0, loss:0.02615663968026638\n",
      "Epoch 1, loss:0.00010082512017106637\n",
      "Epoch 2, loss:5.179797517484985e-05\n",
      "Epoch 3, loss:5.178709761821665e-05\n",
      "Epoch 4, loss:5.1689694373635575e-05\n",
      "After w: [[1.999679684638977], [-3.39986515045166]]\n",
      "After b: 4.200601100921631\n"
     ]
    }
   ],
   "source": [
    "batch_size = 10  # 批量大小\n",
    "num_epoches = 5  # 训练次数\n",
    "learning_rate = 0.03  # 学习率\n",
    "\n",
    "w = torch.normal(0, 0.01, (2, 1), requires_grad=True)\n",
    "b = torch.zeros(1, requires_grad=True)\n",
    "print(\"Original w:\", w.tolist())\n",
    "print(\"Original b:\", b.tolist()[0])\n",
    "\n",
    "parameters_save = []\n",
    "for epoch in range(num_epoches):\n",
    "    for X, y in data_iter(batch_size, features, labels):\n",
    "        y_hat = linreg(X, w, b)\n",
    "        loss = squared_loss(y_hat, y)\n",
    "        loss.sum().backward()\n",
    "        parameters = [w, b]\n",
    "        sgd(parameters, learning_rate, batch_size)\n",
    "    with torch.no_grad():\n",
    "        train_y_hat = linreg(features, w, b)\n",
    "        tranin_loss = squared_loss(train_y_hat, labels)\n",
    "        print(f'Epoch {epoch}, loss:{tranin_loss.mean()}')\n",
    "\n",
    "\n",
    "print(\"After w:\", w.tolist())\n",
    "print(\"After b:\", b.tolist()[0])"
   ]
  },
  {
   "cell_type": "markdown",
   "id": "9b3b4fc4-db66-4a5b-9165-7b22f226a988",
   "metadata": {},
   "source": [
    "可视化误差计算梯度"
   ]
  },
  {
   "cell_type": "markdown",
   "id": "7a741ab3-0d89-425e-858a-f6dc2fa4882e",
   "metadata": {},
   "source": [
    "### 回归方法2: 使用线性回归解析解公式得到w和b\n",
    "\n",
    "线性回归的解析解公式为：\n",
    "\n",
    "$$w = (X^TX)^{-1}X^Ty$$"
   ]
  },
  {
   "cell_type": "code",
   "execution_count": 17,
   "id": "e6724073-4d9f-4c2d-9a24-701a907a8b8e",
   "metadata": {},
   "outputs": [
    {
     "name": "stdout",
     "output_type": "stream",
     "text": [
      "w: [2.1273112297058105, -3.4510583877563477]\n",
      "b: 4.359886169433594\n"
     ]
    }
   ],
   "source": [
    "w = torch.matmul(torch.matmul(torch.linalg.inv(\n",
    "    torch.matmul(features.T, features)), features.T), labels)\n",
    "b = labels - torch.matmul(features, w)\n",
    "print(\"w:\", w.tolist())\n",
    "print(\"b:\", b.tolist()[0])"
   ]
  },
  {
   "cell_type": "markdown",
   "id": "3a17680a-6858-4c57-9cb2-025d3d503a9b",
   "metadata": {},
   "source": [
    "## softmax 回归"
   ]
  },
  {
   "cell_type": "markdown",
   "id": "d8789dbd-bd59-4cd7-8ab5-c4ed5e51e25b",
   "metadata": {},
   "source": [
    "### 独热（one-hot encoding）编码\n",
    "\n",
    "独热编码是一个向量，它的分类和类别一样多。类别对应的分量设置为1，其余所有分量设置为0."
   ]
  },
  {
   "attachments": {
    "a4c498fb-3b81-4ca4-adb8-bad2b456c610.png": {
     "image/png": "[encoded data removed]"
    },
    "fd3f2739-d7bc-4b91-995c-0251b98209a1.png": {
     "image/png": "[encoded data removed]"
    }
   },
   "cell_type": "markdown",
   "id": "268b06f5-1a08-48b8-8e52-215260f40ac4",
   "metadata": {},
   "source": [
    "### 回归问题模型与分类问题的模型\n",
    "\n",
    "- 回归问题（单连续数值输出，跟真实值的区别作为损失）\n",
    "    - 预测房价\n",
    "   \n",
    "![image.png](attachment:fd3f2739-d7bc-4b91-995c-0251b98209a1.png)\n",
    "\n",
    "\n",
    "- 分类问题（通常有多个输出码，对类别进行一位有效编码）\n",
    "    - MNIST: 手写数字识别 10类的分类问题\n",
    "    - ImageNet: 自然物体分类 1000类的分类问题\n",
    "    \n",
    "![image.png](attachment:a4c498fb-3b81-4ca4-adb8-bad2b456c610.png)\n",
    "\n"
   ]
  },
  {
   "cell_type": "markdown",
   "id": "493810c7-7de3-494f-adbe-7381f8ab46b7",
   "metadata": {},
   "source": [
    "### softmax回归\n",
    "\n",
    "softmax回归可以看作是一个单层的神经网络，并且其输出层是一个全连接层。\n",
    "$$o_1 = x_1 w_{11} + x_2 w_{12} + x_3 w_{13} + x_4 w_{14} +b_1\\\\\n",
    "o_2 = x_1 w_{21} + x_2 w_{22} + x_3 w_{23} + x_4 w_{24} +b_2 \\\\\n",
    "o_3 = x_1 w_{31} + x_2 w_{32} + x_3 w_{33} + x_4 w_{34} +b_3$$\n",
    "可以简化表示为\n",
    "$$o = Wx+b$$\n",
    "\n",
    "$$\\hat{y} = \\mathop{\\arg\\max}\\limits_{i} o_i$$\n",
    "\n"
   ]
  },
  {
   "cell_type": "markdown",
   "id": "9de389cd-0f07-4785-aeb7-865ccb13801f",
   "metadata": {},
   "source": [
    "- 优化目标\n",
    "最大化 $P(Y|X) = \\prod_{i=1}^{n} P(y^{(i)} |x^{(i)})$\n",
    "\n",
    "相当于最小化负对数似然\n",
    "\n",
    "$-\\log{P(Y|X)} = \\sum_{i=1}^{n} -\\log P(y^{(i)} |x^{(i)}) = \\sum_{i=1}^{n}l( y^{(i)},\\hat{y}^{(i)} )$\n",
    "\n",
    "- 损失函数\n",
    "\n",
    "softmax优化目标中的损失函数称为交叉熵损失\n",
    "\n",
    "$$l(y,\\hat{y}) = - \\sum_{j=1}^{q}y_i\\log\\hat{y_j}$$\n"
   ]
  },
  {
   "cell_type": "markdown",
   "id": "0cf04edd-4b5f-40c1-b788-78763f54197c",
   "metadata": {},
   "source": [
    "- softmax 概率公式\n",
    "\n",
    "输出匹配概率，分子保证输出结果非负，除以分母保证所有结果的和为1\n",
    "\n",
    "\n",
    "$$\\hat{y} = softmax(o)$$\n",
    "\n",
    "$$\\hat{y_i} = \\frac{exp(o_i)}{\\sum_{k}exp(o_k)}$$\n",
    "\n",
    "- softmax 目标函数\n",
    "$$arg\\max_{j} \\hat{y_j} = arg\\max_{j} \\hat{o_j}$$\n",
    "\n",
    "\n"
   ]
  },
  {
   "cell_type": "markdown",
   "id": "3e12968c-c000-4662-a20a-c73185b21e50",
   "metadata": {
    "jp-MarkdownHeadingCollapsed": true,
    "tags": []
   },
   "source": [
    "### 损失函数\n",
    "- 均方损失函数(L2 Loss):\n",
    "\n",
    "    $l(y,y') = \\frac{1}{2} (y-y')^2$\n",
    "    \n",
    "- 绝对值损失函数(L1 Loss)\n",
    "\n",
    "    $l(y,y') = |y-y'|$\n",
    "     \n",
    "    优点：更加稳定\n",
    "     \n",
    "    缺点：零点处不可导，且零点处不稳定\n",
    "     \n",
    "- Huber's Robust Loss\n",
    "\n",
    "    $l(y,y') = \\left\\{\\begin{matrix}\n",
    "|y-y'|-\\frac{1}{2} & if|y-y'|>1 \\\\ \n",
    "\\frac{1}{2}(y-y')^2& otherwise\n",
    "\\end{matrix}\\right.$"
   ]
  },
  {
   "cell_type": "markdown",
   "id": "473763d8-657e-400d-affc-af448c175c08",
   "metadata": {
    "tags": []
   },
   "source": [
    "## MNIST图像分类数据集"
   ]
  },
  {
   "cell_type": "markdown",
   "id": "0e3fe961-4db4-4009-a587-014b12f953db",
   "metadata": {},
   "source": [
    "### 数据集准备"
   ]
  },
  {
   "cell_type": "code",
   "execution_count": 18,
   "id": "af3d800e-df6b-4312-893a-eb18556407b7",
   "metadata": {},
   "outputs": [
    {
     "name": "stdout",
     "output_type": "stream",
     "text": [
      "train size: 60000\n",
      "test size: 10000\n",
      "image size: torch.Size([1, 28, 28])\n"
     ]
    }
   ],
   "source": [
    "d2l.use_svg_display()\n",
    "trans = transforms.ToTensor()\n",
    "\n",
    "mnist_train = torchvision.datasets.FashionMNIST(\n",
    "    root=\"data\", train=True, transform=trans, download=True\n",
    ")\n",
    "mnist_test = torchvision.datasets.FashionMNIST(\n",
    "    root=\"data\", train=False, transform=trans, download=True\n",
    ")\n",
    "\n",
    "print(\"train size:\", len(mnist_train))\n",
    "print(\"test size:\", len(mnist_test))\n",
    "print(\"image size:\", mnist_train[0][0].shape)"
   ]
  },
  {
   "cell_type": "code",
   "execution_count": 19,
   "id": "6d555023-d283-4935-ab0e-79ee8fdf109d",
   "metadata": {},
   "outputs": [
    {
     "data": {
      "text/plain": [
       "array(['T恤', '裤子', '套衫', '连衣裙', '外套', '凉鞋', '衬衫', '运动鞋', '包', '短靴'],\n",
       "      dtype='<U10')"
      ]
     },
     "execution_count": 78,
     "metadata": {},
     "output_type": "execute_result"
    }
   ],
   "source": [
    "X, y = next(iter(data.DataLoader(mnist_train, batch_size=18)))\n",
    "labels_index = range(0, 10)\n",
    "labels_en = np.array(d2l.get_fashion_mnist_labels(labels_index))\n",
    "labels_zh = ['T恤', '裤子', '套衫', '连衣裙', '外套', '凉鞋', '衬衫', '运动鞋', '包', '短靴']\n",
    "\n",
    "labels = np.insert(labels_en.reshape(10, 1), 0, values=labels_index, axis=1)\n",
    "labels = np.insert(labels, 2, values=labels_zh, axis=1)\n",
    "labels[:, 2]"
   ]
  },
  {
   "cell_type": "markdown",
   "id": "7014aa76-5caf-4c3c-8302-750cd56a6a72",
   "metadata": {},
   "source": [
    "可视化前18张图片。"
   ]
  },
  {
   "cell_type": "code",
   "execution_count": 58,
   "id": "d3fd120c-3ffe-453e-a6de-2e1184944999",
   "metadata": {
    "tags": []
   },
   "outputs": [],
   "source": [
    "def get_fashion_mnist_labels_zh(labels):\n",
    "    \"\"\"返回 Fashion-MNIST 数据集的中文标签\"\"\"\n",
    "    text_labels = ['T恤', '裤子', '套衫', '连衣裙', '外套', '凉鞋', '衬衫', '运动鞋', '包', '短靴']\n",
    "    return [text_labels[int(i)] for i in labels]"
   ]
  },
  {
   "cell_type": "code",
   "execution_count": 59,
   "id": "ab701fb0-a7f2-47f3-9544-c4f5b2413e41",
   "metadata": {},
   "outputs": [
    {
     "data": {
      "application/vnd.jupyter.widget-view+json": {
       "model_id": "85c98c8256dd48cc8c6ba09998d9df59",
       "version_major": 2,
       "version_minor": 0
      },
      "text/html": [
       "\n",
       "            <div style=\"display: inline-block;\">\n",
       "                <div class=\"jupyter-widgets widget-label\" style=\"text-align: center;\">\n",
       "                    Figure\n",
       "                </div>\n",
       "                <img src='data:image/png;base64,iVBORw0KGgoAAAANSUhEUgAABLAAAAEsCAYAAADTvUpQAAAAOXRFWHRTb2Z0d2FyZQBNYXRwbG90bGliIHZlcnNpb24zLjQuMywgaHR0cHM6Ly9tYXRwbG90bGliLm9yZy/MnkTPAAAACXBIWXMAAA9hAAAPYQGoP6dpAACm+klEQVR4nOzdd5QUVfYH8FuduycnwpCHjOSggJhRUQwY1rjmhGnF9HNddVdXV3ddd3VVzK5iXEV3dVVEFhUVBQQERHJmmGGGydMzPR2rfn+MvPfuG7odcYCm5/s5h3Necau7qutVvarprnvLsCzLIgAAAAAAAAAAgCRlO9ArAAAAAAAAAAAAkAi+wAIAAAAAAAAAgKSGL7AAAAAAAAAAACCp4QssAAAAAAAAAABIavgCCwAAAAAAAAAAkhq+wAIAAAAAAAAAgKSGL7AAAAAAAAAAACCp4QssAAAAAAAAAABIavgCCwAAAAAAAAAAkhq+wAIAAAAAAAAAgKSGL7AAAAAAAAAAACCp4QssAAAAAAAAAABIavgCCwAAAAAAAAAAkhq+wAIAAAAAAAAAgKSGL7AAAAAAAAAAACCp4QssSHmWZR3oVYAk0dDQQA0NDS3+v7Kykvx+/wFYI2gr6NvkV1lZud+WVVJSst+WBXsPx+3BKxwOH+hVAICfCcctpAJ8gQUpLRqNUlFREb366qvs/4PBIIVCoT1+uRWJRCgajRIR0YYNG2jy5MlERLRs2TI677zzxHy7du2iCRMm0MKFC+mBBx6gJ598ch9+EmgL06ZNo2nTprX4/7fffpsGDhxIpmnu/5WCNoG+PfACgQC99dZbe4wtX76cunXrRosWLfpZ72lZFs2ePZu2bNnS6teEQiEaOXIkPfvss+L/GhsbxbgOyQPH7cHrnHPOoXPOOafV83/66ad04YUXJpxnx44dVF5e/ktXDfaj22+/nc4///y48ZqaGpozZw4REdXX19Ps2bOpsbGRzbNx40b67LPP9ul6QjMct5AK8AUWpLTvv/+etm7dSj169GD/P23aNPJ4PGSz2cgwDPbP5XLRO++8Q8FgkJqamuiLL74gIqJYLEbffPMNRSIRisViNHfuXFq0aBF169aNysrK9uvdBbB3vF7vHv+/rKyMjj/+eLLZMCQerNC3B97cuXPp/PPPF3+INDU1USwWIyKiV155hYYMGUKHHXaYmN+yLAqFQgm/pNi+fTtNnjyZnn766Vavh9vtpuuvv55uv/122rFjB0WjUUpPTyen09livB84cOBeflpoCzhuk18wGKRgMMh+8CspKaGPP/6YfvWrX7WY3zRNCgQC4tjfLTc3l9544w36+uuv97icWCxGl112GQ0fPpx27tzZth+inYpGo3TeeefR/Pnzxf/t3LmTli9fTqtWraK1a9fS2rVrac2aNbRy5UpavHgxe31TUxNFIhExvbtv1f8LBoMJr383bNhAZ599NhERlZaW0kknnUSBQIDN89lnn9F99933iz4rcDhuIZXhygBS2qJFi8jj8VAwGKS5c+fSnDlz6JNPPqEHH3yQKisrKRqNkmVZ4t/uAfzss8+mSy+9lIYNG0aNjY2UnZ1Nxx57LBUXF5PL5aIFCxbQnDlz6Oijj6YuXbqQ3W4nh8NxoD9uuzVv3rwWf5ju/nfvvfeK+ex2+x5fv379evaHNSQP9O3B47TTTqMLL7yQrrzySmpqaqKBAweSw+EgwzDo0UcfpcWLF7P+s9ls5PF46Pvvv6dQKERLly6llStXij+q1q5dS01NTTR69GiaOXMm+/+1a9fSqlWraOXKlXtcl9tvv52OOOIICgaD5HA4qKGhgaLRKHXp0oW+/fZbsiyLXnrpJXK73ft5K7UPOG5Tx5VXXkler5f94Ne1a1cKh8N0zjnntOhfu91OaWlp9Pnnn7P3GTFiBE2YMIG++uqrPS7nhhtuoAULFtArr7xCnTt33h8fLeU5HA4qKiqi0047jdauXUtERG+88QaNHTuWxo4dS4cddphojxs3jsaPH8/uVD3jjDPI5XK16NtPPvlEzGO32yk9PX2Py58zZ46463b27Nm0cOFCIiL6/PPPaefOnRQIBMg0TXI6neRwOMiyLAqHw0hzawM4biGVGRYKBEEKO+2002ju3LnkdruptraWsrOzKS8vjzZu3PiTr/X7/bRt2zaaMGEC1dbW0tq1a+nEE0+kH374gdxuN/Xs2ZOuv/56uuuuu2jatGmUn59Pd999N5mmiV+N9zO/30/r1q0jIqL77ruP1q9fT6+//joRERUWFpLH46GqqiqaPn06VVVV0THHHEMTJ05scWeebsGCBTR27Nh9vv4QH/r24FJZWUl9+vShp59+mo466ihyuVz017/+lebMmUOff/45ffTRR3TooYdSQUEBWZZFwWCQ8vLyaPv27TRgwAByuVzkcrnE+zU2NpJhGOTz+VosKxaLUV5eHm3dupWIiJYuXUrbtm1jr+/RowcNGTJETOfn59Pnn39OQ4YMoZdffpmeeOIJWrp06b7bIO0UjtvUUVVVReFwmNxuN9lsNvrPf/5DV111FX3yySc0atQoqqmpoUGDBtFDDz1El156qfgSIisri2w2G1VWVoo73v1+P2VkZJDH4yGPx0NEzcfxNddcQ2+//TbNmjWLJkyYcIA/ceqZPHkydevWjZ555pmf9brS0lKKRCLii37TNMVds5WVleR2u+mvf/0rlZeX0yOPPCJe16dPH0pPT6epU6fShg0baP78+XTqqadSIBCgjz/+mE4++WSaOnUqnXPOOeTxeCgSiVA4HKa0tDSKRCL0xz/+kW655ZY23QbtDY5bSGkWQIoqLi62XC6X9fHHH1vLly+3iMiqr68X8aKiIouIWvzr0aOHmGf16tVWVlaWZVmWtWbNGqtr166WZVnWggULLCKynnjiCcuyLOumm26y7r//fmvnzp3WxIkTrZqamv31MUFzySWXWMOGDWP/9+STT1r9+/e3brrpJuv888+3DMOw5s2bZxGRtWPHDuuyyy6zpk+fbn3wwQfWcccdZ9XU1FhEZC1duvTAfAjYI/TtwaG4uFi0q6urrby8POujjz6yLMuyPB6P9emnn7bqfWKxmNWlSxfrb3/7W6vm//vf/24dccQR1gknnGCNGTPGIiLrww8/tK6++morIyPDys3NtQzDsLKzs628vDwrPT3dstvtls/ns9auXfvzPyi0Co7b1PHNN99Y6enp1u9+9zv2/w8++KDl8/msWbNmsf9fvHjxHq+zds9XXFxsHX/88VZOTo61cOHC/fY52pva2lorFou12fs9//zze+zX3f/UvlyyZImVl5dnWZZlbdmyxSIiq7Gxkb3fSy+9ZB133HFttn7A4biFVIPbRCBl2e12euSRR+jEE08U+fpquoLL5aJnn32WampqxL8XX3yR/Xq/+3Uul4tGjhwpfoV65ZVX9rjMG264gZYsWYJf9JNMTU0NdevWjYiIfD4fdenShVasWEFERFlZWeRyucjn81F6ejo5HA7Kzs4mImL7AiQn9G3y8Pv9FI1GqWvXrkTUPH5edtllNHToUDr55JOJiMjpdJLT6SSi5vosoVAo7vu9++67VFtbS0cddRR98MEHLLZu3Tpx59VuN998M3355Zf0ySef0LBhw2j06NF08skn02OPPUaVlZVUXl5OdrudVq5cSZWVlfTEE0/Q8OHDqaKigvr27duGWwJ+Co7bg89bb71FEydOpIaGBnrwwQdZ+tHvfvc7CgQCdOqpp9JvfvMb8RTQESNGUENDA8ViMbIsi84880waP348nXTSSURENH36dCouLqZFixaJlNHf//73tGrVqgP2OVNJXV0d+f1+cQfrxRdfTEOHDqURI0bQqFGjaPTo0eLfyJEjafjw4TRo0CAqKSmhUCi0xwdfRKNRmjJlClVXV5Pf76crr7ySzjnnHPL7/VRaWkpEzXWTdttd49DtdtPgwYMpLy8PKYL7EY5bSEUo2gMpq3PnznTjjTcSEf8iarfdF8i7L4yJmi+kd/9xRUQ0dOhQqq2tpUsvvZRGjx5NN9xwA+3YsYNmzJhBhYWFbHmvvfYa1dXV0fz58+mQQw7Zh58Mfq5du3ZRr169xPTrr79OnTt3pptuuukArhW0BfRt8ujcubN4utSSJUsoOzub3n//fSIiMgxDzHfkkUeK9llnnUXvvPNOi/cKhUJ0zz330LRp02jNmjX0pz/9iU499VQiai4sfP7555NhGLR48eIWKdtLliyhV155hb7++mvavHkz9ezZk8LhMFVXV1MsFqOOHTuKeU3T3GN6IuxbOG4PHosWLaIHHniAZs+eTUcccQSVlJS0+JHO+jEdeObMmXT//ffTk08+SRdccAG9+uqrlJaWRkRE//nPf+g///kPffPNN/TKK6/QEUccQQ899BD94Q9/EGlJzz77LN1///1UV1dH//jHP/b7Z001kydPFsW3Tz75ZLr77rupoaGBHA4Hvf766zRz5kx67733iKh5LDRNkyKRCOXm5tI111xDM2bM2OP79u/fX9TU2p0Gnp6eTvX19URElJGRIeYdM2YMVVZW0pQpU2jSpEk0depUImpO+Z4+fTo5nU5av349bdiwgaZOnUqxWIyCwSC98MILqFH4C+C4hVSGL7AgZe3atYvGjBlDmZmZFAwGiYho1KhRFA6HxdME98T6sSxcaWkpdenShbKysigQCNDbb79Nt912G1155ZV0xx130HfffUdERLW1tbRy5UpqbGykzz//nAYMGLB/PiC0WnFxMY0bN078OnjkkUdSbW3tgV0paBPo2+Sxfv16KikpoUMPPZQ8Hg/17t2bli5dKmoeETXXpPrXv/5Fhx56KAWDwRZPPNrtzjvvpO3bt9Mdd9xBDoeDbrzxRnrvvfdo8uTJ9Ktf/Yqamppo1qxZLb68amxspEsuuYTy8/MpHA7TMcccQzfeeCPdc889onB8QUGBmB/j9YGB4/bgEIvF6KmnnqKKigpauHAhbdmyhc455xzq1KkTm293baQ//elPtH37dvriiy+oe/fu4ovrtWvX0qWXXkpdunShxsZGuuGGG+iRRx6hq6++WowNr7zyCl133XV077330h/+8If9/llT0cyZM8k0TXrsscdo06ZNNG7cOBF78MEH6cILL6RjjjmGGhoaaMuWLaxe4KOPPkqPPPIIRaNRKioqoqeeeopOP/10ikajbNyuqKgQX0b7/X4iIvGjwF/+8he6++67KSsri/x+P82dO5fuvvtuqqqqogULFtDZZ58tng67m2ma4uEbsHdw3EKqw+gAKSs7O5tmzJhBXq+X3nrrLXrzzTfp+eefp0AgQGlpaRQKheiiiy6iiy66iL2uqKiIiJpvd7bb7ewOrLKyMrLZbPT73/+epkyZQjt37qTBgweTYRh0zTXX4I+hJPWPf/yDvF4v/elPfzrQqwJtDH2bPAoLC8Xj0Xena48cOZLNYxgGZWRkUF5eXtz3eeqpp+ixxx6j3Nxc8Uv+ddddR7fddhs999xzVFpaSl9++SX7IoqoObXl/PPPp4qKCqqoqKDDDz+cLrvsMrrtttvo9ttvpwsuuICysrLo6aefbsuPDXsBx+3BwW6304svvkh2u50Mw6AtW7ZQv3796IcffmDzWT8WgDYMg5xOJ02cOFHEtm3bRieccALV19dTKBSiiRMn0uuvv04XXHABETX/EX3//ffT/fffT4899pi4cx5+ud1PhUtLS2Nf9m/cuJG+/vprUdT92Wefpccee4xWrFgh0v9ycnKIiOi///0veb1eOv/88ykSidD27dtp2LBh4r22bNlCZ5xxBhHJL7B2373j8Xjo8MMPp3nz5ok7sC699FLyer1UVFQkHsjwxhtv0FtvvSXu2IVfBsctpDrUwIKU5XK56Oijj6bDDjuMqqurqW/fvnTooYfS0UcfTS6Xi7766iv69ttvWQ2shx56iObPn09EJO4OcDgc9Morr9BNN91EDz74oEiRIWq+OFi5ciWdddZZB+pjQit07969xR+7kBrQt8mrrKyMysvLqaqqimpqaqi2tpYsy6KGhgaqra2l2tpaqqqqEmknlmXRQw89RL/5zW/ozDPPZO/1f//3f1RbW0urVq2iTz/9tEWfRyIROv/882nFihX08MMPU2FhIR1zzDH0/fffUygUoo0bN9I777xDU6ZM2V8fHxLAcXvwcDgc7A6ZdevWiVp2u/+5XC5KT0+nP/7xj+y1K1eupKOOOory8vJo3LhxdP3111P//v1pxowZZFkWrVy5ko499lj629/+Ru+88w7+CN5Pfvvb39LVV19NvXv3JiKiadOmUadOnejaa69tMe+LL75Il1xyCbndbnrkkUfo3HPPFbWxAoEAbdy4kQYOHEhERA0NDeRyucQPGJFIhNavX09Tp06lFStW0BtvvCH6OBwOU1NTk7jjqr6+nizLokgkkrA2IrQOjltIZfgCC1JeOBym2bNn04IFC+iqq66ipqYmIiK67bbb6J577qHs7GzKzs6mmpoauvPOO8Wjvrt06UKWZVE0GqWLL76Y/vGPf5BpmvS3v/2Nvf/uX6kAAEAaO3YsderUifLz8yk3N5dycnKovr6eTjrpJMrJyaGcnBzKz8+n5557jjZv3kynnHIK/fGPf6TXXnuNfv3rX7P3ysrKor/+9a9UWlpKGzdubLGsYDBIVVVV9O9//5vy8/PJ6XTSzJkzKRQK0bZt2+jyyy+nSCRCkyZNYkVsDcOgnTt37q9NAnDQCYVCFIlERHmFfv36UVNTE/sXCASopqaG7rnnHvGFRCgUorfeeossy6L333+ffD4fZWRk0Ntvv01fffUVLV++nBYuXEhEzXXrdn+5/Nlnn9GUKVNEeim0rXvuuYfeffddstlsdNNNN9F5551HEydOpJKSEnr77bfpww8/FPOuW7eO5syZQ7fccgsRNT8oo6ysjF544QUiaq5j5XQ6acyYMUTUfAfW7ruviIhOOeUUevzxx2nixIlUUFBAAwcOpBNPPJFmzpxJTqeTsrKyKCsri2644QaaP3++mL755pv34xZJTThuIZUhhRBS3u4nWc2bN4/OPPNMWrZsGX3wwQd03nnn0RlnnEFbt26lnj170ttvv00FBQV03XXXEVFzoWCbzcaKSMZiMfL7/azwOwAAtLRmzRpR32R3+kp2djZ9+OGHdMQRRxBRc9qfZVm0fft2CgaDtGDBAho+fLgoLLzbxo0b6bLLLqNZs2bRaaedRl9++SX1799fxDMyMujTTz8lwzDEH2B5eXm0dOlSmjp1Kq1bt468Xi/NmjWLjj76aCJqvlsgIyMDRdwBErj11ltp+vTp7P+8Xu9Pvu6uu+6ie+65h6644grq3r27+P+hQ4fS6tWrqWfPnjRixAi66qqrRGzDhg10wQUXUOfOnePWx4NfJisriwYOHEjl5eXUq1cvGjx4MPXo0YN69OhB9957L82cOZNOOeUUampqoiuvvJKGDRtGs2fPpq1bt9L69evJMAy6//776fLLL6cZM2bQSSedJPaHhoYGNp526dKF+vXrRzabjV577TUaMWIEnX322RQKhUT6GhHRyy+/TK+99hrNnTv3gGyTVITjFlIZ7sCClNbY2Eh33nknXXHFFXT44YfTrFmzqKKigoqLi+nkk0+mjh070qeffkqxWIyeffZZuvnmm8XJ94477qAOHTpQfn4+/etf/6Lf/va31KFDB+ratat4tOzuXzZUO3fu3OOjh+HAQ7+kLvRt8vF6veRwOEQdDsMwKBaLiceqEzWnOTidTurduzd9+umnNHz4cPYe9fX1dP7559Nll11GRM1/6PTp04cOO+ww+ve//83mVdMldps+fTp9+OGHNGvWrLgX77vTXWD/w3Gb/H73u9/R1q1bRTrwCSecQMceeyxVV1eL8gtfffUVde7cmT7//HMqLy+n9evX0/XXX09ut5s9bXK3nj17tvi/Tz/9lMaOHUvDhg2jr776irp167YfPl3qW7t2Lc2ZM4c+++wz+vLLL+nWW2+l1atX0+uvv04PPPAAXXXVVXTCCSdQ//796YUXXhBPHiwpKaEFCxbQ999/T8899xzt2LGDRo8eTdOnT6f6+np6+eWXacaMGXTDDTeIZfn9fnENHQwGxTV0fn4+ffzxx3TbbbdRXl4e5eTkiLu6YN/AcQupDHdgQcqKxWJ0xRVXUCAQoPvuu4+Imp9CuH79elq3bh1t2bKFZs2aRdnZ2fTSSy9RWVkZTZ48mTZt2kSBQIAef/xxevzxx4mI6NJLL6VRo0axPG/1DzGbzUbFxcW0fv16mjZtGuXk5IhUREgeu5882dDQQJWVlUREVFdXR+FwmAKBADU0NFA0GhVPw6qpqaFwOEwul+tArTK0Evr2wPvyyy9pxowZ9MILL9Abb7xBtbW1NGzYMOrevTvl5eWRx+OhxsZGWrVqFfXs2ZNcLhelpaVRRkZGiy+fdqc3jBgxgurq6ui5554joubiwLNnz6arrrqKzjrrLDryyCPpmWeeETVYiPjYfPPNN9OVV15JGRkZZJomHXPMMS3We08/RMD+geM2+RUWFhJR83HywAMPUHFxMX355ZeifEIgEKD8/HzKy8uj008/nd59911WDHq3eMdZY2MjPfTQQ/SXv/yFrrjiCnryySfxBLo2EI1G6b777qOHH36YbrzxRrr44otpypQpNHr0aJo0aRINGjSIcnNzyeVykWVZFAqFqKGhgaqqqqhjx4509NFH0/Lly2nAgAEt+mPs2LE0adIkmjJlCh133HFE1Ny/ixcvFvuFx+MRJTuISBRxnzp1KhE1p7iFQiGW5aCuu2VZ5HQ699XmSXk4biGlWQApavPmzdbAgQOtDz/8kP1/U1OTZbfbrfT0dCsrK4v9y8jIsNLS0iy73c5ec+6551p//vOf2f+dfvrp1qOPPmpZlmW9+OKLlt1ut4jIysrKsubNm7dPPxvsncsuu8y64oorrCeffNLyer0t+l/9l56ebjkcDmvJkiUHerWhFdC3B1ZDQ4M1ZcoUa+HCheL/NmzYYD388MPWWWedZY0YMcIqLCy0iMgiIstms1mGYVhEZE2cOLHF+91yyy0WEVnHHXecVVpausdlPv/889bkyZOtYDDI/v/dd9+1CgsLW8yfkZFhff7552La7/dbRGSVl5fv5aeGXwrH7cFj0qRJFhFZubm5VseOHa3MzEzLbrdbXq/X6tKli9W/f3+rW7dulsPhsP7973+3eP2RRx5p3XXXXZZlWVZdXZ319ttvW1dffbWVnZ1t5eTkWK+99tr+/kgp79JLL7WmT58upisqKqy//OUv1qRJk6xevXpZPp/PstlsYlze/W/27Nlx33PXrl3W0KFDrT59+lg1NTWWZVnW//3f/1mZmZkWEYnrYt1JJ51k/eMf/xDTN998s+V2u/d4rPt8PjYv7D0ct5CKDMvCT4+QuoLBIHk8ngO9GgAA8DNs3LiRZsyYQffddx97/HtrvPnmm3TjjTeKO3p283q99PHHH4saWADQeu+88w59++23VFRURL169aJevXpR165dWc2jUChEDzzwAP3ud79rkbI7duxYmjBhAj3yyCNUX19Po0ePpmg0SpdddhndeOONqC16kDBNkx599FE69dRTqV+/fkTUXO9w3rx5NH78eBo2bNgeX3fcccfRCSecQHfcccf+XN12D8ctpCJ8gQUAAAApIxKJUFNTE2VmZh7oVQGAOKqrqyk3N/dArwYA/Aw4biEZ4AssAAAAAAAAAABIangKIQAAAAAAAAAAJDV8gQUAAAAAAAAAAEkNX2ABAAAAAAAAAEBScxzoFYDUY5omlZaWUkZGBhmGcaBXp12zLIv8fj8VFhb+7Cd57Qn6Nnm0Zd+iX5MHjtnUhb5NXejb1IVzbWrCMZu62rpvIfngCyxoc6WlpdStW7cDvRqgKC4upq5du/7i90HfJp+26Fv0a/LBMZu60LepC32bunCuTU04ZlNXW/UtJB98gQVtLiMjg4iIJtDJ5CDnAV6b9i1KEZpPs0Sf/FJt2rfqL1R7+zDUUYPYZPafd4r26o/7sVjBirBo20Mxviphk01XDfHJeSdVs1j1tmzR7vfwNhaL7apoxUq3jbbs22Q4Zh3du4j2psu6sFjvGbJfo1uL22R55oShbLp6gEe0C15dwWJWKNQmy2yNpD5mW8k2iB97O4/JEe3s43eyWHmt/Jz573pZLOObzaIdHN6Dxbadyn9VPWfMt6K9K8S33bcfDBHtwkcXJVz3fSkV+vZAsxfx/SC2eVucOfevpOpb/e6PvTy/qmNy2Ql8TO5z7gbR3uHPYrHyTfmibQvzdYll8nPv5GHfi/ZHK4ewWL/fymWY/obWrnbbXFsoUu1cC82S6pjVJbqDay/36aZTRol2+lp+XRvbuKXV76Oe3ysOy2axvJe+pWTQ1n0LyQdfYEGb233rrIOc5DBwgj6gfjzPtdXtzG3at2yd9vIi0+Fhk840l2jb3TzmcMg/eO0x7Qssk3+BZXfJ19p9bhazeWXMYXOxmLE/9/c27NtkOGYdNrmdbR5P3Bi10fqZ2r6j9rm+DSyD7x/7VDIfs61ks/NjRj0WHWna8RRWYk693+Xx5dD6y+blX2C50+Vnczn5ccmWfyDPSSnQtweaXdu39uuYm0gy9W2LddjLL7CUcVcdH4n4udZhxj9H2mx8XSwvP/e6lONWfR0RkcOQyzB/zjZoi2sLVYqda+FHyXTMtnyzBMG9PJ6V86vjF4yj6vldHxeSZp9u476F5IPEUAAAAAAAAAAASGq4AwsA9p1Et/InuA06dvRI0d50Lh+m7jvm36IdtHaxWE+nTOHrcM3HLDbczX9xaq0X6zqx6UiRXbSvOoOns30dkr8JXLvsQhbr8nf5y5Tx9fK9WpdUYs/JYdPbz5G1I647fRaL1UxOE+2VdYUs1hhxK21+502ntHo2neUMivbxOe+x2J1fnSXaRmwki+U/t6DF+rd39ReMZdNdrt0o2jWhAIv1cNbK14X4L7Yjuu4Q7Rv/NpfFDvfI4+ndhkwWazR5X39V11+0tzfwfWvAKetF+6iLa1js0cUTRbvvpUsJEsv7mm/b/unlor3K35nFGq6RqWSxVetavQx7n15s+qwP5PHXybmWxT6qGS7aW4/nY3ystq7VyzzotTJtztGVpwKu+T9ZH+a0w/n+n+PYJNrlYZ4en+GQY+lDXf/LYr2GpsddfoMZZNOzAh1FOzrUzmIF8/1yPRv4eXjJQpnG1P+vPP0pWlZOAAc1Q7m/xIzFnc3erzebXn9NgWh/cvYjLNbbubxNVo1Ivk/IirBI4B45Pf6F21is+33ftO7tbXwcSPT5of3CHVgAAAAAAAAAAJDU8AUWAAAAAAAAAAAkNaQQAsC+kyCVwZ6fJ9pNb/KUg2t7vCvaLoPfPrw1LNNSdoV5WtEPjTI9Imrx25C9NvkUwr5enmKwI5zLpiPKa00rfhHI3wY7sOl8p3xS0u2H/I/Fsl+WaVV/WHUqi3WasibuMlJVrIancrnq5L7y5p9PYrFx0xaL9qWdv2axIzyVop1j97HYqnATm94alelPt373KxYr/ET2eTh+Bky7Zhs2ULQbz+HpWUvXyLQvmy/KYoZN9q1l8uNpe1SOA3c1nhl32VGT/94W047L6nqZZhqL8XnNqJxetrQPizk7y+Ny/XNjWKzf1YsJOLed9+1haTLN7KRM/vTOTh/Lp3dujvCx+vL5l4r2R0c9yWIeYz6brlCKhK8O8RS4Hp4q0d5Um0bQknrcnvwm37Z5dTJNb3NDPos1RWXaeyTGz6eNYZnC+86qESzmS5P9rh+L4TD/s8PplOf37rn8nLDdIcfrdAd/EuxxR8h9rWIMH7DLZ4wT7bwXkf4NB4GfkTY3Xnmi9hU5M1gsV3nwyU7tLeY1yWOxwN7IYitDsjTDmiAv03BMOr8+LXTIMaM0yp/y19EuUwiXXvUYi31/ifyM167kJTY6nK6khuufXd02SCeEH+EOLAAAAAAAAAAASGr4AgsAAAAAAAAAAJIavsACAAAAAAAAAICkhhpY0L4ZWn2jRDWb8nidpJoT5WOcM99Y2OplGA5ZV8KKhPW5W0dfb1WCz5BMMt+X63leHq9rtMgvHw0c0WtZKTn2TTEni9kM+Z4uIxo39n1jNxZzGPHz6p0JYrpdYVkPoDLC63KotbTuP+R9Fpt+6Fly4tuVrV5eKjFdcvs4ak0W++KlQ0XbeTnvj+qY3M659gYWWxPsy6ZfXjtWtDu+6mWxul5yP/NW8OVDs/W3e0TbrLTHnU+teUVE5HbLYzYa5a+LKPWptm3nNXhs9fISxfTwPjG0WlqWK0GfqfM6+LrFimXdtIKBVSxW92u5v2S9lmCMb0c21Baw6XCe7M/vmnqy2HDPdtE+wsPH476XfCfaf190PIvd3mkOm14ZlON1mo3XQlrpV2ti1cZd75SX4Lxf85A8/hbU9maxLfXyusbj4H2knrNCWg0sQzmfqjWviIhCIXncRrWaVw4nH78zfEHRVmtuNS9TvrY+5GExu02ea9Oc/Dqqz+Xr5Ov+ncNieu1FgANGvY5PUNtp4FJ+DN2e961ozw/y/TvbLms6mha/xsm2yZqgQe26+ihvsWhP9O1gsVLt2K81ZZ2tjto1V7lyPVaufaQMmzzWl435F4sd87/TRdt1/Db+QnXb/Iy/2SC14Q4sAAAAAAAAAABIavgCCwAAAAAAAAAAkhpSCKFdM+z81lgrKm+htw0fxGJrruEpYcrduORsPJTFHE0yncU5ZwlfRqK0QeX2WH3dyJDfNyd6D8MhD2vDsoiicWfdr6LHjmLTJ+fJNLrvGnuymM8mP59b+wAdXPWifXya9nhfu7yd2Gnw7+f9pnwfn/bI4pDF04/UV2YojyUmIgqYMh1jc5QPoR/7h8r5Yvx1pNz5HLR4qsT6K2V6RL9vqV1yNsi+C+TzvsvcJvtu8T2jWezTbjLNK5jPby/P3Mr7tVOlvBU9UMD3AVPtygQZuu1Zj1fkNqu7sZ7FaqpkSo+1i6f7BNKVjRuN/7uZEdbSAvPlONCiS+r5MWQEW/d7nE1bRixT7hMVJdks1g9pgy2UbMtj02l9ZfqYPq5VmWmibTeCFM/C0h5sul+3NDb9iekW7U7OWhbr6Jb7YUXcJbQvjqKebHpI3k7RLm7MZjGfU57PQtr5LNcj05EKvPw87DDk2Bq1+LEXVlL/wiYfZ7NdTWy6s6dOLt/k+49aIiBk8nUrb5LjjZ5e2NHjF+11FwxjsQ7TvyGApJAg/a368nGi/bdO01lsdlOmaDtJS8k15PEc0a6B1ZTgmHZG3RyVqfR24uull9FQ4yEtFVFNKYxo98gElOP7v40+FntrwBuiffoFt7IYK9GClEH4Ee7AAgAAAAAAAACApIYvsAAAAAAAAAAAIKnhCywAAAAAAAAAAEhqqIEF7ZpaL4qI18AqPjGbxS4c9xWb/rqiSLS3uTvx91GeXuuYOI7F+j1VItrRrdtZTM3vVtdFZ8/hj86lmMxRj9XLmiCWlSQFsIhox7G8JlSeQ+bK5zgCLBZR8uo9tgiLVUZk7YvznuK58mmlsi5Hxjb+aO+GbrKOSnoJj1k2Xg/AFpbvE3PzHP9IppzeNYLvP388/3XRXtrYi8XUul4Ri7/u0WPeFO2nqQ+1R7aoWtuA90cgX6sHp/BVyr5KL+P1ESI+rQ5aV6U+nPaIZ0N9Kcos7JFazy8wdjyLHXriWtH+dllfFjMccoPafLx+n1ktj0u9PpVVKccMe0irXeXlnWQpy3D4eb9H8uQ4aGq/29l8MtZ/Gh+P4z/YvP3KWM/rFHmOl+OzqdVCKg7Lell1no0sZk4YrkzxfWJXrJFN25R6S2kGn3dbIFeZqoy32u1KtEMmmz48S9Z9+swcwGKZDnkuLHTXsljAlMdfroP3iXqOVvuHiNfM0fcJt3Y+t5N8rX5eVN9Xr49Fykdc7u/KQw5ZZyt4tJ/FiJcTAthvEv29oVv8wNOivTTE5ytyVIv26jD/28NvyWvpNIO/zlSuqzzaBZBLOQ71+liJ6POqNbH0mHo8Z9p4TcS1EVn3cMEjz7DY5AWni3Z0yzYWM5xyjEpYXxhSDu7AAgAAAAAAAACApIYvsAAAAAAAAAAAIKkhhRDaNTMY/9He4RENbPrsrCVsWk1t+8LGb6Ev+aybaMeG8vfZ9neZAmcu42k4eT/I23ozl+1kscoju4h2xSiePtNRecpsztxNom2Z4aTJqjjlpEVsulF5NLqeJqg+zjvfwVMANjR1FO3Ch/kjsf3njhXt8kO9LNb5b3Lekt/y7Z6/ki8/ki/TFSw7vw3aVyZvU+7xh29ZLHiufJ2aMkhElO+Un6M0ks1i12avEu1nRp3OYtbSVdQeqGmchvaoZJtyt7v2VHYKZu/l7zD6XfLKIk1H62+hb6+6/5Efe1MulLf2r+jYhcWCVfJYjAV4BzoCsv8cDfG3u5oiSETkaLRpcdk2ndr+0yCXaWbytIqCOR65bpVVcZcPzdJ38HOdOo7rj1vPsMvz6+dNBSz24VvPi/bmCB9/Zzf2YNMe5dHwerpaSUOWaGcmy8nuAKsYkcam1e03PmsTi6l95tRSjiqjMk9vfnVvFluxXabt2bd7WMzRKI9jO8/WJ2ejdmwqXR9z8+O/9hC5PjcdNYfFdoXluvVL28Vi3V1yP/jKx9cb4EBJlDIYndudTa8Jy/Pr1ghPE5ySVivaq7WsOTW1lyf9ci7LTBDde2raoJ5CGLTk9bE6JhERbY/KVPBdsVIW2zmpULQLnuYphFaUvw+0H7gDCwAAAAAAAAAAkhq+wAIAAAAAAAAAgKSGL7AAAAAAAAAAACCpoQYWtD+Gkpet1dppOEfWULp40DwW2xThNTy6uuSjbH9VuJQv49dy+sl1R7FQ42ZZs8OWxpdfNlZ+p1xyOl+eFZH58znfaY+bvqRctOvDRaIdjQSJ3qekcGeHr9j0h429RFt/tHaOM35+fpG3QrR/oDwW++rvT4l2SSzAYkf1u1m0t5z6FIsdufIMNv2/Q94SbZ/NxWJ/qDhEtBcO44/2Dij1YNT9g4jn/0dM3n/vN8qaQTuPyGKxTtqularC6fK4VDYjERHZg/I4sbQaWGpJHD1mJShlpT3dnU3HeEkX+FGiR1a/epIyzv0l/nvYA3zDq2WTYl4+HtqbZAfqfavPawsp8yb6aU6LZb+yIMHMoEvfwetG1po+0dbrU6n1WHYp9ZSIiB6vkbUMM7RHquu1tNYHZQ2YPAevKWkz+H4ARAVP8336lbnHiPbGyzqymHtgnWh3eZAfZNbilcpUBYv1UabtmbxvjYx0+R5pvBalmcmnY155XnT4ecGsDtNXi/bHlM1io5bJfW1C2noWK4nmiPbEwnUsthS/20MSeqj3u3Fj2XZezcpuyH1Yva7UmdqJkNWk0q6N7NQ246i6DH35dpLHrL7e2TZ5vZ5n42NEzQj5tw//q4ha/A0H7QdGcgAAAAAAAAAASGr4AgsAAAAAAAAAAJIaUgghNRkJcocSGHvHt6J9TPrqBHMSdVFuuW20eJpZbUw+xvoPgz5isYp+GaIdsfgh+MKG8aLdsJmnktmj8jONvXwZi52Vu1i0H353iGhHrQP7iFnr8OGivSi0lsUSPX5dfcRuJ2cdiy0L8Eesq04+61LRtjXxz969m9x+J//+BBbLMHi64dmhE+WETXu098R+8nW0kMW+rJGxo3N56oKaThPR8qEqonKfCI7jKTL0GLUL6qHQIvVPzfrVf3ZRY9rrEs1r055orc5raulq0ExPG1RFN2+V7S3jWMzVQ6ZARIM+FrM3KJ2iZQ7b1Ywi7Th0aM8ID+bJ8djGhxP2U517R/yUC/hpztIaNn1Wmpx+po6nkqnjmp6i4rPF35f8Js/hZaknJu+/YEQOHOkERETrnzmU/4ey6Tt/wfvBWC77LJzDB8Xz1uwSbbt2cG4KdhDt1fU85afEL3siFNXSEi3+PoYh00c7ZvBz3xVdt4n2O7tGsdh3V8pUyOV1vfkySmVJBTPAz+1Aia+PlZQsw8GvT61YbI/zEfH0cqLE5wrGpp1sTX3wbh3DLa8nrbC27IMgzawsyq/3s10yRbdlmqDcRvpx6TflsZhha2Ix9Zrbo5XtUNP9wtr1qV1LDVev1/U0Qf21qjSbPKFXxfhoraZJ7tTKf8yY+Lxo/4mGx31/aF9wBxYAAAAAAAAAACQ1fIEFAAAAAAAAAABJDV9gAQAAAAAAAABAUkMNLEhNe5nzvqFB1nWoyuQ52mXRbDadZ5f1GvRc857OStGuiGWwmN0p88n1fPH7DvlAtIMDed67mnc+3lPKYr9afbFop9FmShblt8uc9072ehbbqjwQN6TVNemo1L3SH78eiMlaC9HjRrJYU4F8n6Zc/v28uojGTrxmhlYOgBxBuf/EXLxeRChbTgen8lo/49O/kOsd4evdz7NTtPV6MFlK/v8lAxex2BfE64ukKrWUgiPAt496mOh1rdS6V8ZPlc9IMCzYQ/Fj8PNYNm3/TpfjY5XJa2DF3HJep58fa+oxa9P6J0EJpYT7gXfX3tVHhGbRLdvixvRahhm2YNyYKqb9luozeOe6lYJ1Pm1HqK2T9Sbz4y6hfekyl+/jpcfIduXp/Frl4dHvivatH/2axV65+1TRDmXxPqpXTqHRNG1gVSYthzaWO7XaSWG5ro0mrwP017fPE22Xn7+u5g6lrl4km8XMWnkd99tjP2Cx948dKl+3s4zapdZeHxv6yTa65/noZ9S8IqIdv5O1Xh+/4lkWe7j3EH32VrFCB98J3DxihGiPcc9nsQ1R+fdHgd3PYnWm7IcCh15PVV53Og3eX2otLbtWi06txxsj7TysXXTFlGlTG7ttSk0uvXaWWoNLjw1xyb8Pak2+/IDyOoDdcAcWAAAAAAAAAAAkNXyBBQAAAAAAAAAASQ0phACKArdMC/QYPK/Mpd2OWxrJEe0NTf1ZbH29vIV9UsdVLBZR8qH0VDI1zaLQyR9Xrt7+q2W80eEdZdrgckoe0W/lNvpL/kksdm6HxaLd17WLxbrZ5e3FL9UNZrGQKYetWa88w2IRK6a0+S3KQWXao90a77PxFEab8t1+yOJb22nI/tsc4bF/Vh8u2l3cvP/U/Um/tfuL2gGi/fUnQ1msB31D7YGeGqgylbvktTvPE6YXJmJqZz97SB6LTQVIM/tJCR5/7tvJO8J+iNJpWh/ZQ8q21jJbTJf8D3uQ90nMw+d1KHE93TCcK5efXhI/lW2vHwXfjtWYTXFjamqgk2JxYxEtlV6fVsd8PfXE9OuPmIcj71rAphtiMgVnaWU3Fvtn6QTRvviYL1nsD+esjruMBlOmh1abeqqSPBZjlpYOZPGB16Nc82TZ+D7S1SHTqFaF+X5217Ypor2hkiePer6Xg8OTm6ewWOed7eN82mqGdq5T0gt/zvi36/rxbLp2iNwnHjn2XyxWFq0S7SWBIhar/KCfaOefur7Vy7d5ZJ9vuH8Ei/W+fYE+e1IwnXIM1K9J1bS9bg5+Qgspx5T+N0SGvSluzKUca3qMlGtSm3YhpY+56mvDCbJR9bRxNYVQ//uq0ZRvFNTGiEk++fkfjb84aGdwBxYAAAAAAAAAACQ1fIEFAAAAAAAAAABJDV9gAQAAAAAAAABAUkMNLEhNSl6/Yef1NKyozPW25+Sw2FHZK0W7IpbJYrUx/vj3bHtAtP1RXpCluknOO8C9k8W+C/QU7QIXr5OkvufWMK/r0NctH/n8cPlxLNbNUy3a0eOOlO1okGje+3SgdH1Q1puoe5DH/tlpnGg3DeV1OcqulvU17h3KH4O9qqFQtP9WxetjbQjI2mNpdv1R7HrlsNaxGfHrlFVF0lisj0/W8pqxcSyLdTh9bYKlyNpr7aXmlaNTRzbNyt7oJajUx7L/gp9d1FIOpoMvxBmUC9EfC29Lk/1sNjYSJJa5VaszpRxDpovX0whny3ZasfZI7qjso1CuVs+jlvefWlZOO/TJssnX7uUwAHFErARFUBQx7fdSu/K4dVM74EOWVpNQ2X9ien2WRvwOq5s553A2PWrCOtG+vfccFrvt21+J9qbZvB7RKwXyWiJtB9/O6nit1xOMea09zrcnhnKMO7RyauqxGknnsWA3eZBvPOk5Frus8GjRfqUHr+s1cenlom2f913ilUsVCepcUYLj1xhxCJvedJ68Ji4aXcxi8/r/jU2/Vi9rWc2p5e9T3Civu0/qwGvEvj30n6J9HU2g1iq9ZqRo9x65vdWvO5B2jZY1odJtbhaLKWOiU+u/OqVeVFk0i8V6OitFu97UCkXGeX8iPq6a+r0t2i5iV66B9XnV2lZ6nSuVXge2o13Wn9wc8rLY9midaIdPHM1irk+WxF0GpDac+QEAAAAAAAAAIKnhCywAAAAAAAAAAEhqSCGE1KTcFm04+G6uphAWXzGQxY71yXS1b4JdWKzA4WfT6qO+O7vrWCyjo0yB01MPcx0yXcwf47fK+pTnv+vLG+mStwbfPHcki2UMlo8lznQmuBU4iUTLykXbqbSJiLo0yccge/7Jb0NW002yHAEWU/vBbeO3KOuPZlfpjwm2KfdM66/Ld8p+qY/y/lP7LPRtbtzlAZEV4PkidvVJ0a3LSvrpefXMiQSHg6l0s6uevxBpgz+Ps5EfT0FLzwlVKLPq/RNTsiq0Q5TcNbzjg/lyGVpmr/aeCdYFfjY9vSUeNWWQiMij5odpfas/ft1U9p+gll5oFmj5okDe/rVsuiYor0G+UlK7iIjSFstzWNNhfJyb3He1aJvawZkoJV89Z+qvs+nnWiU9VD9nR0352u+qeZmB+ndkKYEHxvBSAt8W9xDtIWUXsFi37zaKtpbonJxsaq4mX2ObR6aImcEgxZUgTdDesQObXveIvO59d8IzLFYSk+lq8+r5tfP/lR7LptOVE3qBq4HFPt/cV7QD+S4WO/nV20W7Jy1gMUcPuQ9suZjvD0uueUy0z5p8CYuFjx0l3+OzpZQs1NOi0+DXmRFL/t3iN1t/QaQeX36TX5/m2WU/hLXrWnU81q959fGY0VZNTU3Ms4VYbK3yt1B3By+f4jbkuN5o8nTKXJvcFvU31LNY/ifxVw1SW/L+dQsAAAAAAAAAAED4AgsAAAAAAAAAAJIcvsACAAAAAAAAAICkhhpYkJIMp8yrT1QbIH8lr59RGZN52Nk2Xl/JpeWBqznk43O3sFiFUtvqu6ZeLJZhl7V/Cmy8zlU3p6xltTLIc/xnNfYR7StOmctibz53vFzP2d+Its1KomfGa7VSbG6Z596ij5SaDZvDvEaDS6mToefq649qV6l1rvRHse+tRHVAtLJoTIu6bDFl32rlY+kPdpb2OX/qcettzdCWH3PHmRH2zIxfF8MW4XVudlXJx6/bwvzYc9XGPxbdtbIdifDxQys/R95dsj+bCvi8jgZ159IKLsEvYtcLzbGY3NZ6nUH1MeqNxA8+vU6Szy7P0wGtPkrfrrtav7LtxJFdNrNpr7L9JmV9z2ILyg4V7fomXl+sKSavo0oCWSzmsMk+CkX5+cxpl2ODWseKiMjS6uEZSg2sfA+vwRWIyvU5JLuMxRYHZA2sXm6+DwzqJOftnV7JYj/07C8nvuf1dJKCdp1k2OS0pQ1dCeteKRrPPoxN75wi94ePj3iSxb4LdhXt6bt4Xasm5fq4p6+KxYam72DTuyJyzC8LZbLYxYO+Fe1FNT1Z7IJTvxDtEy9YyWJlMVm/7OntR7PYGd3HibY9vYTFPLVy3+VV1g4sZ0OCmDI+1pn8uKy35Bioj5WuBOc3dd5E4/bPYdOWp9bd8hn8IlityZtr59fO6yNyzHAZ/ORea8ptkeFGzUNohjuwAAAAAAAAAAAgqeELLAAAAAAAAAAASGpIIYT9T79F2iFvjzXs2neqNjltBvkjWROlsFiR1t1m+o9n+e3TxdFs0S6LZLNYtp2nFKqPi13YxG+vVx9JW+Dgt6nXa4+2VflN+VhkPT1Ofc878jaw2L/rJsZ9z6ShpWyZoVCcGYmcP8iUzI2BjizmVW49rommxX0PU7tF2qY87/enHp+tprvo/aAuM90R/zO46hOkAtq1fLloMt3Yvn/oaZQspt0F39qMz719XfO8cn9p8dToBI8yb7ds2j6sbJdQNu/b7Cz5yOzqAI+FcuVYrR9NRqWSCu7jnWvP5GO8GU6Qg2qTx6K/u4eF1BGktecNkGxG/FQU9fHreqqJyq7FIsT7Uk3VDmrpNCd2XC3anxBPVWqvHDY+RlWH5V4etPj2c9XLeZ1entYTVQZQl/aeLrs8Z6nnVn35UYP3pZ7yFFXOr05tGelOOa+eru+riH/OHJBRLuez82M60F3uIx6eTZkc9NT6Vl4bbP/9eDZ9w3kfiPYRvn+w2Mf+IaL92K7jWExNEzwsk6eiqiIWH8dN7WSrHvtRk+8Dy+tkmmL3tBqK57cbz2LT7hO2KlM8ZXHTX2UK4QtnPstiH9QOF+3VVwwSbVssRPT9+3GXv69dct0s0W4weTpoo5kr2nlaOZNhLlmGRL8+tRn7twSFXlqlWtl/9AIbuXaZM5lh8P1lcyxdtDvZ+d9MpUp9h3mD32OxE40RcqKdlN+AZrgDCwAAAAAAAAAAkhq+wAIAAAAAAAAAgKSGL7AAAAAAAAAAACCpoQYW7BdqvRs9p1+tO2LpSdN7qel0+Wjo4ik8R/vCEfIRvmXRDBZbFugp2ln2JhZLs/EKLWotidJwDoup9apyHfxZuR2UmlgxrW5ASYS/j0qtwbUjyt/Tf5pfzvdK3LdIKoZSB0rfJ2L18vPVa3Wusp2yXwLKY76JeL0LvS6HWhNLf6S7Pq9avyGm5erXRH2i3dnFHxOs1nkxYsjHT8RI8/H/UDaXXsZBffK6Xp9KPYSsBGWQdJZei0+tn6A96t3mlXWTzEb+qPd2K0EtMF8ZHyvL1+SJdmYJ37ZRnxxHHdpT4Zs6yD6xaTWuXNv5/mNXFhnhwzp5y+T7BApxXP4SxqhD2HSWbblo6/VYXLb49XvU2in6eGy3tGllcAiYbhYb7ZN1ej6h4XGX1544tUFSrYuj1y5yV8qDzuPl/RVRahfpdbVMK37tMzXWshYl1xRVauY4+f6j1rt02Pg+4dkhr3kqo7z2WciUn9Gt7YPhTLkGvBregRM7ZqRobz+B79/2PvJayOvm9byGdSgV7TGer1hsXaCTaH9R3Y/FeqVViXa2g9dX6uOVy4tpvbUznC3aGXY+WOu1zdRadWo/EhFFlJN2ZSidxarDcly/p/cHLGbfJPfjHlpt2VmN8jO9WsHrgXV0y3nXTpXLM5scRNPogDk34wfRrtZKBOYp9aJyte33n4Yi0S508BpidlbrNf4xuq+o+0Gtyceans5q0fbZeC0+dV3d2vjlM+Qx/G5DHouh7lX7hTuwAAAAAAAAAAAgqeELLAAAAAAAAAAASGr4AgsAAAAAAAAAAJIaamDBfqHXOIrH0bkTm4706ija1QN5zZNAJ5kzPfzkNSx2aceXRLsixusjOJV86uIIz6ce4dsq2p/VDWKxSgfP1VdrZI1P28BitaZcVz1H/Y6NZ4t2R5+fxV7oMUu0I1odkHURWRuhzuS1In4z6HPR/g8V0MHAMhPkriv1dcJaHr2p1E/Q63DotT9UEaUmg1qjbE/UPH79PdVltqj5osyrlYTgEn329kKrQaWWa2hRXiXR5mqjMg96TSy2CPvPKK4FVHIUH6vTt8p21lZ+7Dma5DHjqOW1s6LZcswL5vKaGc5GrU5SSL5PQxdeG09V04G/ztGjm1zetmI+s03p9wQ1v9qT6iH8fDo7IPuoIcarCmXYeB1JlceQ+4FaO3BP1DG4WquJeLhbvjZ08hgWc89anPB92wu1DlRYO2c5tu8S7QwP37aJqHW1olotT49SL8tB/LjRa1mp9c/C2nWNXr9KZQTlWKHXX1KXEdKvH+z7vy7Qnuz4v8PI7m4+XkaevFr8/2A3r29qV46N+qiXxdIcchuUh/hxqW6TQi+v1Rk1ZX8VB3nd1Y2WvH70aLWXokr/5Lp47Sy9D3KcMu7WrrcKXHI6z8lrSqq1tTaE+N8Dat3ZldpFQcCUY36+tg17eiopGdj7FrHpzo7lor00xOubFSo1b/VaUmGljp1Luz5V64u1jNmVNn/PNEMuX3+dTu0HfTxRX1sd49cB/Z2yFplfO59WRDuIdl8n318blf31FKV+GxHRc8S3KbQfuAMLAAAAAAAAAACSGr7AAgAAAAAAAACApIYUQtgvQifJW/s73LWZxYZn7hDtQd75LBZMkPa1uqmLaKu3DxMRbQjLW4/rotrj1pVbnXeF+fPW/7Zlomh/eugzLHZ36SQ2bfPKW5irYjy98Kx09RG/PPXlmu5finaRaxeLfdjYWbRLI/zW7o7KbbU9nRUsdmbGetE+WFIIW+vonHVsenWgULT1FIOYcvu0nvqnP6p9b6nv69dSZtTb6C1knSXmaKMNpGYS/ER2iJomaGiPX7aU1JIWfedyElDClDp7/z6i3TSAP2I9tlWmmYWz+bYM5cr3zNjMjyc1W6yxB1+es45fvkQy1N/j4uec2hv473abL5MphN3v1VIIkTbYQuXRPNVFffx5yzFXeaS7lhespg2aP/FbqpqCZGoH+et+mXpSfTVPHeo8i9olPbVeZdeOjWhZuWh7HN3jvk9US+9Tz3WhGD8WHYbat3xdzFj8vg7G+Nigvo9dSzO10uRYsT7AU82yHTy9TaWdsg+YHv/cRA5b83VryWI5di45XDvXDJD79PAuJfw9vDKdapCvlMXSbDK9UL2OJuJlNMak82P2MI8cAyNa33mU4znLxvcHn8GvwZ1G/PP79qj8TMXa9blafqPRdLOYWj6iIspTJrOUlLuSUDaL1Sgnkm4fy/+PRoh20P5TNrFj3FhQS+nLVq5t66K8Hyoj8u+W4Z5tLFZvyW0W01J71bTBWIKLpUSxn0PtSyKi0pi8LtDLb6h/C/m0cg4Vynq7DVyLQTPcgQUAAAAAAAAAAEkNX2ABAAAAAAAAAEBSwxdYAAAAAAAAAACQ1FADC/YZw+Egw2jexQ57UD7O+riMVWy+gJKzrefq63WgVFlKnYNQhO/KuyKZ+uxCP3eZaJ+RuZzFvnzyMNGeELyRxTYd+xKb/rRJ5nDr+fjnbTlWtL/b3o3FxvbcItpDMnhNA7Vel/o4YSJet0CvDbAwyGtwHRSs1tWkUh/Zq8ty8Me0q/uPXvPKptQ8sml1QPQ6HWqdkICWq5+uPLq6JsJz/NUaDTFngjoCrfzsKU2rc6CWzzG0EkZqSRcr0c8u8Usf/fi+cgbLlqB/9FCeMg5VVlG7laAmVPFpshaRdy2PxTxyu7vqeSzQXR4LGSX8uKgeoIzr2iHjK+GdVDtYLsOzi58PQrlyvV21fAdqKpTjqjHiEBazlvFzFRD9athSNu2PeUXbrdWpVOsWxYiPo3pNy0Rcyrkv38HrXFUr9SfvGDiHxV4hfu6FxLJc/HwaVQZbm3Y+ddiU+lQJ6ku2qMelTap1ekztvNgQldc5Thsfe2JpsubSvG19WOyCfktEuy7qZbEE5cH2L5vR/I+IvIs2iP/u8UldvFdQnY9fb8w/RNaWrRnArwH9PeQHDXbm285yqydbfb2Uk6jJg44qeX3laOQxdzV/G3etMh7XxrR5ZR09e0OIxWx+vg+qLI9SZ8tI0JGlvLbsulo5fnitb0U7arV+DGoLiYY8vY6u0yW3kU27IBrklX83uLQTo1+5XlX/ZiAiCisxl1avUK1f2Gh648Z0+vuYJD9kbYzvrxWxjLixYW75mTxa/bRGi9dXAyDCHVgAAAAAAAAAAJDk8AUWAAAAAAAAAAAkNaQQwj6z89pRZHc3P7P43qwnxP+/UT2WzdfNI+897uGqZLFhXv6IWFWGTabY9c/kt8p+2NhVtOfVDmCxzs5a0f4q0JvF/nXvX0X70ptvZbFxs6ay6fqe8vvfaBq/xTdzmEwzunvERyym3nKr30ab624U7Wx7/EdBq2mXREQZNnnbtfo4eysWItpABzX1kcFERG7l8cIBk99a7FZumdYf06umCerpK3Uxfsu0+hhhn53f4q6mCZaZ8VNVw9nJkquQnCw3Tw1VUwMTpnnosZ9IG2wtI6a8kbYCps9NkFjjIfI4SVvFt5earhnTN6VLTYHgv6lZ8Z/EToZpadNyGTZ+yJK3i0w7i/r5Meuolwvx9+FpHOnL4i+/vTorezGbXhmUaXp6qkkswW+kHkOOwfrj3hPR0xTz7LJvj/LuZLHXfP1F2wzEP5+mmuImXnqhk0fm7eppRao8N99GfiWFz9T6KJogC1491+rpT3r6vpoaqKcbNkXlOUJ/nTqmhHbw49Y3QKZf1Vj8GivRmLI/xXZVkGE0fz57dpb4f0dRTzZfolR3265a0c7buIPF8tPk57ZCYYrHcGgbREmzJzuPWT6PnNBep5/PTZeMx3w8Fs6U09FO/IQQzsiW76FVj1APfVP76zXqk9vJ6c9lMXtEfqbMLfLvBisaJFr4Pu0vHWdv5//xR9k0tbEyoqTT6mU0WDkRLaamIqpjrL4Mn40f6x5l7NaXZ9eOvUSpiPoy4623TztJZygpyQFLK/HBxh6U34BmuAMLAAAAAAAAAACSGr7AAgAAAAAAAACApIYvsAAAAAAAAAAAIKmhBhbsM75dJtl/rG/yYf1w8f9F3go2n1rj6JOGISzW1Vsj2ll2/njdPu4y0V4ezGax2RXyceiFXv7c9vKIrDdQFUljsYAp8/FffPTvLPa38ols+ozc70R7mKuKxWpN+d3w6nAnFvObso6Anmtep9TEytA+b8SSh6tde9x0tpLPXj8kT7SjkeBBXwNLr2WViPo4bzPB6/RaLXp9DZVe+8PGlsFjjcr+E/VQXJbZRoWbDmKWU+sfpdRHi67bB5vLFo3/pi0ed42felqwDea1Be1lsh6dXufKKUv7tahdQlHZ8VFv/A1tRHktGEMrhWGxWlp8Bwo2yXUzC3gNIHeZXKFAAX8dr6zTfjk6dRTtUS6+jb4JyIEuV6lHRUQUU2oa2Y34dU1a1njRx2fZt9n2Rhb77ZIzRfu98U+zWNPR8jrAPYvX7ko1No/sB72WlLo9N4b49YgqzcHr0jRG4z++Xu0/n4PXWAorB7leA0vnscvBNqwNDjHlOsrUih9aThlL287HjXS7rHMU0gopmc7kq00Zq62TE2r7J9gy5LWz4db6KqqMc9m8jqjlVcZDV/w/Ay2HVpNQqcdlJCqCRkSWXb7W0GoauWrl/uLbqtWmM+Qy9GsES11Xffnqumoxm18uI7Zxi7Je8es17Qs7zu4RN6bXw6015Wc4VKsv9nUwoMzHX6fWpErT6kyptQaD2nFRq4yxTtJrGfJjRq0h60owr/43TEVU1p/U69B6lH4PWvFrbqEGFuyGy3IAAAAAAAAAAEhq+AILAAAAAAAAAACSGlIIYZ9JLwmRw9F8W6h6S/tnlTz1pKPHL9rDM4pZbF1A3u6+sqmQxb5zdBdtr53fjprlkreQ67fF5zvl8nq5d7GYevvt4mB3Fru2YB6b3h6Vj6r+oLEfi60OyHXNcfBbpFfWy1hAu0U/FJOHZDDK0ymz3PIzjcndxmLrqLNoVwxTbrsP2ojeo4Oank5CCTIAWvs4dv1R4nY9HynBe6rro6dqqCmoUR/SBBPRH7vNg3xS7Z5WdvHPpma66CmE0QzZr0nyFPYDrrF3JptWt5+lXVnElGFOTy8kUx5DLdIL1dmy+TFri2r7j0OugJ6C6tgm06usIj4eWxVyoeEsFiJHZ3n+ie4so/aq7vCeom03+AEYUDq0wOFnMTWFUB9zC5T0kmw77xM9bVx9/Ls6xhIRTSjaJNo+7VxRNUjuI4WzKKVZStqNfl5Sr4++rOqrvbJctNw23kdq2l40wcBr007Katqgnp6vv09UueZx2Ph5WP0cespTOEu+LncdH7DV1KkWqYfJl0G410y/crz5489HbTR0/ZxNZ8Rp62IJYm1lfyyjNRzHVcaN+WNeNl1typNmL23eaQ9cL9r/vfevLJZlk6/bEuWfPKIce7UmX56axu0yEqcQqunDYa1z82xyXC/QUgj7+WTJlsu2H8FiU7p/JdprwlpaaQKOnvLvtOjW7a1+HRz8cAcWAAAAAAAAAAAkNXyBBQAAAAAAAAAASQ1fYAEAAAAAAAAAQFJDDSzYZ2zzvyeb0ZxXPXPO4eL/7zl9Jpvvi1pZE+vDMl73qT6s1Nfw8cdnZyq1rHKdPJal1J3yaLU3aqIyDztk43UV1FzvshAviPK1yWtHRExZpyNk8podas2J6nA+ixV65WOS/VEPi23154p2ZR1/iHvQJw/X+bHeLDap0yq57F3yM8RCSVzwwdq7GlH643fj0WtX6bU4VO4E76nX0LApBZkcNl4rIKgU/9Hr8AAXc2sbSK1BxQ9ZVkSjrSqL6SVd1LIPtghfSm1fOQ7lzWujFTjImY74tWW00heklvcwnXzbGkoRjRal6JRZXWlhFmpRAyssO7SpkO9Aed/JfS1vbBWLbSyXK6cN42R2kHUOqR3XwCo5SR4cS0O8HxqUGlh67aqwMh72dPD6L+rhl2HjO0wHOy/osz7cUbT9Wu2WcVmyBlZAW37DIL6u7YWZoG7j2vIOLNZDqYGl15tUa1D5HHxbOpSD1W3nx1tEP5AUNkOvc6XU09Fep9bS0gWzlGN6eS2LqfXWWpz3k/iSCFKb18mPky2RBtHu5uLnJX0sVeX+c4Fojx9zC4s9efwrol3kqGax4W45Vn/axA+EPFv8ulNh7V4X9ZitN/nfML1ccpwIadf4t+4cKdo/PDeYL+QBWQMroi1Prc9FxK/Vt5/TVbQLH0YNrPYEd2ABAAAAAAAAAEBSwxdYAAAAAAAAAACQ1JBCCPtF0R3yltenvj+bx65bJ9ondfqBxb6rl49I3a6k1xERrWgqFG2n9vhln1Pexuqx81tOXXZ5m7x+e7maLpZm57fMpzlCbDrXLdMWM+xBFtNvk1fZlWV+W9eTxTr6ZOpEn0yecqE+flpNmyAi+ueW8fI9nvhGeU2EVsddkwPMUPPC4qcK1Gtplj5X69JC9Fuw1dRDfktyy9SJRLdvq7dP27UUh5DyqO8ETx0nsuLvH+1FQzdP3FiL9D5lM+uHFuuqn8gvtGxquhqfWU2B01MYfZXJ8iDu5NGUp6UVuOT29FbweWsGyZjp4dvd4ZfvE3OxEOuHrHSeZhZzpfF5g/J9ug3i6X7WLJk2tdOfoa233KGsbN7PlhN5wERERT13ybaDHxxHZsjzt1NL11/R1EPOpx3uh91xu2hnv7qAxV4v/ppNFzq2ivbmSGbc9eyqXdGO6bdFtOuo/dDT3tXzW2RHmj67UBvxsemN1bL8gb+Bp26asfi5eFZMGRtsWsqwnhZoqDEecrrk/pTt4ilOkXRl5o08dUi9xopoJxMTf/XAAaJfnvRyyjIhqyN63YTW6Xftt2z6cRoQZ07OlqadP3OVdHmbdiBq10rq9boV5H/7/K2Sp0JqbyRaucTHfHpANu3alkqzyb+9dsV4uZhOJxbLiYcTLBpSDu7AAgAAAAAAAACApIYvsAAAAAAAAAAAIKnhCywAAAAAAAAAAEhqyAaHfcdmJzJ+rCFiyhoMWa8vZLNVvS7b75x1Iosd9rvFon1KzxUsNsClPP6ZeGEcj1IoJ03L5w4q+dv6N7jzm7qJdkyLflYzkE3XRmRNiPIAr8vhtMevmaM+mrpJexR8XZMsFGLXakcE58l6FFtW8zz3rFmLqb1wKoVx1JpTRLymmV7XSp3Wc+xjWs0QPR5v3haP6FYkKKMFROQIavXnlK7Uy6Swp6tr5RnUbv6pbW6PKLWYtHnV2lqsvgoRObaiBpYumK91hDJeeav49qrMVDrUodXAKpMdEXPxmLtGTvsDWi28n/Hzm8sv69811PI6P4YpP4cV4DtFYzdZJ8S3pPXLSzW75shHlVf35edam3LujWn1hjo641eecjXErwMY0Goi1iYoXKTWM6yM8f1u8dpeot2PEtVmOfgZRuvOS86G+LWrsp28zpTPJY+bsIf3QdfsWtEOxXgsHJPHUfylNbMpg71dq2Va2SCPv86eehZb1EkZyxt5XZxsu5z2ajVQtUsGgP0m65IG/h/LZLOLnY+VTuWCJGS1/Z/q+jGjT+9vbzdkifZ4D99Oq8KyVliejR/P276V56ZeVEzQfuAOLAAAAAAAAAAASGr4AgsAAAAAAAAAAJIaUghh3zFjRMbP+4407d1FbPqHd5U29WIxY8xpot3UiT/i2V0lH7vq78FjmZvkrbK2EH90rbliTYK1a0gQ47e3R+LMpdOeGk8FCede38p3PUhY8dMcVEsru7Hpbl2rRTsQ41swouSQRbR8snR7KG5Mn1ZTYUJa+orPHj9PTX2dZU/w+Vr52VNZxqf8WKvpN1i0Q9laCl9T/PdRMnLJFtUe2f4zNnOgk3wjQ8tu8izfKtpIJmwWTeMb194kt18wRz9G5Dhr9/Ax1xaRx7Dp0NK985V2FR/HXWlaclK+fJz3oJwyFvq2b2fRtkxtdFZSH9V0QiKicIY8nnniYftS+PA3ot17WjqL2ahGtBeHurCYPq6qDP3R7IrFwUI2rZYLqDd5KmlvZ5XS5us28O/yvJzyx61T5sY1Rvl5MWDKaStBTt9bsyew6Wim3GruSt6XW+yybIKRYOPqu0CL5SvT+rhrRGVwZv1IFuu6NP5CG023aIe187eFn+3hAImV72LTJx/3K9Ge9sF7LNbXKcfVMYsvZ7HOlOjvlARsSmqvdh1r2JVr15+6Pk0wdltqGrepHaNKmrN+Dfy7xWeK9vdHPctivZ0Voj153Rks1uvOBYnXFVIWhnIAAAAAAAAAAEhq+AILAAAAAAAAAACSGr7AAgAAAAAAAACApIYaWHDQshavFG1Pgvkyv4kfi/8gb0gW3TJq+bRT1sDy2cIsNsa7WbRdWu+qjyXOsrW+IkpAK9rhUQorfdAwkMW6KHULfL14XTTGphUG0WsFtAOxer59uj25QrRrTx/CYk358reWSBoLsZomtljih7ar8+p1WzK3yv0j97+rE64rEFlFAT69TVaJiiYYkG1aYbKYUtrKHuTzFn4t69ZtPp/3rVbahnLmyYXOsQ1gsSyl331ZvKBaU0DWTUrbxo/LvA9krZH2d4Tu2Qm/upRNz5n5sjJVwmLVplqLSavL1EFua17djOgI70423cEuD3qfwevI9FLqXo2/eSqLZaxeSO2FLV1uI7uhn/vk3hvJin/VU/Tb1KgnYyq/zduIjzeRLNSfhOQQW7NBtLPt/HyqjmvDO/JxtVxp27Oz+HvW1sVfoHKdaWnXnFZrC/f+AoZD1umzIvza3bNSngUajuQr00M519c9z2viZmrnHGg/cAcWAAAAAAAAAAAkNXyBBQAAAAAAAAAASQ0phABwYCR4pK5q0Q+92fS37l5yos7JYpYzQVKo8nW9vUH77l5/treS5qQ+ylsLkU277TqspCcULEmQztYOUwZbMLSUsMZG0c58g6f+ZCptR+dOLBbt0UG0QzluFtOy1chbLFMBra074i6/Re+0cl9tT4ou5o/yZikBWopsgbK/24bxtFtrtXwfo38Ri5k/rBXtfp+2ft3yXkgQfK7174OjtCXj6+Vs+sTC4aIdPPVQFqsaJC8xvUdUsljHT2WaYFRbxmGzprHptAKZXpP+bgaLZb0ux4oMaj8pg7rozjLRXr9pDItt3CnHyILFCX63NhKcsw6ice+WTy4U7ZweNSyWv/zg+RyQ4pTj7ap/3MRCnmq5n6aX8HQ7By0VbbORp8QnNSv+9bmnQn7eshi/fqg1ZXkAA3Vf4Ee4AwsAAAAAAAAAAJIavsACAAAAAAAAAICkhhRCaHPWj7eaRylChLu1D6goNee4WW10+3/b9m3r0rLMJv5oMsNU7iFu0p6kEm1dCqERbJsUQv3JLaZLBmNh/rpoGz/mpS379sAcs9o2b+3nMPnt9NGo3D+iEf4eegphNCafamdZ/H3MhP2z/1IIk/uYlQztmLHU7aenClhKCqHSB/rrDC2WuE8OPgdL3+6taISP1bGQvMSMBXjfRpXjWB8b9TFffW0szNPG23pc3VvJ1LctzplKkmaMD3va9kuNFEL18+v7XUzZR1u77xz851rYkwN/zMrjLRbSxrywfINoVDto1XNmovNwkjGU7WxZPHE8Fpafv8HPrx8alWt+/RwT7xhu676F5GNY6F1oYzt27KBu3br99Iyw3xQXF1PXrl1/8fugb5NPW/Qt+jX54JhNXejb1IW+TV0416YmHLOpq636FpIPvsCCNmeaJpWWllJGRgYZiYqCwj5nWRb5/X4qLCwkm+2XZwyjb5NHW/Yt+jV54JhNXejb1IW+TV0416YmHLOpq637FpIPvsACAAAAAAAAAICkhq8lAQAAAAAAAAAgqeELLAAAOOg1NDRQQ0NDi/+vrKwkv99/ANYI4sGN3wAAAPsOzrOQyvAFFrRbpmnSE088QYsWLUo435dffkk7d+4kIqKvv/6a1q9fz+LRaJTeeecd/JGcRNC37c+0adNo2rRpLf7/7bffpoEDB5JpJnhCJew30WiUioqK6NVXX2X/HwwGKRQK7fGiOxKJUDTa/NSiDRs20OTJk4mIaNmyZXTeeeeJ+Xbt2kUTJkyghQsX0gMPPEBPPvnkPvwk0FoYj1MX+hZuv/12Ov/88+PGa2pqaM6cOUREVF9fT7Nnz6bGxkY2z8aNG+mzzz7bp+vZnuA8C6kOX2BBu2Wz2WjmzJk0depUisViceebOnUqLViwgIiIbr31Vnr//fdZ3DRN+tWvfkWVlZX7dH2h9dC37Y/X693j/5eVldHxxx+PQp5J4vvvv6etW7dSjx492P9PmzaNPB4P2Ww2MgyD/XO5XPTOO+9QMBikpqYm+uKLL4iIKBaL0TfffEORSIRisRjNnTuXFi1aRN26daOysjIct0kC43HqQt8mt2g0Sueddx7Nnz9f/N/OnTtp+fLltGrVKlq7di2tXbuW1qxZQytXrqTFixez1zc1NVEkEhHTpmlSIBBg/xcMBhP224YNG+jss88mIqLS0lI66aSTKBAIsHk+++wzuu+++37RZwUJ51lIdY4DvQIA+9Jf//pXGjBgAJ166qlERPTDDz+QYRhkt9uJiOj666+nWbNm0YoVK8jn85FlWRSNRikrK4sCgQBt3LiRgsEgrVy5knw+HzU2NtLmzZtp0aJFNHToUHI6neRwNB9GDoeDYrEYhcPhuH9MQ9tB37YP8+bNo2OOOWaPsT/84Q907733EhGJftetX7+ejj766H20dvBzLVq0iDweDwWDQZo7dy6ZpkmWZdGDDz5If/rTnyg7O5v1pWVZFAwGyel00q9//Wt66623iIgoOzubTNMkv99PLpeLvvrqK5ozZw4dffTR1KVLF7Lb7eL4hX0P43HqQt8evBwOBxUVFdFpp51G33zzDQ0YMIDeeOMNuuuuu8jpdIovMizLolgsRqFQiJqamkR/nHHGGfTJJ5+0eN8PPviATjnlFCJqPvemp6fvcflz5syhdevWERHR7NmzqaysjIiIPv/8czriiCMoKyuLPB6P2AcsyxJfjrlcrjbfHu0FzrOQ6rDXQUqLxWJ05pln0ssvv0wXXnghnX766VRSUkJut5s95nb3r4G7T+DXXHMNHXHEEfTmm29SdXU1/e9//6OVK1dSWVkZLViwgIqKiujee++lb775RgzeQ4cOJdM0qaioiJYtW3ZAPm97gr5tH0aNGiV+Fb7vvvto/fr19PrrrxMRUWFhIVVXV1NVVRUREYVCIfrnP/9JEydOZL88vvXWW3Tttdey912wYAGNHTt2P30K2O3jjz8mwzDo3HPPpdraWsrOzqa8vDzauHHjHuc3DEP8Ifv888/T3XffTRMmTKDa2lpau3YtnXjiifTDDz+Q2+2mc845h66//nrxut1M08QdePsYxuPUhb49uD344IO0YsUKeuyxx+iZZ56hW2+9lW699dZWvfaf//wnRSIRcrvdRNQ8loZCITJNkxYtWkRut5sqKirI7/fT8uXLxev69OlD6enp9O9//5s2bNhAoVCIXnjhBXHn1YwZM8jr9dI555xDHo+HIpEIhcNhys3NpUgkQn/84x/plltuafNt0V7gPAspzwJIcY8//rjl9XqtTZs27dXrBw8ebH3wwQeWZVnWUUcdZU2fPr3FPERkFRcX/6L1hJ8Pfdu+XHLJJdawYcPY/z355JNW//79rZtuusk6//zzLcMwrHnz5llEZO3YscO67LLLrOnTp1sffPCBddxxx1k1NTUWEVlLly49MB+iHSsuLrZcLpf18ccfW8uXL7eIyKqvrxfxoqIii4ha/OvRo4eYZ/Xq1VZWVpZlWZa1Zs0aq2vXrpZlWdaCBQssIrKeeOIJy7Is66abbrLuv/9+a+fOndbEiROtmpqa/fUx2y2Mx6kLfXtwq62ttWKxWJu93/PPP7/HsXr3v4ULF4p5lyxZYuXl5VmWZVlbtmyxiMhqbGxk7/fSSy9Zxx13XJutX3uG8yy0B/iqFFLejTfeSFu3bqWioiIiIrr88stb5H6r/1544QX2ep/PRxdccAE5nU5x6zwkB/Qt1NTUULdu3YiouT+7dOlCK1asICKirKwscrlc5PP5KD09nRwOB2VnZxMR0hMOBLvdTo888gideOKJIk1ETWNwuVz07LPPUk1Njfj34osvsr5S00tGjhwp7gx45ZVX9rjMG264gZYsWUJLly7dVx8LfoTxOHWhbw9OdXV15Pf7yefzERHRxRdfTEOHDqURI0bQqFGjaPTo0eLfyJEjafjw4TRo0CAqKSmhUCgkinqrotEoTZkyhaqrq8nv99OVV15J55xzDvn9fiotLSUiotzcXDH/7geouN1uGjx4MOXl5VE4HN4Pn759wnkW2gOkEEK70KFDB9F2u9105pln0osvvthivq5du7b4w3bRokX03nvv0Z///GdauHCh+P9rr72WYrGYuGX2zjvvJJ/PR6FQiC644AI64YQT9tGnARX6tn3btWsX9erVS0y//vrr1LlzZ7rpppsO4FrBnnTu3JluvPFGIqI91jnZ/WXj7i8ZiZr/8HU6nWJ66NChVFtbS5deeimNHj2abrjhBtqxYwfNmDGDCgsL2fJee+01qquro/nz59MhhxyyDz8Z7IbxOHWhbw8+kydPpq+//pqIiE4++WS6++67qaGhgRwOB73++us0c+ZMeu+994io+Ysm0zQpEolQbm4uXXPNNTRjxow9vm///v1p7dq1RNRcxD0vL4/S09Opvr6eiIgyMjLEvGPGjKHKykqaMmUKTZo0iaZOnUpEREuXLqXp06eT0+mk9evX04YNG8TDAILBIL3wwgviixNoPZxnoT3AF1jQLlRVVZHP5yOv10s2m42cTicbvFW7B/Hy8nLq1KkT5eTkUDQapaamJsrPzye/30+/+93v6PTTTyebzUY2m008YcX6sQBlnz599tdHa/fQt+1bcXExjRs3Tvzye+SRR1Jtbe2BXSnYo127dtGYMWMoMzOTgsEgETXXOAuHw+IpR3ti/fjI79LSUurSpYsoDv3222/TbbfdRldeeSXdcccd9N133xERUW1tLa1cuZIaGxvp888/pwEDBuyfDwgYj1MY+vbgM3PmTDJNkx577DHatGkTjRs3TsQefPBBuvDCC+mYY46hhoYG2rJlCw0ZMkTEH330UXrkkUcoGo1SUVERPfXUU3T66adTNBplT5ysqKgQPyL5/X4iInHH11/+8he6++67KSsri/x+P82dO5fuvvtuqqqqogULFtDZZ59NTqezRS2lYDCI4uB7CedZaA8wOkC78Mgjj9APP/xAH3zwAUUiEWpoaNhjMUPLssQg7vF4iIjou+++o+XLl4tfDs877zzyer00adIkImr+9Wnw4MH04YcfYgA/ANC37ds//vEP8nq99Kc//elArwr8hOzsbFG896233qI333yTnn/+eQoEApSWlkahUIguuugiuuiii9jrdqctud1ustvt7JfhsrIystls9Pvf/56mTJlCO3fupMGDB5NhGHTNNdfguN3PMB6nLvTtwadz585ERJSWlsYKbG/cuJG+/vpreuaZZ4iI6Nlnn6XHHnuMVqxYIdL/cnJyiIjov//9L3m9Xjr//PMpEonQ9u3badiwYeK9tmzZQmeccQYRyS+w0tLSiKi5/w8//HCaN2+euAPr0ksvJa/XS0VFReJBKm+88Qa99dZb4kEAsPdwnoX2AF9gQcqrrq6mp59+mi677DIiav7V4KOPPqKPPvpoj/Pv/sVi968Ud911F1VVVdGWLVto6tSptGTJEhoyZIj4hcjpdNKmTZvI4/GIp+/s/vUJ9i30LXTv3v1ArwK0ksvloqOPPpqIiJ5++mnq27cvHXrooSL+1VdfUUlJCfXt21f83zPPPEOXXHIJETUfv7FYjBwOB5mmSa+++ipZlkU333yzmL9z5860cuVKuu+++/bPhwIB43HqQt+mlt/+9rd09dVXU+/evYmIaNq0afSvf/2Lrr32WnrrrbfYvC+++CJdcskl5Ha76aGHHqJ//etf9MMPP5DD4aBAIEAbN26kgQMHEhFRQ0MDuVwuUXMpEonQ+vXraerUqbRixQqqrq4WdZLC4TA1NTWR2+2mYDBI9fX1ZFkWRaNRMk0T6YN7CedZaA/wBRakvAcffJDS0tLoj3/8IxERvfXWW/T2228TEdHcuXPplFNOERdbqvT0dJo5cyYRES1evJg2b95MEydOpIkTJ9KgQYPokksuoY8++kicqNVbr3f/CgX7FvoW4OATDodp9uzZVFVVRVdddRU9/vjj5PV66bbbbqPq6mqaPXs2ETX/sn/nnXeSw+Gg2267jbp06SLu7FBrc+h23zkA+xfG49SFvk0d99xzD7377rt0880300033UTl5eVUXl5OJSUltGTJErrooovolFNOISKidevW0Zw5c2jDhg1ERHTzzTfTY489Ri+88AJNnTqVli5dSk6nk8aMGUNEzX22++4rIqJTTjmFevbsSUTNd+ENHDiQjj/+eDrxxBPJ6XRSVlYWud1uisViFIlEKCsri6LRKF166aX01FNP7d8Nk2JwnoVUhi+wIKV9//339Pjjj9PLL78sikr+/ve/p9WrV9Obb77J5v39739PgUCAHnnkESIiisViNGXKFHI4HORwOOiLL76gs88+m6LRKIVCIfYrlWEYtGbNGuratev++3DtHPoW4OD07rvvUm1tLc2bN4/OPPNMWrZsGX3wwQd03nnn0RlnnEFbt26lnj170ttvv00FBQV03XXXERFRU1MT2Ww29st8LBYjv98ftxYP7B8Yj1MX+ja1ZGVl0cCBA6m8vJx69epFgwcPph49elCPHj3o3nvvpZkzZ9Ipp5xCTU1NdOWVV9KwYcNo9uzZtHXrVlq/fj0ZhkH3338/XX755TRjxgw66aSTyOv1ElHzHVjqnXNdunShfv36kc1mo9dee41GjBhBZ599NoVCIbIsSzyN8OWXX6bXXnuN5s6de0C2SSrCeRZSGb7AgpTV2NhIF154IY0bN44uuOACIiLavHkz/f3vf6d77rmnxVNyOnfuTNdddx116dKFbr75Zrrmmmvoww8/JIfDIW51zs/Pp3A4TJZl4dfBAwh9C7o9Pe4bkk9jYyPdeeeddMUVV9Dhhx9Os2bNojPPPJOKi4vp5JNPpo4dO9Knn35Kl156KT377LN08803iz+I7rjjDpoxYwY5nU5qaGigd955h/7whz9QKBSiuro6VntHtXPnTiooKEBR4H0E43HqQt8e/NauXUtz5syhtWvX0pdffkm33nor3XbbbXuc94UXXhB3UJWUlNCCBQvI5XLRc889R4MGDaLRo0fTlClT6JprrqGXX36ZZsyYIe7kIWq+A2v3eB0MBqlDhw6i6P/uIu533XUXNTU14S6rfQjnWUh12MsgZQUCAercuTP9/e9/JyKi+vp6OvPMM2nChAl0xx13EFHz0052u/baa2nbtm106623UufOnem1114TMf3xz6ZpUiAQII/Hwwpj7o6Fw2FRvBTaHvoWdLtrrTQ0NFBlZSUREdXV1VE4HKZAIEANDQ0UjUbFEwpramooHA63+AMM9p1YLEZXXHEFBQIBUTtj1KhRtH79elq3bh1t2bKFZs2aRdnZ2fTSSy9RWVkZTZ48mTZt2kSBQIAef/xxevzxx4moObVh1KhR4nHhu99/93Fvs9mouLiY1q9fT9OmTaOcnBx6/fXX9/+HbgcwHqcu9O3BKxqN0n333UcPP/ww3XjjjXTxxRfTlClTaPTo0TRp0iQaNGgQ5ebmksvlIsuyKBQKUUNDA1VVVVHHjh3p6KOPpuXLl9OAAQNafCkxduxYmjRpEk2ZMoWOO+44Imou3r948WKRWubxeKipqUm8ZncR96lTpxIRUSgUolAotMdaV9FolCzLEk+zhNbDeRbaA3yBBSmroKCA5syZI6ZnzJhBpaWlNHv2bKqvr6err76aNm7cKG59Jmqu82CaJh111FHsvcLhsLjVmYho5cqVNHr0aPHLUlZWFg0ePJiImi+8+vfvT4sXL97Hn7D9Qt+2Ty+//HLcWCQSIZvNRjNmzKDbb7+dsrKy6JBDDiEion//+99ivp49e1J6ejode+yxtHDhQho1atS+Xm340fbt2+n777+nl156ifLz88X/W5ZFI0eOJK/XK2rhEDUXo50wYYJ4rLp6l10wGKRAIMDe3+FwiF+GBw8eTFdffTU999xzlJWVhadb7UMYj1MX+vbg5XA4aMeOHfToo4+K9LCzzz6b/vnPf9L//vc/evLJJ6m8vJyCwSD7EpKIxF1Vu/tDVVFRQWeccQZZlkXPP/88ETXftfPMM89QfX09Pfroo3tcH73/77zzTnrqqafYl5S7U9QikQg99NBD9Jvf/GbvN0A7hfMstAeGtaf7AAFSVHFxMXXr1o2IiI477jhqaGigCy+88CdPkq+++io9+OCDtGbNmv2xmrAX0LcAyS8YDOKuinYA43HqQt+2b6Zp0qOPPkqnnnoq9evXj4iI1qxZQ/PmzaPx48fTsGHD9vi64447jk444QRx5x7sOzjPQqrDF1gAAAAAAAAAAJDUbD89CwAAAAAAAAAAwIGDL7AAAAAAAAAAACCp4QssAAAAAAAAAABIavgCCwAAAAAAAAAAkprjQK8ApB7TNKm0tJQyMjLIMIwDvTrtmmVZ5Pf7qbCwkGy2X/59Nfo2ebRl36JfkweO2dSFvk1d6NvUhXNtasIxm7raum8h+eALLGhzpaWl4hHLkByKi4upa9euv/h90LfJpy36Fv2afHDMpi70bepC36YunGtTE47Z1NVWfQvJB19gQZvLyMggIqIJdDI5yHmA16Z9i1KE5tMs0Se/FPo2ebRl3+6vfrVnZ4r2ugd6s9ipQ1eI9tz/jmGxLo8s2mfrtFvVZYeKdrdzN7PYui/kunZ7aN+uC47ZPTNGDmTT20/IZNPuWtm2hywW6/DlLtGObdraRiuk/MJuWfHnU6BvUxf6NnUdjOda+Gk4ZlNXW/ctJB98gQVtbvetsw5yksPAIH5A/fh3VVvdzoy+TSJt2Lf7q1/thku0bV4Pi7nT5XLtbh7bH/ua3SWX6Uxz8ZhHxvb5uuCY3SPDzvcJtU+IiOxupa19oeRQgkZbbQPWP637Agt9m8LQt6nrIDzXQivgmE1dbdy3kHyQGAoAAAAAAAAAAEkNd2ABAMA+semN4Wz65uGfivZZxjoWW1gv0/Rev+pRFvv2ol6iPbeKp5It3dJdtE0//9XTkR1m09cO/VK0s+wBFuvrflq0P/UfwmKTz10p2v87fhCL1V3bQS7/+7UEP1MrU/HyH9/Bpl/o+iGbTjPk73E5dh9/8b2y2e/Li1nojP7fi3ZnVy2LPbHsGPm6azeymOn3i7bh4JdSVjRKAAAAAND2cAcWAAAAAAAAAAAkNXyBBQAAAAAAAAAASQ0phNC+aQX+DLtdtK1YjM+b6ElTiQoFtvIJVbrQyfxJbO5Zi+XiRg/mi1i66hcvL+Xtgz76Ocrek6lvBf/wspj98+9E2+bj6U9mgKe6JbvGsw4T7aFd+dP8Xtw4XrQ7pDewmM2QffDIzhNZbGTmdtE+s+A7Fuvglu8zaxU/Lk7qt4pN+2Oy8PdyP3+08jNVR4p2/9xdLDZ3Z3/R7pZRy2JNjwRF230Cwc+lpP6RFYs722FZW9j0D+E8Np1tk8dJbcjNYoNcVaI9//CnWayDPU20G8wgi007dqtoFz1xBYv1vXSpaBtefjxbSnohAAAAALQd3IEFAAAAAAAAAABJDV9gAQAAAAAAAABAUsMXWAAAAAAAAAAAkNRQAwsgnp9TF2kvaygFzjiMTVcNljW4gr1DLHbU7zNE20ZbWaz0WFmD5WCrmfST9NpVra1Fps+nTuvv+TOWYbhlfR0rxPvIOny4aJ/7wmwWuyJruWgf87vTWcz+uTJhmnGXfTAoOU5uu/IdXVjM5Y6IdjDqZDGPQ8Y21uazWDAmT1VqrSwiIpdN1k06tC+vk1QdTmPTZcFM2W7MZLGRHYpFuyKYzmJ2ZZk/lHdmsfz0RtEOTdbq1n20mCAxVnfQ5DWwbB5Zs+yMDF7PbEeU153yGFHRHqzUvCIi2haVdeWWB3uw2AUZ60S7Vjv2bBQW7f6PNLIYm1OvlwgAAAAA+wTuwAIAAAAAAAAAgKSGL7AAAAAAAAAAACCpIYUQUlOiVDKVFrOi0TgztlR203jR7jy/jsVKjskS7V9f8j8W+7q6t2j/X9cXWOy1Cvme837oz2I77ugj2rYvlrV6PQ96ev/p6X5x5jUcCYY3JW2JiMhwudi06ffLCRufV00bbDr9UBZ7/LEnRLvecrPYM7Uync57HX9PNQHJ1NISDzZpnWSqVcDPtwEpk8Eo7x+nXW6FNFeYxRoi8oVVAZ4W6HbIY1ZPL4yY/Deazmn1op3r4am2atpgeSCDxUxL7nN2mxk3VnYE/0y9PiLQacevYZd9ZEX4rLVnDBftro6FLLZZG6qzjPjHTYZN7k89XRUslmOX6YU+G1+Bv1YNEe1YJt+Xnb1kKmJ0yza+QHXMMJFeCAAAANBWcAcWAAAAAAAAAAAkNXyBBQAAAAAAAAAASQ1fYAEAAAAAAAAAQFJDDSyAeA4dwiYtJ69bFJ4g6yStH+FhsYzsGtF+6T8TWazLPFmP5eHPh7JY5Lh+ou0bw+sy2UINsj18EIuZy1e3XP9UlaimmTpbonpmWsxKVHdKq2Fj7y9rkb3xxN9ZbHNU1lHyGLyezst/OlW0szbwej6trtmWjLQaYfnpsgbW9np+XASUaZ9bK3ikcNt5/3jsyrw+0mJy3sYoP2a8xLelQ6lf5bHzPncaMuZz8HWrDmkLVcTU+li9G+LOBz/S9m8zGIw7a8Uo2f5Sm211sAubviJru3xP4nXKSpVDeIy7isVille0N0d4v7/06dGi7ZzEa3d1+E7WxPJqNbAMm5zX4qsCAACQtCqvHsem+16yjk1/u6GXaOfP49dcOS8v2HcrBqDAHVgAAAAAAAAAAJDU8AUWAAAAAAAAAAAkNaQQQmpqZRqWPTOTTdedOFC000p4zoqjupFNd3w5W7QjN/K0lJ1lOaLd9/f8llpHj26iHdXW07Nsi2gbowew2PYTZXqalv1EXZZT+7GXj6h39Owu2tEOWSwWKuCpbuWjnTLWgS/Dsss+WxHOZ7Ev/bLP+nnKWCxvfolcfmtX+iBgG9KPTdtt8jhxeHhKVqRepl3V1KWxmMsht0rvrDoWC8Zkf6Q7+c5vM2R/OGyxuDEiooCSYsjSErV5oxb/bcdU0gT9TXxfUQ3syPu8Mc587ZrBU/ESjdWHjpOpC6bWJ6sDhWz63EqZVj2lwzIWM5Xf6g5172Kx+yrk6/5QwFOxLadct6J/VbNYbPX6uOudMH0ZfpL9kP5surGXHK89H367v1cHAKDdqB7Nz189fPzc12lIvWg/dsISFut15JWi3e9yHmsteza/Pl/zoDwfuPObWKznRfI8nLAUCKQc3IEFAAAAAAAAAABJDV9gAQAAAAAAAABAUsMXWAAAAAAAAAAAkNRQAwtSkuGQu7YV0+okKTVXjByea+0IyljlMB+L1R/Ba7dsPPp50R5/y1QW6/uvhXHXLbqtOG7M6tpRtN3VWv2eQrn8k87hdbVWfDlMtI1vVsR9/1RgOJW+DWk1j4bJGmbm3/0s1jWjQrRLArz+0fVdvmDTc+sOEe2bCj5nsas3XCDa/6sbzGJZDpmfXx3jNZ4s5y8fbtX92rCspCim1dQ1nU0Hw3LbWqb2G4lyCNmKeS2pCpsp2rWNXv4y5XVZPl4DIRyV2yRmGnFjREROu9xfatx8GTFlXZvCTharL5ef0ebjG92XLusubK3NZbHO3WTNr2jxDgIiw8G3rRUJx533nA6LRbubo57FHi9czKaXK/Uv9NpnG8IdRPvibUey2MQcWfdq5JJzWazvDYtEu0W1PXWnbGXNRdgz/bHt19z8Ppt+aMHJot23ahiLGQv27flu1w3j2XTOerm/OufsXY0XAID9jf1dlKBO45mjlrLpLY15bLqbt0a09fPplkkviPZxx17BYo7P+Puq7B3lOXrC/7ax2G988u+pTnZ+HfCbk24Ube97qI/YnuAOLAAAAAAAAAAASGr4AgsAAAAAAAAAAJIaUgghJbG0wQTpHVYDf9C9+qT2hiMDLFb4LzebPvGC4aKdQfFTBn+OUEeZdhbO5OlQHZbKW35nhXnKRSePTJ/xdFEeL2+GiErbZNWSRqJH5Zor1oi24+JCFttaoqae8TS06dRPeyeZBncdTWCRh7e8I9oFdp7+9MiuY0T7zVn81upeG2Xap3orNxHfX/UYGXKnVNOtLCsJ8geJKFDA17eiXKbl+jKDLDZt+Kei/diHp7CYWSZT+qyO/HUut+yPhiA/DsMR5bZ47VA3Y/w3mrBhF223k2+/kPI+9RU8LfKEET+IdtS0s9gXm/uItjOd71cNw+U+6EEKIRERWdFI3Fjw1EPZ9GHu+aL9WBU/Dof6eCr2EHeJaK8MdWGx8R6ZkvCVix/rF2dWivaraXzMh5/Jxo8NMuW4Zu9bxEJ1T8j20QWLWOy/5TxNcFz/TaKd+zjvow1jWrdq9pwcNr3lRpluHsozWczyyPW2NfJY2k75GXkybArayzTZ7b+XaZcdvuPjrHcnv+baOUE5X1TwbZ2zeJdoxzZsbvXyW2vzn/l1VM4apT1jAQGkEsuMfww7OncS7V/lfMRiz0eOYtOZDnl9ti3Ayya8Up8v2p++9iKLjVtxlmiXFfPXbTlFlmT5l5+P1V/6+4t2b88uFvOUx/97AFIb7sACAAAAAAAAAICkhi+wAAAAAAAAAAAgqeELLAAAAAAAAAAASGqogQWpqZX1GmJV1Wza+758DGuv9/W5OVtGhmibDQ2tX36CuhINhbKqhruGx1y1snZM9//yR8k2dZfrEuonc9mj0WDK1cBqrWiJ9sGV+iyGU6tBlaCulu76NReI9hfD3mSxjf4C0e43biuLqZV/Ej3COFHMkYT1zZoKeK02d5qs0/XQ0P+w2Bi3rF8wc/goFitbID9bh0F1LFZRL2tShU3+u4vNJuumRCK8Bo/Txbelwy7nzXDzPu+ZJceCRSWZfPlBufw/93iPxXJdsqbLN7t68dcNk/tZtw8IiBKOjaXn85pyTmWs9Nh47azvA93YdEVUjoENMQ+LZdhkbbLKEK9vxt7jff6edc/LsbTfVYv5zOrnMIz4sXbEsPHtYCkljaId+DH1q27zRHt2+SEstq2K10e5btCXoj3et4HFrrhxmmgXzi5jse1nyf7rc9ImFhvv/l60P1/Ml9/3ZbkfGgtWUHtlOOT1iFp/Udfwq8PYdNEMWZ8uup3X/qu8fCybrh8sj2t/kI/tmVfIZa7fzs8XWd/JWogdF/n5Cn27UjTth/RnoeKT8kTb6s7rqVV65biRM4Pg59DGQHWfyFzHz+dqrVKMnfuRUpNQt+VyWaNwlVZD0mHjrwuZ8rpmQEY5i+2MyPpVz9W5WGzmIfKg6jqMn4efqOkh2nUxL4v188pxvdBRw2L+nnLeTJSta1dwBxYAAAAAAAAAACQ1fIEFAAAAAAAAAABJDSmEAArDIQ8JK8ZvmzXsdn32uLFEaWCJqOlYzgbtVmr162Y7v+06nCGXb4vK15lGO/6OusWt6TKf5adSBg2nvPVZT52w3pRpgu7h/EHqDiWd7eyOS1jszQz52HbTr6U8qMYOZZMdH90q2ivK5SPHY4EQ0fnx32Z/KfzrN2zaPqifaD/y6Iksln6j3B93XFPAYkZfmc7REOK3nqupgU4nPy5NJaVQj+m7QCgsj+/aJn6bemefTHM4bNhGFvOfLddn0u9uYTFPZ5lC2ONi/qj39EDbP/r9YMTG1QRj459G85TT70LZon1SxvcsVuhoYtMZylhXa5oUz5qMkrixjo/zfdm4frxoR+d2ZzHHxO1yItXSXmzauU7NBUzwWRP1rfH1cja9qkGmqVzedT6LPVB/Mpt+foPsh0+yB7HYm7c+ItofXzOYxWZslGlMFdN5em9kiUxL6bt5Udz11gcRw6WcG35G6nnSUvtaSzFi575Dh7DYpnPT5FsU8mOx9ASZummv4+lINm0X8ZTIc6ihxbbWy5TetHreD41d5H64/lp+vnCcPU6+pzYU9H5Dpopv6JjDYml9eKpbymijND3b0AGivf0PfIwIbs9g04ePXS3a3/6Pp+j2ULNy98HYWXzXeDbdYblMU3V/tFifHYjomSueEu21oUIWK/JWsmm/kqJv1w6wfIc/buz9BuUa2OJ/m2wPybTxDi5eIiVoyjEi0xZksV2HynYmr+gBKa4d/3ULAAAAAAAAAAAHA3yBBQAAAAAAAAAASQ1fYAEAAAAAAAAAQFJDDSwARaIaHnrMUuoYqTVeWvgZ9QeiPtke/6vlLPb5p8NFu8/LvIaSyy9rVzgalfXcy1pcKeEX1FbQ65+psl+Vz+r9/n6ej98zrUq01wc7s1jN6bIORMY2XjvlihfeU6a2sdgQd6lo/9+FsuhV1AzRGko+sdXrRdt7ohZT2tmrO7BY0WHy0es/lPFtpx5Bereqh5fNxoM2g0/bXbImQ52f18AKZss6Cy7tsdHRnUq9nBvLKJ74lZfaN8uMfyyaE4aL9jnpy1nsX35ZoybP3shiFTFe9+b9QF/R/nUmPzJmBWQtHbWehu76DevZ9DOTe8v3uOu/LHYiDaeDml7nSq1/lOBx621l4+9lPZQ/PP8Ji70/4nk2vTkqa//Nqh3GYl819RHt9+6eyGKd3vs27vJbfWbUBpyDou6Vfs2h1IczbDyW6Jqn/vyxot352k0slveC3O7hLWksVtc3/kgYKYjwaWXz2n18XWIN8li1bPwayxGUnyOmjfuOgIz1ep2P10ZMrpvRhdfuKsyUtXfs/eSxb8VCRLwsYnLQ+1ml7rcJroUMt5tNx8bKGnNbTuMx6iT3fTfx2qCdBu5i09/OkfXowtl8fwieKgsXeT6If4wmEj12FJse+ch3ov1y/sMsNnn5FaJd8NFeLe7glOBvD9vgASx0pGe5aH/uz2axfCf/e0OtgZXvaGAxte6VP8avsXw2uf9kaDUs1wTkNd+ucCaLNdjl8gZ5eA3LYaPkuMSvECDV4Q4sAAAAAAAAAABIavgCCwAAAAAAAAAAkhpSCOHgpd4ee4AfY67fhp8opTDRLfsemYFG/1vNHxfecbhyi3Ytv6W3to9Mx+r8hbyl14rx27xTXmv3iQQpFs2vbV0y2Md+/mjxIm+FaA/xFLPYAw+vFO2Y9v4LlawUv8lvu7523QWi7d28RbSjFk/FOGD0x8zbldQkO09TUtNv8r/jj0reda58DLdlae9pk9vL6dTS+6JyGaap9avWrQ7lffRlVAVlGsyEAp4uU0Hx08729lhvVxKkpG2fJPf3BpOn5NbGZE51RYw/pl1NRyAiKnKXi3aO3cdiX9b1E+1RGTxFV13maTwTin77ID8WVTvelSnBXc9aFXe+/cIw5HHY2nEvQZ84evVg0xuvlI9VH3MMT8+sGF/b6tVUuT5ZItoTF17LYs+Mep1NBy15/KnHMBHRznC2aO84kx9vfd+Lv3z1uLUX5LOYlS33NTONp1E1dpc7iadKnl/NaJBo/vvxF7g/6eczpa8t4mOyMVqmellLfmCxMbcuFe111/GUo/QM+dntG/h27/Dkip+3vrvfpyNPKy87Q6bx1Qzl+2t2jxrRtho9LJa5WfZZpDCLxRo7y5jXV8djEZmW7CzKFe1oJNj2KYTqMav2l37tkeh43svrXvtAmW5d8hA/f9ltAdGOlfDznnO73M62Gj42Nvl52pd3UrVoR+r5vNtPk8t0HTaOxdzVcoyyaZc49f3kPpDWlV8Dv7N0tGifddwSFju/SE7PJX4eSTW2DGXsagzwoCW337Z7eb9/G5Ibe3tTLot5tI5wGjGlHf8aRz9HpynT28J8zE2zy5jPzv9u6eCU14pbtde9VCRT+88hvi9BasMdWAAAAAAAAAAAkNTwBRYAAAAAAAAAACQ1fIEFAAAAAAAAAABJDTWw4OB1gOteJdLa2jfmUSPYdMEymbPe8Rlej6L612NEu+wMXiuCPVF+nayTRFY7q4G1t/vEXj42/rMhvGjOxB9kXYbjvPw9R/5R1nmJZPL6S09c84xod3PUsljVPPl44a60hZKO/ph5dd+Pxd+u9rr4Dz2ORHidFrdb1mBQa14REdntal0r/j42g/+HqdS9cnt4XYeagFKLKao9Ppzi10Sz1M+YxGPS/qTXBVP3CZuP16f6+3kvifb9FWNZ7Orc+aKdZePHTJ3Jt/UmM36dsnW1HUX7nDz+2HanIfenTRH+SPDV418T7fca01nsT0NlvaOHLrqIxbJfXRB3XfY5m3J8tLKWHxHR+n/KGjKTh6xkMWdA1gnrm7aLxRa8dpho9/n1slYvT9XzovVs+qapU9l06HA5ro7ssoO/1icLR847+nEWu2yurB+4c15XFmvqouyT6XwssDvkdovF+O+8ZkS+zrtJjhmxkEE0n/YfvY6jOvZo57PICbJvg7n82My4Sm7PbfPHs5jj1M2iHRvAj69zn/xYtN+58oT4q+l0sWkrEv+aJFbO962CZ+R0gTavNX6YaFdfz/uo4li5jCptWOjRsVS08518XXbUyXpZvHLWPmBZRPRjn1mtvP6waee+3Gz5doV8CzX0lp+gKZdvn/o+sh0p5cvOWaksQ6s7Zilvc/aF81hsQyO/Jl301UC52sQ5lMMtXMiPvXAXuR/bXXz8skJy3Roq+LWXPU0el5d/dwmLFeXLMcKeLa+xLStMVEsHN20cMP3+ODMS1V4sa0StHv80i71SL68ze/kqWcwf4zXm7Ibsl4jFx5NITE7r9bEqorJOWk2E919nl6xHl2XXancpVjXxcfziTLmu/vPk9UM0EiR6J0lqEsI+gTuwAAAAAAAAAAAgqeELLAAAAAAAAAAASGpIIQRoA4lSZnRbHpK38UZy+C3aA56Uj4stvfFQFvNUyVurO81cx2LRAd1F2wzKdA/T0p5D3J6pt1prqV4t0hyikbjzqu/zbjFPFdoYkbETCw9jsQKKn1ZUe5VMq/IYvM96vrpNtFuXmJo8DAfP31DTRyw3j4Vi8rZ0M8J/W3H4ZKxJSy/0uOQxFInxmJ5CGDXl+6Z7+COem8JyfeZs54+ML6TVFBd7BPrepaKmmkTj37o/D2HTk33fiPbqIE9/+KBhsGhfncXTzDIcPHVia7R16XJ6yoOD5D4Ttvh+tzMqUwqzbTxWFZMphZUnBFksnClTsTpM/4b2ub1JR9Kkr5Vj4GXHfMViL1UeIdqzSwey2IvjZoj2wwPPYrHYmg2tWrYV4sdih++a2PTQi1eJdqaDb+sZK2TayDtOnpLvWC3TVDK38v2j07dKmqA7fvqpEeVjSDBP7i++XXI8i0bDtDHuu/wCNjvR7jRXNSU0Qbryjjt5KmCghzweM9do+/E33US771E8RT34eaFolxzB04ge+vpk0R6wjI+PbEvraayJUh8TxTRbb5TtPh156qHLLo+Brr5aFuvlrRDt9Y2dWKwiIPcX7zb5umiM759tTk0NPPQQFqrvJa8NgloqYFhmZFHUx7eVs0FuS4ufFomU82LWWj4e1o2Xx55Rw6+LPBXyPVfUdWExfTv7SrW+VESVLHL3D3wZYSV306FlkkXT5HprWW3k3CaPYZffy2KrR8llDChU0sRjof2bQqjv38q1g2GLv70svRSDelwkOEY2/3kcm/7ygr+K9vRaPo5n2GS/u21aeYUIT/tPd8jjQU8TVPls/LjxK9df+rVZUCkB4DR4CQebkrKoloEgItoVk6UoKofKmBk0iN6Ju2qQAnAHFgAAAAAAAAAAJDV8gQUAAAAAAAAAAEkNX2ABAAAAAAAAAEBSQw0sgDag13yxH9JftLf9kR9mXnutaEcq+aNkN5+XI9pZG3mOeEwp02H2KmQxW0guP35GfJJR6gEYdq1IgxH/u3VWD8Bsm5pDCWsMaMYsk9v64s2nsljjkRX67Htk8/ACDmrdq//UjWKx6I6SVr3nwSbQM5tNhyKy/pvDHb+uQrqP11UIR+OfxvR6CS6HfN9QhL9Orcmgv87er7dox9ZvYjG1doVe7qVdUeu4JDgunzr5ZTa9Kixrb5yc/gOLbYrkifZfqnh9o0uzF7HpIS5Zj+jdhs4s1sEna2vVxng9DyK5fJN4v3d2yDpX26K8Lsjvlk0R7T4XLaMDyeZxk81orvNiZMnCOLFd2niUYFwrfFjW6np0ygkstnCBrAnX+9aFLPbB0uGiXXxqAX9PpQaWvX8fFis/Ss7r78XXJebm67ltvayb5l7Gz5lZsgQKxXjpFMrcJvfDXaP4OcXfTdbFCWfx5aXvUGqpaKemQKGcN2OWfH8ruo/q35mxhOfDPUkv4Z+nwzJlbHPwsdVYL2PVq3qwWKy73A4dvuOv214o18kMxH/sfaJ6eC1njr9/+s8by6bXH/WMaJ+2YRKLndtpsWgvb+zOYmUhWWRpe0MOi0WVGormxq2yvQ9qie665jCyu5uvAx6+6Xnx/1M/GsPm81TK7ezkJQLJU61sryoeczXIk1GggO8/nkrZDuXy13l/kPWjcjbwfTrile9Z8gI/nndoJZxscuhscVyqpQbD2fH7PJTHp6P5Sj9E+AKjGcoxm8dr6I3tskO0a4mPUfuVvn8r9Qr39tqh5hJe5+rK374v2ldnPc1iD1bKa8uQVguSlL8vtjXls1CaQ6tR6JTXagGTd25MOYfq9SYjSjE2ny3MYllKwbOd4WwWU+fNcvC+LVOOWbWmsNmEeqSpDndgAQAAAAAAAABAUsMXWAAAAAAAAAAAkNTwBRYAAAAAAAAAACQ11MCCpGI4+C75s+ontPXytboTNi+vWxSrl3ngdOgQFjP/XC3agc28HkunLjWyfdVavgIJakCYR8kaMHX90lks59PNcr3ivsM+otSyarH+iWLK9P7u5xYS1OxpnF3Epv+9UdbQ6Xb2D/rskk0rnqIsw3C5WKjQUSfff81wFiui5fGXkewSFHYoG8ePdYdSy8rl4v1ht8n3CYadLJbmkfURmrRYzOTHcLpH1nKob+LHs0NZhjofEVG4i6ybYl9PnFq/7UDvx/taouM5wTFUe7Gs0zHJt5zF1oTl+3TSDpk+Tnlc9HQuZbE/lx/PpjMdQdGeks3nddnkuq0J8vqB0fRdoh20tBVQ/KvmMDbd89zv4867v5mH9CbT0bw/bz85Q/y/ZfA6NZZNbmtHE68h41BqSfXVtvVFE78U7Tf/eBSLdY/K7bBy2lMs1i/nWrlsvcyhcqhkr+OxmJuvW+Yn8rgu5yWCKK0k/hgTypLHf+FX/NisHCbfs9tnvMZRfTcZs2lXyVkblImYtef2AVYxWtsm2fGPzY4F8hhrDPHzUkOxrKfm7sRrzxzbbYto76D4DCd/T1sRr0kVzZU1zRp6eFksnCb3g0Bnvk+MvkfuW1lbeT2d1yplbStbvVafKyz72h7ksQ4Zcn+JRuR7WvugBlbhB9vIYWuuH/Tb6JVyWSP5fpp7+C5qjdoA33ZO5Rw2uTM/aTUoRalynHwbdHbWinYnZfwl4rU61TYRUX+lLhIRrx8Y0rZfwJTTPhs/Z2+OyFhxNIvFtkZk/apIgrG6LsrrHE5IlwPMLePkfhMLB4m0S/ADxdGFn5d2nirr0dUM5cfvjUfOFe1bcnmdqxfrOon2HeXDWUytJdVB66+GmLweshmtL8jltvG+DZnOOHMSlYSyRVvf79T+DJl80K2PynVLt/Nrs2ybPF6MsG2PbUhN6GEAAAAAAAAAAEhq+AILAAAAAAAAAACSGlIIIakkTCUzjPixBKl3e7t8PZ2RpQwSkb2vTC3beAtfN9t8eZt8wahKFss8adPerZxyV69p58uz6urpgFG3vd5He9kvxhiZkrnuCn5r/KA/lYp2tDhB8kKCFD5bGn8Uu9nYyKY3PCHThY7P5alCWyfxVIq4EqRUWTEe8xhKeuFWrz67xLavQZQ8WSt7pH9OVaRXkP9HVP6ekublt4l7nPK41FMIXcpj4cNR3ud6CqEqzc3TTvxNMq3C4+K3xVcNlLewd/hceyMzyTuhLe3l8XzqbXKjvduQyWJvlk8U7Yl5a1iswCGfG39WOh/jnu26gE2rqRNBi+8jM3p8Jtohi59jKmJyP8iw6ecYmf6U72zQYh6KK1Gq5T5grw+S3d68nOx1cmzLXlXL5qsZki3anlq+HRo6y/PdF2+PYrGcDXJedy++jZY9P1S0B3QfymIdl8mTVsylpSyGZKymLz/XZm7jKSyVQ2U/uGtZiKUbxni2GplOGavpp40btbJfSo7gsfzv5fItbZ9oLJRjiqtElgOwmXzMaiuhE0dSzNm8r22bIv/ftYtvM1edXE97gO9zUa8cF21erd+DSjqZj5/bMvrKz2Q3+HsuKesm2r7zeaqX6ZDrYovy10XS+PZUs5Vs2uWfq1G+1r2O7xPq6+p78I4PD5afyXTmsJia4aRlP1EwXy6v39PKepshou3UpqxQmKwfd6WCp+VYVhBn/p+SliD2nVu7plDOyzZfHguZIZn6ZxjdWMxIT7AU7drdCsp9xwxpx8Z+GBNVX9Bw0e6QJ9MJo2Z4D3O3rcAZ8lqyx+08V/qEXFmC4nDvfBab3ThQtHu7eBrp9ojss6uKD2cx05LHV4YzGDemppESEXV3y7Inajo+EU/hIyLaGswXbZ+db0O3khteHuPnerVMg54Cuj4gz98Og183eu3yQNVf111JVe24SP5/LEJUTJDKcAcWAAAAAAAAAAAkNXyBBQAAAAAAAAAASQ1fYAEAAAAAAAAAQFJDDSw4eOyLvPkENZsS1uMioo33y9zrWBl/bK/zEFmvJWfyBmoLhlJrJ5jP19sMBvXZ9ynD7SbDaC4mYSjb0IrxOhWW8ihqta4UEdGrk+Xjf79oGEjct6I1PYs/0n3eUfLR8G8P7ERx6TWolPXUa17Z+/PHzd818X3Rfue8Y7Q3lnV6bBkZLGL6Zc2ehDW4OvJKFxFLedz7/ER14NTfHGzJWQNL/dxaH6iPVO+Qz2saBZRHuFuWViclweLSnXIfa9LqY0Vj/DcatY5LUIvZbDIWimiPce4r9+sO2vIT1flKaQn278hEXkPpzrznRXtpmG+v+7v9V7RXhjuz2H8qR4r2W7v48rp5a9j0fR2/Ee3N2iF0XYk8hh8t/ILFsm2yr6u110Usua6bAnp1Gj/FtZ9rvBiBJjJ+rC/S0EXu18HcXDZfWClJEknnR1UoR057Kvj6+7vKbdThO14nqa6nrI9SsIyP/1WDZZ+5avk6u/xyeWml/HUNhfzYVMu1OLQShGpMrYdFRKQMq+TbxZeh1mly1Wt1rjrJ9ba0q2R1aLL8si6atY/q6fiWFZPD1jw25nTrLf4/UMjnC+XKPvNWaONnuRwXox4+RoYyZP8V56azGLnl/u/y8YJR6nh5+C3LWezrkl6ineXl1ybpjvjnN5t2QjOU8fq6brz44LqQHCs2BviobCodn+aIX5vs442D2PQhncpFO/yirPekX9e0hVhVtbiGsucrdahys/mMDmXci2rn04jclpaDj49GNMF5Sb3O9fJaSPaA0l/6e9gS3POg1YozspU6aPq86jWjXYsqy7C8vLaZ5ZSf0YjG7xNLqxFruuVBbJTIWk+G6SCqpjbn6NGVHLbm7Xren2aJ/2+I8VpSSxp67bFNRBQy5TpvtvNzT31U1jQ7JL2ExUpCvOabyqnUlrJpNe302lKqRPOWhXidK/XYKwnw2njpTnksjs/htYDV2lk1Uf73VGfl5JFr57Uod0bldM4seW0etfZ9fTM4sHAHFgAAAAAAAAAAJDV8gQUAAAAAAAAAAEkNKYSQXBKk9Nk7areJd5PTjd344319/1lErfIzUj02PjaWTRsxeTtst0FlLOY+YWur3lNNqWqxahF+C6ylpDwE8w5s7pgVCpH143OsW7smAwbzh9oe7pHfn8eIP17YRfJW56+berLYWO8W0X7u4jNYLPuVBRRXgr7u+doONv3Awsmi3W/FUn12gaUM/gyh7jy1pyQqb8N2z1q8V++ZLAwllcDS7vK358vPXVHD0y875cqUwppG/tjvgjSZ8rkrwl9nt8VPJXDYeUy9Fd6pxSwlXczl4KkT6b3q4i6DpUkmGL8OGkpqoGHnaQUsXVJP0VUU/pGnB9SYMu/LtHgaRYUl0wVO9pWz2Fk9PtvjexARPVczkk0/Xj1MtCek8/HktNxlov336qEsdnWOPL4jFk+vajDlGL+lnj9u3p0ohXA/M6uqyTSazyWG2UP8v7tOOzaUFGS7llnlVD6Or4r3bV0PealYOZgfm2p+b1MHvr9kbZTL1zNUoh5lnNDSj9y1/LjJXSPT14J5/LI1vUR+kKpBfN9SP6O6PCK+bbxVfHlRr9xOGZt5ykr1YDn+xKprZdviKXZtJbarQqSaFTyzq1WvMRx8G9nS5fWRkaWl/GQp105ailgkR25PWzB+WtYGi5cAyMyV1zWmjS/Pvj3A1y0gr3PUFDEiomi6fJ9H8n7Nl69cD9nDvP/CGfJzGNow5a6T/9G9gfdZZJN8z9jOzbK9j/pWvH9llZxQ2xDXzzmzqnuumsAa3Uf9uv66zmTzNB87F9i/Fv+/uYmnAnZwyUE3ZmnHnjJgbm/iaYGdPfJaKWTyc1YXt0ytN7X3DJjyeApqryuPyOO0KcZjeU5ecsNjk9utJJTNYpkOmYJ6fM4PLHa0t1S0v2ri5QI+D8gxZEM9305zG/qLdkwrL/F6hnLiqt2hzLdvj1k48HAHFgAAAAAAAAAAJDV8gQUAAAAAAAAAAEkNX2ABAAAAAAAAAEBSQw0sSC4JasYERvVg0/Xd5e7rruevs2fKfO5YfT3tDXvfIjY9avQGNp3jkrUcth6qPdu7tbQiQazGjE6ZNdL1wD4itmnyKHI4m3P81X7o/M8VbD6zUebOj8/bTPGsDfFngv/Q2EW0K0P80d47MmQtmpvv+heLvfQK30fiic7tzqZvLODvs+1uWasp/kO/914oh9cYKI3Gf/SxSq0vZVgG2yeShhH/d5FwH1n3ICONHzPqEexx8foFacrjly2tBoL6aGafi9fAaQzxGnOm8tosN3+8e0VU1oIJR3ktlnBEeQy3mz923ArJ5beoGRXdF3tPG1Bqddm0z2MG5XaxEtS50m390zjRfrnrX1nsys1nifajPd9lsYBS62NdhG8/jyG3bZaNj/HHpq9m02M98R8DPuTvl4t2aDSvaXT3kWtFe3OEf16fcryVVvFHgvOHnh9YZjBE5o81CV11cjvV9OfHil05bYRyeCySodSHa9C2pTKrVlaF1Cesm9oVZTBXzhzkJcTIdMsXRtK1877W1xVOZaF2bZ805Lra/Px1hjo+duJFv/p0lvWkaoO8rlcgLMfnem28iayU7Rz1+LBaf6zsa/q4E6tVavjVJqjnp4l/RCWO+RLE9Cu8RFtN3dW8cedqyfPTs+xRko7WcJAxos3/iIh6OivE/5e7+TmkLib36nwHPy/FlEG3q6uaxdRanhGtuGCNch1TE+FHolovy22LxI3lufi66MvItcnr+hOzV7JYX6es4XbN+gtY7KH35XV9bGINi6mjbES7/rIr9UqzvPy6rX+WrJvJK19CqsMdWAAAAAAAAAAAkNTwBRYAAAAAAAAAACQ1pBDCvmMYMlWltY+TT/AYevesxSzEH7TKtcnN/M/xW1V/3XEBm37y0nNE26Dle7WIFilG+udXQ6bcFiN7b2Ox/f1A9/qeDrL/+BjtL2/9m/j/uTd2ZPNtC+eL9kQt5We78tkbYvym/1Oyl4v2CT7tVmfl8bhug6fi3fnMr0S7//P80b/Bh+T0S31fY7GL1lzMptNK4qc7toWGzvwW6Y3BjnHm5CxlH7Bae0wlkapDZD93zOCPhC+pk7fXF2bytN/GiExzszv40e2xy/0h28PTEvUUwqaI3F+6Z/Bb2Bsjcl79dV63zL2yF+SzWHRHiZxIkD6ZVJR9R00Z1BkOfolgDOgj2mtvymCxLZOfFu0bSo5jsUNztor2zVvPYrHfdf9QtHs6eGp0rZICpmfLhhMkMR3222vZdOEr34h2w+wiffa476n2ZqSe7xNMgvPW/pb3ojxP5dn45zFGykeVB7ry9JLGDnJefy/+eRwyW55iPONUpMoQEbm0bH01pTBzK98m3ir5Qmc9Pw8aUd7bzu0yDSe6s5zFqJVprvq+bO/eVbTzwnzcyPXK5RtR/v5mZbFst2rJANCe9LprMTl+vDa9KP8q8f+/GfMpm+/IdJm+viHUib+JJcer7SGef92gDMJ5Tn6dG1IGXYeNj1AOm0yjboxqpQOUJD63wcfjkWlb2XRYSSm87bXLWaz7vfJc6yL+d0oHZTrtHP4X3LqKDqJt01LIQyH5mZq0cTzToV6/JEpshlRzkFxtAwAAAAAAAABAe4UvsAAAAAAAAAAAIKnhCywAAAAAAAAAAEhqqIEF+45lUcuHJrfmNXFodUbc82TdoCPyNrDYG0+fKNodpn9DrbXpb2NFe02/6SzW7+Nr+PTXS1r9vm3BcsjP3y+d1w9aup+/i+44fZHI8b/rgqPF//+mw2dsviHunaId1B7FOy/QU7S7uqpYbJBL1idaqtUjKlCeBW8j/mj0Lac9JydO4+v8bUjWSiqP8Ydy++7PpLi0OjKtrbmSSJg/TZk2Nqr1APgjk+MuO4ke295aoRy5D2e6eO2lrZFc0e6ezutTbaiT28fh4HUdTEvu+w6Dx9xOXsuhrlH2e++0ChbbGZD7QCjKT40Ou9zWke68Bpah1sA6CFVdNY5N//uev4q2RxtzO9jlmBez+LZeH5F1hG7uwGt9/KHkFNG+setcFnutarxo39bhcxbzKYuvM/lxeCQvm0dj7pJ1r3Jf4fUKVS57648bU6ly5C5zxp3PsPN1a1Hb8EDRxipryQ+i7dVOX3xETC5tsTX1Polu3toG7woAEF/fS5eK9mw3r3X69O9PEu1rTv+ExdSasUNz+MluR7RBtDdH01msNiZrG5ZFs1ksTamBVWDnBQvVWrM7lfcnIjryzdvZdNEd8vzanVr/95VqWtf/semV+d1EO6L9rdDJUSfaSxt78nVT6ogt9YwSbZtlI4pf3hNSAO7AAgAAAAAAAACApIYvsAAAAAAAAAAAIKkhhRD2mcCpo8nhbL711R6SqRiuugibz7FLuZW1nt+6agVkWorZwGP1IXlb7a8zV7BY3VXyNtplH/Zkseg2+Rhs/7ljWeydM/8h2pdtO5HFBtzwA5veJ4/QTpBCadlkPk1t1KdFD9y9sl+X9hLtRwv5rc4fBWSuXIaNP6r8CO9W0XZqT6Hfpny+XBv/bDF1E2mv+z4s562O6dtIPjZ4fmM/FjG+Xk5xWXvX07Y0vnzT7xftSBbv53WV8hHCHbQUQltamnyPRv7I5KRkM+KGAj1kGk9DhD/GWc1WK/TUstg3O3qKtsfFxw9V9zS+7Yrrea5mJCJvTe/l5imEq9ydRbsxzNNWbYbsr3AWj7n5jHHXLZk4inqK9p23v85ijab8XWtzjKcnrGUpmvz3L48ht0uejaf2PtbtI9G+ZcdJLHZ2vsxl2xzhqbzjPPJ9ujp4Ct+E789k07kvxU8bVDVF4qcCBk0ei1kyXdlVp8+tMPBbIAAAaJQSFFaInxd73iXPWZ/cxc99n5D826TxrMNYrGKEUjZhIE8FHFUo/77pl8ZLjai+i/Rg0ze8I5fR67f8XFpErTu3EhEvuZGg3MaNj1/Hph0BeY2lVAkhIiJXg5LKX81Twb//TL2Wltf/phX/OhFSA666AAAAAAAAAAAgqeELLAAAAAAAAAAASGr4AgsAAAAAAAAAAJIaamDBPuPvbie7uzkfuqG7Uhsmn+cwp2XIKjKRSBqLBWuUmkomry9jlMr86qOqrmcxxyr5Pu5TWIjqDisQ7WP68bpWt276lWi7buP1X8zgajZt88kaR2YgQPuavVHmdM/5YjiL9aaF+3z58RQ8LPvIOZM//vYkX41o27Tvy7cru8G6CK9VVBuT/Rex89pnGUpNrAwbz3N3KpXJPAaP9XDIGlz33HsUi/loEZtubR5/IoYRvx5SzM1rYNVWyn2tgzavYbdTylBKKDWEeQ0sn1LvqC7qZTG1dpXbycePzh5ZnGiIr5jFvjJ7s2mnM35fOmxy5SIxrb6TQy7TiF+mrkVfJZj1gNp2TqFoD3eXsti8QB/R7uasYjG1+leBnddj8xhy2wa1x2DnKlviwS6zWGyWUo/uL9t4TcJbiuaK9lnpvNZH2qTNFI86NhPx8bk+4NFnF7Lt8cdxX/k+qXoIAACpai+vH1Vp7y7SpuPPW87a8c91ehXfXj+nzlUirfy8nR77pm2WB+0W7sACAAAAAAAAAICkhi+wAAAAAAAAAAAgqSGFEPaZjtMXkcOI/8jyPXF0KWTT4aKOoh0s4I+v93eVKUiWwdORGrspqWSH1rBYv3SZkvbV50NYrM/LFaIdW8dTBnX7I21QZW+Uz5Z9/+znWOyW28bt13VRGV8vF+0TC4ezWP35MiXoyP/jaY5/6Shf17tFalc9xeeK007squITRdv370UJ5mwbViz+rdQjRm9k02t2dYwzJ5FlJWsi2s9nC8vfTCKmlqanpAaurOHjgKXMGwzzMSXdLlMPgxbfH+rqeCqZyyPTSreF8lnMYcgxwzTj/7bjaIrGjSXq82TSbfpK0b7r1NNY7KpOX4h2kaOOxdSkA6eWIRu05H9ELL79SmNqai9/3a8ztor22AE8LXCgU/b1Edfzx263SPtVWOFw3Fg0Ej8l12/ylAufTfan+ihvneHkl1JWJP7yAQAAAGDv4Q4sAAAAAAAAAABIavgCCwAAAAAAAAAAkhq+wAKA/2/vbl6sKsMAgJ87KabNnbFMS8PMGXTRBxQFFVEuWrSIoFWL1kGbCBfSpkUEbdv0NxQuWkQF9gcUFKg4BBIWU4hfWGrGtfHO3I/Txs457425jt4z+dzL77d6Do/3zHvP47kHnpnnvQAAABCaPbAIpXsu/Ur3qcrxloF/O3i8VtUdhfZm55Jc5B1seidPFfFrXx1McvuG7AdzJ80cLve9Wjic5l7JnizixtOPJbmLz84W8dXH0z2HpneWe5g9NJvu0ZNX9uFZvJjucTT/5sLqC20MbMxTw1cfD9sj7cIn88nxnh8vF/HgT86vXx95LVFsnb9SxLubV5PcUrfcv2pu+lKSm2uW12dmQ3o9nrmn3Ddp38bLSe7InnSPu6e2niniD7ane9y9s9Is4vun/05yU9VPjeXInxJr02+1ivjPF9Lcx/tfL+Jf3tqR5F59+WgRf/jAt0nu4anNI69r+9S15PilQweLeOaLH7I6NH4deHIcKMNHN6afJ5+19hRx89jZJFf9VMo7q++LBgBAffwFFgAAAAChaWABAAAAEJoRQhhD+96NOTJ4u/LjJ5PjHccr8bDXDcnNZ2eHZAdPNOxMt2nIOac/T+s3bCgt747ZeFJv9XdzbWFbER/dtjXJbfqjfBz9trw3yd19qbyWjYHTf7PzuSJuP5gm71tIf0dzelM5uvnp7gNJrjpEetfSwEjpE+XI3dzp35NUUp0h731c9H5eLOK59xaT3E+V+I3s+SRXHQP+a38zybXvLeuw+Uo/yc2cKq9tfiL9HJjJ6hkbrHrk/e+T4xePvV3EWy6k46kbLpYjhd1zp1c9Z95ZqWl1AAAM4y+wAAAAAAhNAwsAAACA0IwQUrv8xuhUN+sMn/Fi3XWzTpZlZU1GpbZx1FnbOuvaqKwnz9Pxx367XcbX03G7XrvyOBqYyOqtrD5C2Fsux/3+c86V9Hc0vcq3Tfbb6RtNhgaXB0YIl8p1d/vp4rp5pzzHQC0G3/9ajOs92+gtF3GvszHJVevQ7aQjhN3K6/LKtRxpLbdQh26nUttuO032y7V1a1jbuNaWm1PbyRX1Wcto3LOTq+7aEo8GFrVr3fiK9u+yI3d4Jfyr1Wpls7OztZwny9Q2kjpqW2tdh/VsPvpy9PPfgjPrcM7FYckatysbu3v2RKW2J9b3R93UrdTh6//3/2SWjWFtWTO1nVzhnrXUwj07ueqqLfE0cu1Jatbv97Pz589nzWYzazQaN38B6ybP86zVamW7du3KpqZGnxhW2zjqrK26xuGenVxqO7nUdnJ51k4m9+zkqru2xKOBBQAAAEBo2pIAAAAAhKaBBQAAAEBoGlgAAAAAhKaBBQAAAEBoGlgAAAAAhKaBBQAAAEBoGlgAAAAAhKaBBQAAAEBoGlgAAAAAhKaBBQAAAEBoGlgAAAAAhKaBBQAAAEBoGlgAAAAAhKaBBQAAAEBoGlgAAAAAhKaBBQAAAEBoGlgAAAAAhKaBBQAAAEBoGlgAAAAAhKaBBQAAAEBoGlgAAAAAhKaBBQAAAEBoGlgAAAAAhKaBBQAAAEBoGlgAAAAAhKaBBQAAAEBoGlgAAAAAhKaBBQAAAEBoGlgAAAAAhKaBBQAAAEBoGlgAAAAAhKaBBQAAAEBoGlgAAAAAhPYPZXR+43Lfur8AAAAASUVORK5CYII=' width=1200.0/>\n",
       "            </div>\n",
       "        "
      ],
      "text/plain": [
       "Canvas(toolbar=Toolbar(toolitems=[('Home', 'Reset original view', 'home', 'home'), ('Back', 'Back to previous …"
      ]
     },
     "metadata": {},
     "output_type": "display_data"
    }
   ],
   "source": [
    "X, y = next(iter(data.DataLoader(mnist_train, batch_size=18)))\n",
    "\n",
    "\n",
    "d2l.show_images(\n",
    "    imgs=X.reshape(18, 28, 28),\n",
    "    num_rows=2,\n",
    "    num_cols=8,\n",
    "    titles=get_fashion_mnist_labels_zh(y),\n",
    "    scale=1.5,\n",
    ");"
   ]
  },
  {
   "cell_type": "markdown",
   "id": "a35a2669-57ad-44f1-a951-0479c5091b31",
   "metadata": {},
   "source": [
    "设置批量大小，并生成训练集和测试集"
   ]
  },
  {
   "cell_type": "code",
   "execution_count": 22,
   "id": "920c7a7a-9f3c-43c3-983a-84d3d83bd328",
   "metadata": {},
   "outputs": [],
   "source": [
    "batch_size = 256\n",
    "\n",
    "# 在Windows下需要设置num_workers=0 （默认状态）\n",
    "train_iter = data.DataLoader(\n",
    "    mnist_train, batch_size, shuffle=True)\n",
    "test_iter = data.DataLoader(\n",
    "    mnist_train, batch_size, shuffle=False)"
   ]
  },
  {
   "cell_type": "code",
   "execution_count": null,
   "id": "384993ad-be04-4d7a-9261-4f5ba3222f6a",
   "metadata": {},
   "outputs": [
    {
     "name": "stdout",
     "output_type": "stream",
     "text": [
      "Wall time: 5.67 s\n"
     ]
    }
   ],
   "source": [
    "%%time\n",
    "\n",
    "for X, y in train_iter:\n",
    "    continue"
   ]
  },
  {
   "cell_type": "markdown",
   "id": "0023046f-82b3-467e-b41b-893971872ad1",
   "metadata": {},
   "source": [
    "## softmax实现1: 不使用高级API"
   ]
  },
  {
   "cell_type": "markdown",
   "id": "2dc60777-9eff-4b21-829b-6c24fb9a5b88",
   "metadata": {},
   "source": [
    "#### 使用softmax\n",
    "\n",
    "每一个元素都是正数，且每一行的和为1"
   ]
  },
  {
   "cell_type": "markdown",
   "id": "dfdd3146-ce3a-4931-9c6d-f1a238de4908",
   "metadata": {},
   "source": [
    "根据公式$\\hat{y_i} = \\frac{exp(o_i)}{\\sum_{k}exp(o_k)}$，创建softmax函数"
   ]
  },
  {
   "cell_type": "code",
   "execution_count": 24,
   "id": "7ee47588-0bec-4037-b6ab-e2df81f4537c",
   "metadata": {
    "tags": []
   },
   "outputs": [],
   "source": [
    "# x 是一个矩阵，不同行对应不同的样本，需要对每一行中的元素进行softmax\n",
    "def softmax(X):\n",
    "    X_exp = torch.exp(X)\n",
    "    X_partition = X_exp.sum(dim=1, keepdim=True)\n",
    "    return X_exp/X_partition"
   ]
  },
  {
   "cell_type": "code",
   "execution_count": 25,
   "id": "aa0ba741-e037-4667-814e-aab734381f65",
   "metadata": {},
   "outputs": [
    {
     "name": "stdout",
     "output_type": "stream",
     "text": [
      "tensor([[0.1589, 0.2592, 0.1721, 0.0811, 0.3287],\n",
      "        [0.5842, 0.1071, 0.1423, 0.0906, 0.0758]])\n",
      "tensor([1.0000, 1.0000])\n"
     ]
    }
   ],
   "source": [
    "test_X = torch.normal(0, 1, (2, 5))\n",
    "test_X_softmax = softmax(test_X)\n",
    "print(test_X_softmax)\n",
    "\n",
    "# 验证每一行的和为1\n",
    "print(test_X_softmax.sum(dim=1))"
   ]
  },
  {
   "cell_type": "code",
   "execution_count": 26,
   "id": "46cd91d3-d549-4d93-a3e3-2d9b0a05eeed",
   "metadata": {},
   "outputs": [],
   "source": [
    "num_inputs = 784\n",
    "num_outputs = 10\n",
    "W = torch.normal(0, 0.01, size=(num_inputs, num_outputs), requires_grad=True)\n",
    "b = torch.zeros(num_outputs, requires_grad=True)"
   ]
  },
  {
   "cell_type": "code",
   "execution_count": 27,
   "id": "db64dd09-ecf9-4fde-9b4c-77c5715418a6",
   "metadata": {},
   "outputs": [],
   "source": [
    "def net(X):\n",
    "    return softmax(torch.matmul(X.reshape(-1, W.shape[0]), W)+b)"
   ]
  },
  {
   "cell_type": "markdown",
   "id": "f31c4608-2ff5-4a14-9294-de930bce6bcc",
   "metadata": {},
   "source": [
    "#### 定义交叉熵损失函数\n",
    "根据交叉熵损失公式\n",
    "$$l(y,\\hat{y}) = - \\sum_{j=1}^{q}y_i\\log\\hat{y_j}$$\n",
    "定义交叉熵损失函数"
   ]
  },
  {
   "cell_type": "code",
   "execution_count": 28,
   "id": "dec0d8a5-2abd-492b-97d7-85db5158f80e",
   "metadata": {},
   "outputs": [],
   "source": [
    "def cross_entropy(y_hat, y):\n",
    "    return -torch.log(y_hat[range(len(y_hat)), y])"
   ]
  },
  {
   "cell_type": "markdown",
   "id": "5a87a95f-c989-4bf2-a687-2d74afe0da6d",
   "metadata": {},
   "source": [
    "测试交叉熵函数\n",
    "\n",
    "两个样本，每个样本包含三个类别的预测概率。\n",
    "\n",
    "y第一个样本的正确分类是“0”，而在y_hat中的分类为”0“的概率为0.1\n",
    "\n",
    "交叉上为 $- [1*\\log(0.1) + 0*\\log(0.3) + 0*\\log(0.6)]= 2.3026$\n",
    "\n",
    "y第二个样本的正确分类是“2”，而在y_hat中的分类为“2”的概率为0.5\n",
    "\n",
    "交叉上为 $- [0*\\log(0.3) + 0*\\log(0.2) + 1*\\log(0.5)]= 2.3026$\n"
   ]
  },
  {
   "cell_type": "code",
   "execution_count": 29,
   "id": "11ca7f1a-b2cb-4047-bedc-1bbb8bd9bef3",
   "metadata": {},
   "outputs": [
    {
     "data": {
      "text/plain": [
       "tensor([2.3026, 0.6931])"
      ]
     },
     "execution_count": 29,
     "metadata": {},
     "output_type": "execute_result"
    },
    {
     "data": {
      "text/plain": [
       "tensor([2.3026, 0.6931])"
      ]
     },
     "execution_count": 29,
     "metadata": {},
     "output_type": "execute_result"
    }
   ],
   "source": [
    "y_test = torch.tensor([0, 2])\n",
    "y_hat_test = torch.tensor([[0.1, 0.3, 0.6], [0.3, 0.2, 0.5]])\n",
    "cross_entropy(y_hat_test, y_test)\n",
    "\n",
    "# 验证\n",
    "torch.tensor([-math.log(0.1), -math.log(0.5)])"
   ]
  },
  {
   "cell_type": "markdown",
   "id": "698b5341-46ae-4924-b67a-a30a843bc6b4",
   "metadata": {},
   "source": [
    "定义预测准确度函数"
   ]
  },
  {
   "cell_type": "code",
   "execution_count": 84,
   "id": "cb73c131-c799-4023-a74d-d47e52d4b646",
   "metadata": {},
   "outputs": [
    {
     "data": {
      "text/plain": [
       "1.0"
      ]
     },
     "execution_count": 84,
     "metadata": {},
     "output_type": "execute_result"
    }
   ],
   "source": [
    "def accuracy(y_hat, y):\n",
    "    if y_hat.shape[0] != y.shape[0]:\n",
    "        raise Exception(\"y_hat.shape != y.shape\")\n",
    "    cmp = y == y_hat.argmax(dim=1)\n",
    "    return float(cmp.sum())\n",
    "\n",
    "\n",
    "accuracy(y_hat_test, y_test)"
   ]
  },
  {
   "cell_type": "code",
   "execution_count": 10,
   "id": "3a94686b-bffc-4e35-913c-b8b898a5974e",
   "metadata": {},
   "outputs": [
    {
     "name": "stdout",
     "output_type": "stream",
     "text": [
      "train size: 60000\n",
      "test size: 10000\n",
      "image size: torch.Size([1, 28, 28])\n"
     ]
    }
   ],
   "source": [
    "d2l.use_svg_display()\n",
    "trans = transforms.ToTensor()\n",
    "\n",
    "mnist_train = torchvision.datasets.FashionMNIST(\n",
    "    root=\"data\", train=True, transform=trans, download=True\n",
    ")\n",
    "mnist_test = torchvision.datasets.FashionMNIST(\n",
    "    root=\"data\", train=False, transform=trans, download=True\n",
    ")\n",
    "\n",
    "print(\"train size:\", len(mnist_train))\n",
    "print(\"test size:\", len(mnist_test))\n",
    "print(\"image size:\", mnist_train[0][0].shape)"
   ]
  },
  {
   "cell_type": "code",
   "execution_count": 13,
   "id": "a558eb59-5c4c-4734-84d8-ee1fef0bd579",
   "metadata": {},
   "outputs": [],
   "source": [
    "batch_size = 25\n",
    "X, y = next(iter(data.DataLoader(mnist_train, batch_size=batch_size)))"
   ]
  },
  {
   "cell_type": "code",
   "execution_count": 3,
   "id": "a7182d8c-d647-49aa-9808-47248bcf56d3",
   "metadata": {},
   "outputs": [],
   "source": [
    "# 生成一个小批量样本用于更新模型\n",
    "def data_iter(batch_size, features, labels):\n",
    "    num_examples = len(features)\n",
    "    indices = list(range(num_examples))\n",
    "    random.shuffle(indices)\n",
    "    for i in range(0, num_examples, batch_size):\n",
    "        batch_indices = torch.tensor(\n",
    "            indices[i:min(i+batch_size, num_examples)])\n",
    "        yield features[batch_indices], labels[batch_indices]"
   ]
  },
  {
   "cell_type": "code",
   "execution_count": 105,
   "id": "4d6d2b37-afb6-4dc4-91c5-7417de4a95c0",
   "metadata": {},
   "outputs": [],
   "source": [
    "def softmax(X):\n",
    "    X_exp = torch.exp(X)\n",
    "    X_partition = X_exp.sum(dim=1, keepdim=True)\n",
    "    return X_exp/X_partition"
   ]
  },
  {
   "cell_type": "code",
   "execution_count": 110,
   "id": "fc4f7710-4068-4e69-a9ef-f42ed93bfd78",
   "metadata": {},
   "outputs": [],
   "source": [
    "def cross_entropy(y_hat, y):\n",
    "    return - torch.log(y_hat[range(len(y_hat)), y])\n"
   ]
  },
  {
   "cell_type": "code",
   "execution_count": 89,
   "id": "eed5da89-ab75-4245-8ccb-b930cb11c53c",
   "metadata": {},
   "outputs": [],
   "source": [
    "def accuracy(y_hat, y):\n",
    "    if y_hat.shape[0] != y.shape[0]:\n",
    "        raise Exception(\"y_hat.shape != y.shape\")\n",
    "    cmp = y == y_hat.argmax(dim=1)\n",
    "    return float(cmp.sum())"
   ]
  },
  {
   "cell_type": "code",
   "execution_count": 111,
   "id": "a51aa9dc-35bc-47e5-82a0-0bd21b734d8e",
   "metadata": {},
   "outputs": [
    {
     "name": "stdout",
     "output_type": "stream",
     "text": [
      "hello\n",
      "Epoch 0, loss sum:101.03097769095932, accuracy rate avg:0.8162994492863331\n",
      "hello\n",
      "Epoch 1, loss sum:94.29249678025921, accuracy rate avg:0.8269570425404484\n",
      "hello\n",
      "Epoch 2, loss sum:89.96422193035977, accuracy rate avg:0.8054551105687939\n",
      "hello\n",
      "Epoch 3, loss sum:84.64144878930182, accuracy rate avg:0.8385509768055164\n",
      "hello\n",
      "Epoch 4, loss sum:90.44589736637673, accuracy rate avg:0.8461481739403676\n",
      "hello\n",
      "Epoch 5, loss sum:86.85175717092434, accuracy rate avg:0.8108281976323974\n",
      "hello\n",
      "Epoch 6, loss sum:81.41853918621963, accuracy rate avg:0.8177360138034323\n",
      "hello\n",
      "Epoch 7, loss sum:83.48247919782325, accuracy rate avg:0.8306074375187523\n",
      "hello\n",
      "Epoch 8, loss sum:78.58442430866623, accuracy rate avg:0.8552815616673053\n",
      "hello\n",
      "Epoch 9, loss sum:84.31785564729445, accuracy rate avg:0.8475827112561141\n",
      "hello\n",
      "Epoch 10, loss sum:90.27107288806388, accuracy rate avg:0.7830969126793828\n",
      "hello\n",
      "Epoch 11, loss sum:76.39843896134494, accuracy rate avg:0.8494660401581462\n",
      "hello\n",
      "Epoch 12, loss sum:80.07340816768036, accuracy rate avg:0.8645846403739328\n",
      "hello\n",
      "Epoch 13, loss sum:71.40596826250801, accuracy rate avg:0.874130873600492\n",
      "hello\n",
      "Epoch 14, loss sum:91.23849930733334, accuracy rate avg:0.8127823786858153\n",
      "hello\n",
      "Epoch 15, loss sum:79.01752737331546, accuracy rate avg:0.8250610455471887\n",
      "hello\n",
      "Epoch 16, loss sum:76.44115024941163, accuracy rate avg:0.8684173621159739\n",
      "hello\n",
      "Epoch 17, loss sum:85.61792887432324, accuracy rate avg:0.8099269367329904\n",
      "hello\n",
      "Epoch 18, loss sum:70.60255983230971, accuracy rate avg:0.8505126081249734\n",
      "hello\n",
      "Epoch 19, loss sum:75.22068765555791, accuracy rate avg:0.8518267878700874\n"
     ]
    }
   ],
   "source": [
    "batch_size = 256\n",
    "num_epoches = 20  # 训练次数\n",
    "learning_rate = 0.1  # 学习率\n",
    "\n",
    "\n",
    "w = torch.normal(0, 0.01, (784, 10), requires_grad=True)\n",
    "b = torch.zeros(10, requires_grad=True)\n",
    "\n",
    "train_iter = data.DataLoader(\n",
    "    mnist_train, batch_size, shuffle=True)\n",
    "\n",
    "for epoch in range(num_epoches):\n",
    "    loss_sum = 0\n",
    "    accuracy_rate_avg = 0\n",
    "    first = True\n",
    "    for X, y in train_iter:\n",
    "        y_hat = softmax(torch.matmul(X.reshape(-1,784), w)+b)\n",
    "        loss = cross_entropy(y_hat, y)\n",
    "        loss.sum().backward()\n",
    "        d2l.sgd([w, b], learning_rate, batch_size)\n",
    "        \n",
    "        accuracy_rate = accuracy(y_hat, y)/len(y)\n",
    "\n",
    "        \n",
    "        if first:\n",
    "            first = False\n",
    "            accuracy_rate_avg = accuracy_rate\n",
    "            loss_sum = float(loss.sum())\n",
    "            \n",
    "        else:\n",
    "            accuracy_rate_avg = (accuracy_rate+accuracy_rate_avg)/2\n",
    "            loss_sum = (loss_sum+float(loss.sum()))/2\n",
    "    with torch.no_grad():\n",
    "        print(f'Epoch {epoch}, loss sum:{loss_sum}, accuracy rate avg:{accuracy_rate_avg}')\n"
   ]
  },
  {
   "cell_type": "code",
   "execution_count": 130,
   "id": "991c7c1c-3144-490d-a8f5-9368990316f8",
   "metadata": {},
   "outputs": [],
   "source": [
    "def get_fashion_mnist_labels_zh(labels):\n",
    "    \"\"\"返回 Fashion-MNIST 数据集的中文标签\"\"\"\n",
    "    text_labels = ['T恤', '裤子', '套衫', '连衣裙', '外套', '凉鞋', '衬衫', '运动鞋', '包', '短靴']\n",
    "    return [text_labels[int(i)] for i in labels]"
   ]
  },
  {
   "cell_type": "code",
   "execution_count": 135,
   "id": "7aa3d432-488e-42de-bcca-8727c68406bc",
   "metadata": {},
   "outputs": [
    {
     "name": "stdout",
     "output_type": "stream",
     "text": [
      "['短靴', 'T恤', 'T恤', '连衣裙', 'T恤', '套衫']\n"
     ]
    },
    {
     "data": {
      "text/plain": [
       "array([<AxesSubplot:title={'center':'短靴->短靴'}>,\n",
       "       <AxesSubplot:title={'center':'T恤->T恤'}>,\n",
       "       <AxesSubplot:title={'center':'T恤->T恤'}>,\n",
       "       <AxesSubplot:title={'center':'连衣裙->连衣裙'}>,\n",
       "       <AxesSubplot:title={'center':'T恤->连衣裙'}>,\n",
       "       <AxesSubplot:title={'center':'套衫->套衫'}>], dtype=object)"
      ]
     },
     "execution_count": 135,
     "metadata": {},
     "output_type": "execute_result"
    },
    {
     "data": {
      "application/vnd.jupyter.widget-view+json": {
       "model_id": "66e6e2a1a1db410e9b415ccd93a0aa9f",
       "version_major": 2,
       "version_minor": 0
      },
      "text/html": [
       "\n",
       "            <div style=\"display: inline-block;\">\n",
       "                <div class=\"jupyter-widgets widget-label\" style=\"text-align: center;\">\n",
       "                    Figure\n",
       "                </div>\n",
       "                <img src='data:image/png;base64,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' width=900.0/>\n",
       "            </div>\n",
       "        "
      ],
      "text/plain": [
       "Canvas(toolbar=Toolbar(toolitems=[('Home', 'Reset original view', 'home', 'home'), ('Back', 'Back to previous …"
      ]
     },
     "metadata": {},
     "output_type": "display_data"
    }
   ],
   "source": [
    "test_iter = data.DataLoader(mnist_train, batch_size, shuffle=False)\n",
    "\n",
    "n = 6\n",
    "for X, y in test_iter:\n",
    "    trues = get_fashion_mnist_labels_zh(y)\n",
    "    print(trues[:6])\n",
    "    y_hat = softmax(torch.matmul(X.reshape(-1,784), w)+b).argmax(axis=1)\n",
    "    # print(preds[:6])\n",
    "        \n",
    "    preds = get_fashion_mnist_labels_zh(y_hat)\n",
    "    titles = [true +'->' + pred for true, pred in zip(trues, preds)]\n",
    "    d2l.show_images(\n",
    "        X[0:n].reshape((n, 28, 28)), 1, n, titles=titles[0:n])\n",
    "    break\n"
   ]
  },
  {
   "cell_type": "markdown",
   "id": "20b81e3c-699b-43c3-bbb4-a9fd5610018b",
   "metadata": {},
   "source": [
    "## softmax实现2: 使用高级API实现 "
   ]
  },
  {
   "cell_type": "code",
   "execution_count": 42,
   "id": "741e9182-0b5c-4ae7-acb4-0a1cacfdffd5",
   "metadata": {},
   "outputs": [
    {
     "data": {
      "text/plain": [
       "Sequential(\n",
       "  (0): Flatten(start_dim=1, end_dim=-1)\n",
       "  (1): Linear(in_features=784, out_features=10, bias=True)\n",
       ")"
      ]
     },
     "execution_count": 42,
     "metadata": {},
     "output_type": "execute_result"
    }
   ],
   "source": [
    "batch_size = 256\n",
    "net = torch.nn.Sequential(torch.nn.Flatten(), torch.nn.Linear(784, 10))\n",
    "\n",
    "\n",
    "def init_weights(m):\n",
    "    if type(m) == torch.nn.Linear:\n",
    "        torch.nn.init.normal_(m.weight, std=0.01)\n",
    "\n",
    "\n",
    "net.apply(init_weights)"
   ]
  },
  {
   "cell_type": "code",
   "execution_count": 43,
   "id": "03567fae-8d2e-4dda-bef2-cdff46bb99b6",
   "metadata": {},
   "outputs": [],
   "source": [
    "loss = torch.nn.CrossEntropyLoss()"
   ]
  },
  {
   "cell_type": "code",
   "execution_count": 44,
   "id": "4e5d8f13-1de8-4c1f-ba97-2100c2e7dc3b",
   "metadata": {},
   "outputs": [],
   "source": [
    "trainer = torch.optim.SGD(net.parameters(), lr=0.1)"
   ]
  },
  {
   "cell_type": "code",
   "execution_count": 45,
   "id": "7f6c4e7f-6fd0-42cf-8ee6-4fa5241437ed",
   "metadata": {},
   "outputs": [
    {
     "data": {
      "image/svg+xml": [
       "<?xml version=\"1.0\" encoding=\"utf-8\" standalone=\"no\"?>\r\n",
       "<!DOCTYPE svg PUBLIC \"-//W3C//DTD SVG 1.1//EN\"\r\n",
       "  \"http://www.w3.org/Graphics/SVG/1.1/DTD/svg11.dtd\">\r\n",
       "<svg height=\"177.55pt\" version=\"1.1\" viewBox=\"0 0 236.7 177.55\" width=\"236.7pt\" xmlns=\"http://www.w3.org/2000/svg\" xmlns:xlink=\"http://www.w3.org/1999/xlink\">\r\n",
       " <metadata>\r\n",
       "  <rdf:RDF xmlns:cc=\"http://creativecommons.org/ns#\" xmlns:dc=\"http://purl.org/dc/elements/1.1/\" xmlns:rdf=\"http://www.w3.org/1999/02/22-rdf-syntax-ns#\">\r\n",
       "   <cc:Work>\r\n",
       "    <dc:type rdf:resource=\"http://purl.org/dc/dcmitype/StillImage\"/>\r\n",
       "    <dc:date>2021-11-07T17:05:30.958476</dc:date>\r\n",
       "    <dc:format>image/svg+xml</dc:format>\r\n",
       "    <dc:creator>\r\n",
       "     <cc:Agent>\r\n",
       "      <dc:title>Matplotlib v3.4.3, https://matplotlib.org/</dc:title>\r\n",
       "     </cc:Agent>\r\n",
       "    </dc:creator>\r\n",
       "   </cc:Work>\r\n",
       "  </rdf:RDF>\r\n",
       " </metadata>\r\n",
       " <defs>\r\n",
       "  <style type=\"text/css\">*{stroke-linecap:butt;stroke-linejoin:round;}</style>\r\n",
       " </defs>\r\n",
       " <g id=\"figure_1\">\r\n",
       "  <g id=\"patch_1\">\r\n",
       "   <path d=\"M 0 177.55 \r\n",
       "L 236.7 177.55 \r\n",
       "L 236.7 0 \r\n",
       "L 0 0 \r\n",
       "z\r\n",
       "\" style=\"fill:none;\"/>\r\n",
       "  </g>\r\n",
       "  <g id=\"axes_1\">\r\n",
       "   <g id=\"patch_2\">\r\n",
       "    <path d=\"M 29.2 143.1 \r\n",
       "L 224.5 143.1 \r\n",
       "L 224.5 7.2 \r\n",
       "L 29.2 7.2 \r\n",
       "z\r\n",
       "\" style=\"fill:#ffffff;\"/>\r\n",
       "   </g>\r\n",
       "   <g id=\"matplotlib.axis_1\">\r\n",
       "    <g id=\"xtick_1\">\r\n",
       "     <g id=\"line2d_1\">\r\n",
       "      <path clip-path=\"url(#p0009f28c90)\" d=\"M 50.9 143.1 \r\n",
       "L 50.9 7.2 \r\n",
       "\" style=\"fill:none;stroke:#b0b0b0;stroke-linecap:square;stroke-width:0.8;\"/>\r\n",
       "     </g>\r\n",
       "     <g id=\"line2d_2\">\r\n",
       "      <defs>\r\n",
       "       <path d=\"M 0 0 \r\n",
       "L 0 3.5 \r\n",
       "\" id=\"me659257fad\" style=\"stroke:#000000;stroke-width:0.8;\"/>\r\n",
       "      </defs>\r\n",
       "      <g>\r\n",
       "       <use style=\"stroke:#000000;stroke-width:0.8;\" x=\"50.9\" xlink:href=\"#me659257fad\" y=\"143.1\"/>\r\n",
       "      </g>\r\n",
       "     </g>\r\n",
       "     <g id=\"text_1\">\r\n",
       "      <!-- 2 -->\r\n",
       "      <g transform=\"translate(48.4 156.975)scale(0.1 -0.1)\">\r\n",
       "       <defs>\r\n",
       "        <path d=\"M 300 250 \r\n",
       "Q 325 625 650 925 \r\n",
       "Q 975 1225 1475 1862 \r\n",
       "Q 1975 2500 2125 2850 \r\n",
       "Q 2275 3200 2237 3450 \r\n",
       "Q 2200 3700 2000 3862 \r\n",
       "Q 1800 4025 1537 4000 \r\n",
       "Q 1275 3975 1037 3800 \r\n",
       "Q 800 3625 675 3275 \r\n",
       "L 200 3350 \r\n",
       "Q 400 3925 712 4187 \r\n",
       "Q 1025 4450 1450 4475 \r\n",
       "Q 1700 4500 1900 4462 \r\n",
       "Q 2100 4425 2312 4287 \r\n",
       "Q 2525 4150 2662 3875 \r\n",
       "Q 2800 3600 2762 3212 \r\n",
       "Q 2725 2825 2375 2287 \r\n",
       "Q 2025 1750 1025 600 \r\n",
       "L 2825 600 \r\n",
       "L 2825 150 \r\n",
       "L 300 150 \r\n",
       "L 300 250 \r\n",
       "z\r\n",
       "\" id=\"SimHei-32\" transform=\"scale(0.015625)\"/>\r\n",
       "       </defs>\r\n",
       "       <use xlink:href=\"#SimHei-32\"/>\r\n",
       "      </g>\r\n",
       "     </g>\r\n",
       "    </g>\r\n",
       "    <g id=\"xtick_2\">\r\n",
       "     <g id=\"line2d_3\">\r\n",
       "      <path clip-path=\"url(#p0009f28c90)\" d=\"M 94.3 143.1 \r\n",
       "L 94.3 7.2 \r\n",
       "\" style=\"fill:none;stroke:#b0b0b0;stroke-linecap:square;stroke-width:0.8;\"/>\r\n",
       "     </g>\r\n",
       "     <g id=\"line2d_4\">\r\n",
       "      <g>\r\n",
       "       <use style=\"stroke:#000000;stroke-width:0.8;\" x=\"94.3\" xlink:href=\"#me659257fad\" y=\"143.1\"/>\r\n",
       "      </g>\r\n",
       "     </g>\r\n",
       "     <g id=\"text_2\">\r\n",
       "      <!-- 4 -->\r\n",
       "      <g transform=\"translate(91.8 156.975)scale(0.1 -0.1)\">\r\n",
       "       <defs>\r\n",
       "        <path d=\"M 2000 1100 \r\n",
       "L 75 1100 \r\n",
       "L 75 1525 \r\n",
       "L 2100 4450 \r\n",
       "L 2475 4450 \r\n",
       "L 2475 1525 \r\n",
       "L 3075 1525 \r\n",
       "L 3075 1100 \r\n",
       "L 2475 1100 \r\n",
       "L 2475 150 \r\n",
       "L 2000 150 \r\n",
       "L 2000 1100 \r\n",
       "z\r\n",
       "M 2000 1525 \r\n",
       "L 2000 3500 \r\n",
       "L 600 1525 \r\n",
       "L 2000 1525 \r\n",
       "z\r\n",
       "\" id=\"SimHei-34\" transform=\"scale(0.015625)\"/>\r\n",
       "       </defs>\r\n",
       "       <use xlink:href=\"#SimHei-34\"/>\r\n",
       "      </g>\r\n",
       "     </g>\r\n",
       "    </g>\r\n",
       "    <g id=\"xtick_3\">\r\n",
       "     <g id=\"line2d_5\">\r\n",
       "      <path clip-path=\"url(#p0009f28c90)\" d=\"M 137.7 143.1 \r\n",
       "L 137.7 7.2 \r\n",
       "\" style=\"fill:none;stroke:#b0b0b0;stroke-linecap:square;stroke-width:0.8;\"/>\r\n",
       "     </g>\r\n",
       "     <g id=\"line2d_6\">\r\n",
       "      <g>\r\n",
       "       <use style=\"stroke:#000000;stroke-width:0.8;\" x=\"137.7\" xlink:href=\"#me659257fad\" y=\"143.1\"/>\r\n",
       "      </g>\r\n",
       "     </g>\r\n",
       "     <g id=\"text_3\">\r\n",
       "      <!-- 6 -->\r\n",
       "      <g transform=\"translate(135.2 156.975)scale(0.1 -0.1)\">\r\n",
       "       <defs>\r\n",
       "        <path d=\"M 250 1612 \r\n",
       "Q 275 1975 387 2225 \r\n",
       "Q 500 2475 725 2850 \r\n",
       "L 1750 4450 \r\n",
       "L 2325 4450 \r\n",
       "L 1275 2800 \r\n",
       "Q 1950 2975 2350 2750 \r\n",
       "Q 2750 2525 2887 2237 \r\n",
       "Q 3025 1950 3037 1612 \r\n",
       "Q 3050 1275 2937 950 \r\n",
       "Q 2825 625 2537 362 \r\n",
       "Q 2250 100 1737 75 \r\n",
       "Q 1225 50 862 262 \r\n",
       "Q 500 475 362 862 \r\n",
       "Q 225 1250 250 1612 \r\n",
       "z\r\n",
       "M 1025 787 \r\n",
       "Q 1250 550 1625 525 \r\n",
       "Q 2000 500 2250 775 \r\n",
       "Q 2500 1050 2500 1575 \r\n",
       "Q 2500 2100 2187 2300 \r\n",
       "Q 1875 2500 1487 2450 \r\n",
       "Q 1100 2400 925 2075 \r\n",
       "Q 750 1750 775 1387 \r\n",
       "Q 800 1025 1025 787 \r\n",
       "z\r\n",
       "\" id=\"SimHei-36\" transform=\"scale(0.015625)\"/>\r\n",
       "       </defs>\r\n",
       "       <use xlink:href=\"#SimHei-36\"/>\r\n",
       "      </g>\r\n",
       "     </g>\r\n",
       "    </g>\r\n",
       "    <g id=\"xtick_4\">\r\n",
       "     <g id=\"line2d_7\">\r\n",
       "      <path clip-path=\"url(#p0009f28c90)\" d=\"M 181.1 143.1 \r\n",
       "L 181.1 7.2 \r\n",
       "\" style=\"fill:none;stroke:#b0b0b0;stroke-linecap:square;stroke-width:0.8;\"/>\r\n",
       "     </g>\r\n",
       "     <g id=\"line2d_8\">\r\n",
       "      <g>\r\n",
       "       <use style=\"stroke:#000000;stroke-width:0.8;\" x=\"181.1\" xlink:href=\"#me659257fad\" y=\"143.1\"/>\r\n",
       "      </g>\r\n",
       "     </g>\r\n",
       "     <g id=\"text_4\">\r\n",
       "      <!-- 8 -->\r\n",
       "      <g transform=\"translate(178.6 156.975)scale(0.1 -0.1)\">\r\n",
       "       <defs>\r\n",
       "        <path d=\"M 175 1375 \r\n",
       "Q 175 1675 325 1962 \r\n",
       "Q 475 2250 825 2425 \r\n",
       "Q 525 2600 425 2812 \r\n",
       "Q 325 3025 312 3300 \r\n",
       "Q 300 3575 387 3775 \r\n",
       "Q 475 3975 650 4150 \r\n",
       "Q 825 4325 1037 4387 \r\n",
       "Q 1250 4450 1500 4450 \r\n",
       "Q 1750 4450 1950 4400 \r\n",
       "Q 2150 4350 2375 4187 \r\n",
       "Q 2600 4025 2700 3725 \r\n",
       "Q 2800 3425 2687 3025 \r\n",
       "Q 2575 2625 2100 2400 \r\n",
       "Q 2525 2275 2700 2012 \r\n",
       "Q 2875 1750 2875 1375 \r\n",
       "Q 2875 1000 2762 775 \r\n",
       "Q 2650 550 2512 400 \r\n",
       "Q 2375 250 2137 162 \r\n",
       "Q 1900 75 1537 75 \r\n",
       "Q 1175 75 912 162 \r\n",
       "Q 650 250 475 425 \r\n",
       "Q 300 600 237 837 \r\n",
       "Q 175 1075 175 1375 \r\n",
       "z\r\n",
       "M 687 1400 \r\n",
       "Q 675 1100 787 875 \r\n",
       "Q 900 650 1200 587 \r\n",
       "Q 1500 525 1825 600 \r\n",
       "Q 2150 675 2275 950 \r\n",
       "Q 2400 1225 2362 1500 \r\n",
       "Q 2325 1775 2050 1962 \r\n",
       "Q 1775 2150 1450 2125 \r\n",
       "Q 1125 2100 912 1900 \r\n",
       "Q 700 1700 687 1400 \r\n",
       "z\r\n",
       "M 775 3350 \r\n",
       "Q 775 3100 950 2875 \r\n",
       "Q 1125 2650 1500 2650 \r\n",
       "Q 1875 2650 2062 2875 \r\n",
       "Q 2250 3100 2237 3412 \r\n",
       "Q 2225 3725 2012 3875 \r\n",
       "Q 1800 4025 1437 4000 \r\n",
       "Q 1075 3975 925 3787 \r\n",
       "Q 775 3600 775 3350 \r\n",
       "z\r\n",
       "\" id=\"SimHei-38\" transform=\"scale(0.015625)\"/>\r\n",
       "       </defs>\r\n",
       "       <use xlink:href=\"#SimHei-38\"/>\r\n",
       "      </g>\r\n",
       "     </g>\r\n",
       "    </g>\r\n",
       "    <g id=\"xtick_5\">\r\n",
       "     <g id=\"line2d_9\">\r\n",
       "      <path clip-path=\"url(#p0009f28c90)\" d=\"M 224.5 143.1 \r\n",
       "L 224.5 7.2 \r\n",
       "\" style=\"fill:none;stroke:#b0b0b0;stroke-linecap:square;stroke-width:0.8;\"/>\r\n",
       "     </g>\r\n",
       "     <g id=\"line2d_10\">\r\n",
       "      <g>\r\n",
       "       <use style=\"stroke:#000000;stroke-width:0.8;\" x=\"224.5\" xlink:href=\"#me659257fad\" y=\"143.1\"/>\r\n",
       "      </g>\r\n",
       "     </g>\r\n",
       "     <g id=\"text_5\">\r\n",
       "      <!-- 10 -->\r\n",
       "      <g transform=\"translate(219.5 156.975)scale(0.1 -0.1)\">\r\n",
       "       <defs>\r\n",
       "        <path d=\"M 1400 3600 \r\n",
       "Q 1075 3275 575 2975 \r\n",
       "L 575 3450 \r\n",
       "Q 1200 3875 1600 4450 \r\n",
       "L 1900 4450 \r\n",
       "L 1900 150 \r\n",
       "L 1400 150 \r\n",
       "L 1400 3600 \r\n",
       "z\r\n",
       "\" id=\"SimHei-31\" transform=\"scale(0.015625)\"/>\r\n",
       "        <path d=\"M 225 2537 \r\n",
       "Q 250 3200 412 3587 \r\n",
       "Q 575 3975 875 4225 \r\n",
       "Q 1175 4475 1612 4475 \r\n",
       "Q 2050 4475 2375 4112 \r\n",
       "Q 2700 3750 2800 3200 \r\n",
       "Q 2900 2650 2862 1937 \r\n",
       "Q 2825 1225 2612 775 \r\n",
       "Q 2400 325 1975 150 \r\n",
       "Q 1550 -25 1125 187 \r\n",
       "Q 700 400 525 750 \r\n",
       "Q 350 1100 275 1487 \r\n",
       "Q 200 1875 225 2537 \r\n",
       "z\r\n",
       "M 750 2687 \r\n",
       "Q 675 2000 800 1462 \r\n",
       "Q 925 925 1212 700 \r\n",
       "Q 1500 475 1800 612 \r\n",
       "Q 2100 750 2237 1162 \r\n",
       "Q 2375 1575 2375 2062 \r\n",
       "Q 2375 2550 2337 2950 \r\n",
       "Q 2300 3350 2112 3675 \r\n",
       "Q 1925 4000 1612 4012 \r\n",
       "Q 1300 4025 1062 3700 \r\n",
       "Q 825 3375 750 2687 \r\n",
       "z\r\n",
       "\" id=\"SimHei-30\" transform=\"scale(0.015625)\"/>\r\n",
       "       </defs>\r\n",
       "       <use xlink:href=\"#SimHei-31\"/>\r\n",
       "       <use x=\"50\" xlink:href=\"#SimHei-30\"/>\r\n",
       "      </g>\r\n",
       "     </g>\r\n",
       "    </g>\r\n",
       "    <g id=\"text_6\">\r\n",
       "     <!-- epoch -->\r\n",
       "     <g transform=\"translate(114.35 169.1)scale(0.1 -0.1)\">\r\n",
       "      <defs>\r\n",
       "       <path d=\"M 2850 1075 \r\n",
       "Q 2800 625 2450 350 \r\n",
       "Q 2100 75 1625 75 \r\n",
       "Q 1025 75 637 462 \r\n",
       "Q 250 850 250 1525 \r\n",
       "Q 250 2200 637 2587 \r\n",
       "Q 1025 2975 1625 2975 \r\n",
       "Q 2150 2975 2487 2637 \r\n",
       "Q 2825 2300 2825 1525 \r\n",
       "L 800 1525 \r\n",
       "Q 800 975 1037 750 \r\n",
       "Q 1275 525 1625 525 \r\n",
       "Q 1900 525 2075 662 \r\n",
       "Q 2250 800 2300 1075 \r\n",
       "L 2850 1075 \r\n",
       "z\r\n",
       "M 2250 1925 \r\n",
       "Q 2200 2275 2025 2412 \r\n",
       "Q 1850 2550 1575 2550 \r\n",
       "Q 1325 2550 1125 2412 \r\n",
       "Q 925 2275 825 1925 \r\n",
       "L 2250 1925 \r\n",
       "z\r\n",
       "\" id=\"SimHei-65\" transform=\"scale(0.015625)\"/>\r\n",
       "       <path d=\"M 2825 1525 \r\n",
       "Q 2825 800 2475 425 \r\n",
       "Q 2125 50 1625 50 \r\n",
       "Q 1350 50 1150 162 \r\n",
       "Q 950 275 800 500 \r\n",
       "L 800 -800 \r\n",
       "L 300 -800 \r\n",
       "L 300 2925 \r\n",
       "L 800 2925 \r\n",
       "L 800 2550 \r\n",
       "Q 950 2775 1150 2875 \r\n",
       "Q 1350 2975 1625 2975 \r\n",
       "Q 2125 2975 2475 2612 \r\n",
       "Q 2825 2250 2825 1525 \r\n",
       "z\r\n",
       "M 2275 1525 \r\n",
       "Q 2275 2000 2087 2262 \r\n",
       "Q 1900 2525 1525 2525 \r\n",
       "Q 1225 2525 1012 2262 \r\n",
       "Q 800 2000 800 1525 \r\n",
       "Q 800 1050 1012 775 \r\n",
       "Q 1225 500 1525 500 \r\n",
       "Q 1900 500 2087 775 \r\n",
       "Q 2275 1050 2275 1525 \r\n",
       "z\r\n",
       "\" id=\"SimHei-70\" transform=\"scale(0.015625)\"/>\r\n",
       "       <path d=\"M 2925 1525 \r\n",
       "Q 2925 875 2525 475 \r\n",
       "Q 2125 75 1575 75 \r\n",
       "Q 1025 75 625 475 \r\n",
       "Q 225 875 225 1525 \r\n",
       "Q 225 2175 625 2575 \r\n",
       "Q 1025 2975 1575 2975 \r\n",
       "Q 2125 2975 2525 2575 \r\n",
       "Q 2925 2175 2925 1525 \r\n",
       "z\r\n",
       "M 2375 1525 \r\n",
       "Q 2375 2025 2125 2275 \r\n",
       "Q 1875 2525 1575 2525 \r\n",
       "Q 1275 2525 1025 2275 \r\n",
       "Q 775 2025 775 1525 \r\n",
       "Q 775 1025 1025 775 \r\n",
       "Q 1275 525 1575 525 \r\n",
       "Q 1875 525 2125 775 \r\n",
       "Q 2375 1025 2375 1525 \r\n",
       "z\r\n",
       "\" id=\"SimHei-6f\" transform=\"scale(0.015625)\"/>\r\n",
       "       <path d=\"M 2850 1250 \r\n",
       "Q 2850 725 2487 400 \r\n",
       "Q 2125 75 1575 75 \r\n",
       "Q 1025 75 625 462 \r\n",
       "Q 225 850 225 1525 \r\n",
       "Q 225 2200 625 2587 \r\n",
       "Q 1025 2975 1575 2975 \r\n",
       "Q 2125 2975 2450 2687 \r\n",
       "Q 2775 2400 2775 2000 \r\n",
       "L 2225 2000 \r\n",
       "Q 2200 2300 2012 2412 \r\n",
       "Q 1825 2525 1575 2525 \r\n",
       "Q 1275 2525 1025 2287 \r\n",
       "Q 775 2050 775 1525 \r\n",
       "Q 775 1000 1025 762 \r\n",
       "Q 1275 525 1575 525 \r\n",
       "Q 1900 525 2100 700 \r\n",
       "Q 2300 875 2300 1250 \r\n",
       "L 2850 1250 \r\n",
       "z\r\n",
       "\" id=\"SimHei-63\" transform=\"scale(0.015625)\"/>\r\n",
       "       <path d=\"M 2800 125 \r\n",
       "L 2300 125 \r\n",
       "L 2300 1925 \r\n",
       "Q 2300 2225 2150 2400 \r\n",
       "Q 2000 2575 1750 2575 \r\n",
       "Q 1425 2575 1137 2237 \r\n",
       "Q 850 1900 850 1400 \r\n",
       "L 850 125 \r\n",
       "L 350 125 \r\n",
       "L 350 4400 \r\n",
       "L 850 4400 \r\n",
       "L 850 2400 \r\n",
       "Q 1050 2675 1287 2825 \r\n",
       "Q 1525 2975 1900 2975 \r\n",
       "Q 2350 2975 2575 2725 \r\n",
       "Q 2800 2475 2800 2100 \r\n",
       "L 2800 125 \r\n",
       "z\r\n",
       "\" id=\"SimHei-68\" transform=\"scale(0.015625)\"/>\r\n",
       "      </defs>\r\n",
       "      <use xlink:href=\"#SimHei-65\"/>\r\n",
       "      <use x=\"50\" xlink:href=\"#SimHei-70\"/>\r\n",
       "      <use x=\"100\" xlink:href=\"#SimHei-6f\"/>\r\n",
       "      <use x=\"150\" xlink:href=\"#SimHei-63\"/>\r\n",
       "      <use x=\"200\" xlink:href=\"#SimHei-68\"/>\r\n",
       "     </g>\r\n",
       "    </g>\r\n",
       "   </g>\r\n",
       "   <g id=\"matplotlib.axis_2\">\r\n",
       "    <g id=\"ytick_1\">\r\n",
       "     <g id=\"line2d_11\">\r\n",
       "      <path clip-path=\"url(#p0009f28c90)\" d=\"M 29.2 120.45 \r\n",
       "L 224.5 120.45 \r\n",
       "\" style=\"fill:none;stroke:#b0b0b0;stroke-linecap:square;stroke-width:0.8;\"/>\r\n",
       "     </g>\r\n",
       "     <g id=\"line2d_12\">\r\n",
       "      <defs>\r\n",
       "       <path d=\"M 0 0 \r\n",
       "L -3.5 0 \r\n",
       "\" id=\"m8c4524edfc\" style=\"stroke:#000000;stroke-width:0.8;\"/>\r\n",
       "      </defs>\r\n",
       "      <g>\r\n",
       "       <use style=\"stroke:#000000;stroke-width:0.8;\" x=\"29.2\" xlink:href=\"#m8c4524edfc\" y=\"120.45\"/>\r\n",
       "      </g>\r\n",
       "     </g>\r\n",
       "     <g id=\"text_7\">\r\n",
       "      <!-- 0.4 -->\r\n",
       "      <g transform=\"translate(7.2 123.8875)scale(0.1 -0.1)\">\r\n",
       "       <defs>\r\n",
       "        <path d=\"M 1075 125 \r\n",
       "L 500 125 \r\n",
       "L 500 675 \r\n",
       "L 1075 675 \r\n",
       "L 1075 125 \r\n",
       "z\r\n",
       "\" id=\"SimHei-2e\" transform=\"scale(0.015625)\"/>\r\n",
       "       </defs>\r\n",
       "       <use xlink:href=\"#SimHei-30\"/>\r\n",
       "       <use x=\"50\" xlink:href=\"#SimHei-2e\"/>\r\n",
       "       <use x=\"100\" xlink:href=\"#SimHei-34\"/>\r\n",
       "      </g>\r\n",
       "     </g>\r\n",
       "    </g>\r\n",
       "    <g id=\"ytick_2\">\r\n",
       "     <g id=\"line2d_13\">\r\n",
       "      <path clip-path=\"url(#p0009f28c90)\" d=\"M 29.2 75.15 \r\n",
       "L 224.5 75.15 \r\n",
       "\" style=\"fill:none;stroke:#b0b0b0;stroke-linecap:square;stroke-width:0.8;\"/>\r\n",
       "     </g>\r\n",
       "     <g id=\"line2d_14\">\r\n",
       "      <g>\r\n",
       "       <use style=\"stroke:#000000;stroke-width:0.8;\" x=\"29.2\" xlink:href=\"#m8c4524edfc\" y=\"75.15\"/>\r\n",
       "      </g>\r\n",
       "     </g>\r\n",
       "     <g id=\"text_8\">\r\n",
       "      <!-- 0.6 -->\r\n",
       "      <g transform=\"translate(7.2 78.5875)scale(0.1 -0.1)\">\r\n",
       "       <use xlink:href=\"#SimHei-30\"/>\r\n",
       "       <use x=\"50\" xlink:href=\"#SimHei-2e\"/>\r\n",
       "       <use x=\"100\" xlink:href=\"#SimHei-36\"/>\r\n",
       "      </g>\r\n",
       "     </g>\r\n",
       "    </g>\r\n",
       "    <g id=\"ytick_3\">\r\n",
       "     <g id=\"line2d_15\">\r\n",
       "      <path clip-path=\"url(#p0009f28c90)\" d=\"M 29.2 29.85 \r\n",
       "L 224.5 29.85 \r\n",
       "\" style=\"fill:none;stroke:#b0b0b0;stroke-linecap:square;stroke-width:0.8;\"/>\r\n",
       "     </g>\r\n",
       "     <g id=\"line2d_16\">\r\n",
       "      <g>\r\n",
       "       <use style=\"stroke:#000000;stroke-width:0.8;\" x=\"29.2\" xlink:href=\"#m8c4524edfc\" y=\"29.85\"/>\r\n",
       "      </g>\r\n",
       "     </g>\r\n",
       "     <g id=\"text_9\">\r\n",
       "      <!-- 0.8 -->\r\n",
       "      <g transform=\"translate(7.2 33.2875)scale(0.1 -0.1)\">\r\n",
       "       <use xlink:href=\"#SimHei-30\"/>\r\n",
       "       <use x=\"50\" xlink:href=\"#SimHei-2e\"/>\r\n",
       "       <use x=\"100\" xlink:href=\"#SimHei-38\"/>\r\n",
       "      </g>\r\n",
       "     </g>\r\n",
       "    </g>\r\n",
       "   </g>\r\n",
       "   <g id=\"line2d_17\">\r\n",
       "    <path clip-path=\"url(#p0009f28c90)\" d=\"M 29.2 33.251563 \r\n",
       "L 50.9 81.778768 \r\n",
       "L 72.6 91.979371 \r\n",
       "L 94.3 97.789196 \r\n",
       "L 116 101.186959 \r\n",
       "L 137.7 103.783134 \r\n",
       "L 159.4 105.557754 \r\n",
       "L 181.1 107.412531 \r\n",
       "L 202.8 108.790696 \r\n",
       "L 224.5 109.757133 \r\n",
       "\" style=\"fill:none;stroke:#1f77b4;stroke-linecap:square;stroke-width:1.5;\"/>\r\n",
       "   </g>\r\n",
       "   <g id=\"line2d_18\">\r\n",
       "    <path clip-path=\"url(#p0009f28c90)\" d=\"M 29.2 41.141025 \r\n",
       "L 50.9 26.74695 \r\n",
       "L 72.6 24.168625 \r\n",
       "L 94.3 22.228275 \r\n",
       "L 116 21.5601 \r\n",
       "L 137.7 20.82775 \r\n",
       "L 159.4 20.159575 \r\n",
       "L 181.1 19.563125 \r\n",
       "L 202.8 19.208275 \r\n",
       "L 224.5 18.9478 \r\n",
       "\" style=\"fill:none;stroke:#bf00bf;stroke-dasharray:5.55,2.4;stroke-dashoffset:0;stroke-width:1.5;\"/>\r\n",
       "   </g>\r\n",
       "   <g id=\"line2d_19\">\r\n",
       "    <path clip-path=\"url(#p0009f28c90)\" d=\"M 29.2 28.985525 \r\n",
       "L 50.9 28.683525 \r\n",
       "L 72.6 25.331325 \r\n",
       "L 94.3 21.405325 \r\n",
       "L 116 21.79415 \r\n",
       "L 137.7 20.665425 \r\n",
       "L 159.4 24.115775 \r\n",
       "L 181.1 19.3857 \r\n",
       "L 202.8 19.555575 \r\n",
       "L 224.5 19.283775 \r\n",
       "\" style=\"fill:none;stroke:#008000;stroke-dasharray:9.6,2.4,1.5,2.4;stroke-dashoffset:0;stroke-width:1.5;\"/>\r\n",
       "   </g>\r\n",
       "   <g id=\"patch_3\">\r\n",
       "    <path d=\"M 29.2 143.1 \r\n",
       "L 29.2 7.2 \r\n",
       "\" style=\"fill:none;stroke:#000000;stroke-linecap:square;stroke-linejoin:miter;stroke-width:0.8;\"/>\r\n",
       "   </g>\r\n",
       "   <g id=\"patch_4\">\r\n",
       "    <path d=\"M 224.5 143.1 \r\n",
       "L 224.5 7.2 \r\n",
       "\" style=\"fill:none;stroke:#000000;stroke-linecap:square;stroke-linejoin:miter;stroke-width:0.8;\"/>\r\n",
       "   </g>\r\n",
       "   <g id=\"patch_5\">\r\n",
       "    <path d=\"M 29.2 143.1 \r\n",
       "L 224.5 143.1 \r\n",
       "\" style=\"fill:none;stroke:#000000;stroke-linecap:square;stroke-linejoin:miter;stroke-width:0.8;\"/>\r\n",
       "   </g>\r\n",
       "   <g id=\"patch_6\">\r\n",
       "    <path d=\"M 29.2 7.2 \r\n",
       "L 224.5 7.2 \r\n",
       "\" style=\"fill:none;stroke:#000000;stroke-linecap:square;stroke-linejoin:miter;stroke-width:0.8;\"/>\r\n",
       "   </g>\r\n",
       "   <g id=\"legend_1\">\r\n",
       "    <g id=\"patch_7\">\r\n",
       "     <path d=\"M 135.5 96.525 \r\n",
       "L 217.5 96.525 \r\n",
       "Q 219.5 96.525 219.5 94.525 \r\n",
       "L 219.5 55.775 \r\n",
       "Q 219.5 53.775 217.5 53.775 \r\n",
       "L 135.5 53.775 \r\n",
       "Q 133.5 53.775 133.5 55.775 \r\n",
       "L 133.5 94.525 \r\n",
       "Q 133.5 96.525 135.5 96.525 \r\n",
       "z\r\n",
       "\" style=\"fill:#ffffff;opacity:0.8;stroke:#cccccc;stroke-linejoin:miter;\"/>\r\n",
       "    </g>\r\n",
       "    <g id=\"line2d_20\">\r\n",
       "     <path d=\"M 137.5 61.275 \r\n",
       "L 157.5 61.275 \r\n",
       "\" style=\"fill:none;stroke:#1f77b4;stroke-linecap:square;stroke-width:1.5;\"/>\r\n",
       "    </g>\r\n",
       "    <g id=\"line2d_21\"/>\r\n",
       "    <g id=\"text_10\">\r\n",
       "     <!-- train loss -->\r\n",
       "     <g transform=\"translate(165.5 64.775)scale(0.1 -0.1)\">\r\n",
       "      <defs>\r\n",
       "       <path d=\"M 2750 200 \r\n",
       "Q 2625 150 2462 112 \r\n",
       "Q 2300 75 2025 75 \r\n",
       "Q 1575 75 1300 325 \r\n",
       "Q 1025 575 1025 1025 \r\n",
       "L 1025 2525 \r\n",
       "L 175 2525 \r\n",
       "L 175 2925 \r\n",
       "L 1025 2925 \r\n",
       "L 1025 3900 \r\n",
       "L 1525 3900 \r\n",
       "L 1525 2925 \r\n",
       "L 2550 2925 \r\n",
       "L 2550 2525 \r\n",
       "L 1525 2525 \r\n",
       "L 1525 1000 \r\n",
       "Q 1525 800 1625 662 \r\n",
       "Q 1725 525 2000 525 \r\n",
       "Q 2275 525 2450 575 \r\n",
       "Q 2625 625 2750 700 \r\n",
       "L 2750 200 \r\n",
       "z\r\n",
       "\" id=\"SimHei-74\" transform=\"scale(0.015625)\"/>\r\n",
       "       <path d=\"M 2500 2425 \r\n",
       "Q 2025 2500 1700 2287 \r\n",
       "Q 1375 2075 1150 1550 \r\n",
       "L 1150 125 \r\n",
       "L 650 125 \r\n",
       "L 650 2925 \r\n",
       "L 1150 2925 \r\n",
       "L 1150 2200 \r\n",
       "Q 1375 2600 1712 2787 \r\n",
       "Q 2050 2975 2500 2975 \r\n",
       "L 2500 2425 \r\n",
       "z\r\n",
       "\" id=\"SimHei-72\" transform=\"scale(0.015625)\"/>\r\n",
       "       <path d=\"M 2875 125 \r\n",
       "L 2275 125 \r\n",
       "Q 2225 175 2200 262 \r\n",
       "Q 2175 350 2175 475 \r\n",
       "Q 2000 275 1750 175 \r\n",
       "Q 1500 75 1225 75 \r\n",
       "Q 825 75 550 275 \r\n",
       "Q 275 475 275 850 \r\n",
       "Q 275 1225 525 1450 \r\n",
       "Q 775 1675 1300 1750 \r\n",
       "Q 1650 1800 1912 1875 \r\n",
       "Q 2175 1950 2175 2075 \r\n",
       "Q 2175 2225 2062 2375 \r\n",
       "Q 1950 2525 1575 2525 \r\n",
       "Q 1275 2525 1137 2412 \r\n",
       "Q 1000 2300 950 2100 \r\n",
       "L 400 2100 \r\n",
       "Q 450 2500 762 2737 \r\n",
       "Q 1075 2975 1575 2975 \r\n",
       "Q 2125 2975 2400 2725 \r\n",
       "Q 2675 2475 2675 2025 \r\n",
       "L 2675 650 \r\n",
       "Q 2675 500 2725 375 \r\n",
       "Q 2775 250 2875 125 \r\n",
       "z\r\n",
       "M 2175 1050 \r\n",
       "L 2175 1550 \r\n",
       "Q 2025 1500 1887 1462 \r\n",
       "Q 1750 1425 1425 1375 \r\n",
       "Q 1050 1325 937 1200 \r\n",
       "Q 825 1075 825 900 \r\n",
       "Q 825 750 937 637 \r\n",
       "Q 1050 525 1275 525 \r\n",
       "Q 1500 525 1762 650 \r\n",
       "Q 2025 775 2175 1050 \r\n",
       "z\r\n",
       "\" id=\"SimHei-61\" transform=\"scale(0.015625)\"/>\r\n",
       "       <path d=\"M 1800 3725 \r\n",
       "L 1300 3725 \r\n",
       "L 1300 4375 \r\n",
       "L 1800 4375 \r\n",
       "L 1800 3725 \r\n",
       "z\r\n",
       "M 1800 125 \r\n",
       "L 1300 125 \r\n",
       "L 1300 2925 \r\n",
       "L 1800 2925 \r\n",
       "L 1800 125 \r\n",
       "z\r\n",
       "\" id=\"SimHei-69\" transform=\"scale(0.015625)\"/>\r\n",
       "       <path d=\"M 2800 125 \r\n",
       "L 2300 125 \r\n",
       "L 2300 1925 \r\n",
       "Q 2300 2225 2150 2400 \r\n",
       "Q 2000 2575 1750 2575 \r\n",
       "Q 1425 2575 1137 2237 \r\n",
       "Q 850 1900 850 1400 \r\n",
       "L 850 125 \r\n",
       "L 350 125 \r\n",
       "L 350 2925 \r\n",
       "L 850 2925 \r\n",
       "L 850 2400 \r\n",
       "Q 1050 2675 1287 2825 \r\n",
       "Q 1525 2975 1900 2975 \r\n",
       "Q 2350 2975 2575 2725 \r\n",
       "Q 2800 2475 2800 2100 \r\n",
       "L 2800 125 \r\n",
       "z\r\n",
       "\" id=\"SimHei-6e\" transform=\"scale(0.015625)\"/>\r\n",
       "       <path id=\"SimHei-20\" transform=\"scale(0.015625)\"/>\r\n",
       "       <path d=\"M 1825 125 \r\n",
       "L 1325 125 \r\n",
       "L 1325 4400 \r\n",
       "L 1825 4400 \r\n",
       "L 1825 125 \r\n",
       "z\r\n",
       "\" id=\"SimHei-6c\" transform=\"scale(0.015625)\"/>\r\n",
       "       <path d=\"M 2750 900 \r\n",
       "Q 2750 500 2437 287 \r\n",
       "Q 2125 75 1650 75 \r\n",
       "Q 1050 75 725 312 \r\n",
       "Q 400 550 400 1000 \r\n",
       "L 900 1000 \r\n",
       "Q 900 700 1112 600 \r\n",
       "Q 1325 500 1625 500 \r\n",
       "Q 1925 500 2075 612 \r\n",
       "Q 2225 725 2225 900 \r\n",
       "Q 2225 1025 2100 1150 \r\n",
       "Q 1975 1275 1475 1350 \r\n",
       "Q 900 1425 687 1637 \r\n",
       "Q 475 1850 475 2200 \r\n",
       "Q 475 2500 762 2737 \r\n",
       "Q 1050 2975 1600 2975 \r\n",
       "Q 2100 2975 2387 2750 \r\n",
       "Q 2675 2525 2675 2150 \r\n",
       "L 2175 2150 \r\n",
       "Q 2175 2375 2012 2462 \r\n",
       "Q 1850 2550 1600 2550 \r\n",
       "Q 1275 2550 1137 2437 \r\n",
       "Q 1000 2325 1000 2175 \r\n",
       "Q 1000 2000 1125 1900 \r\n",
       "Q 1250 1800 1650 1750 \r\n",
       "Q 2300 1650 2525 1437 \r\n",
       "Q 2750 1225 2750 900 \r\n",
       "z\r\n",
       "\" id=\"SimHei-73\" transform=\"scale(0.015625)\"/>\r\n",
       "      </defs>\r\n",
       "      <use xlink:href=\"#SimHei-74\"/>\r\n",
       "      <use x=\"50\" xlink:href=\"#SimHei-72\"/>\r\n",
       "      <use x=\"100\" xlink:href=\"#SimHei-61\"/>\r\n",
       "      <use x=\"150\" xlink:href=\"#SimHei-69\"/>\r\n",
       "      <use x=\"200\" xlink:href=\"#SimHei-6e\"/>\r\n",
       "      <use x=\"250\" xlink:href=\"#SimHei-20\"/>\r\n",
       "      <use x=\"300\" xlink:href=\"#SimHei-6c\"/>\r\n",
       "      <use x=\"350\" xlink:href=\"#SimHei-6f\"/>\r\n",
       "      <use x=\"400\" xlink:href=\"#SimHei-73\"/>\r\n",
       "      <use x=\"450\" xlink:href=\"#SimHei-73\"/>\r\n",
       "     </g>\r\n",
       "    </g>\r\n",
       "    <g id=\"line2d_22\">\r\n",
       "     <path d=\"M 137.5 74.525 \r\n",
       "L 157.5 74.525 \r\n",
       "\" style=\"fill:none;stroke:#bf00bf;stroke-dasharray:5.55,2.4;stroke-dashoffset:0;stroke-width:1.5;\"/>\r\n",
       "    </g>\r\n",
       "    <g id=\"line2d_23\"/>\r\n",
       "    <g id=\"text_11\">\r\n",
       "     <!-- train acc -->\r\n",
       "     <g transform=\"translate(165.5 78.025)scale(0.1 -0.1)\">\r\n",
       "      <use xlink:href=\"#SimHei-74\"/>\r\n",
       "      <use x=\"50\" xlink:href=\"#SimHei-72\"/>\r\n",
       "      <use x=\"100\" xlink:href=\"#SimHei-61\"/>\r\n",
       "      <use x=\"150\" xlink:href=\"#SimHei-69\"/>\r\n",
       "      <use x=\"200\" xlink:href=\"#SimHei-6e\"/>\r\n",
       "      <use x=\"250\" xlink:href=\"#SimHei-20\"/>\r\n",
       "      <use x=\"300\" xlink:href=\"#SimHei-61\"/>\r\n",
       "      <use x=\"350\" xlink:href=\"#SimHei-63\"/>\r\n",
       "      <use x=\"400\" xlink:href=\"#SimHei-63\"/>\r\n",
       "     </g>\r\n",
       "    </g>\r\n",
       "    <g id=\"line2d_24\">\r\n",
       "     <path d=\"M 137.5 87.775 \r\n",
       "L 157.5 87.775 \r\n",
       "\" style=\"fill:none;stroke:#008000;stroke-dasharray:9.6,2.4,1.5,2.4;stroke-dashoffset:0;stroke-width:1.5;\"/>\r\n",
       "    </g>\r\n",
       "    <g id=\"line2d_25\"/>\r\n",
       "    <g id=\"text_12\">\r\n",
       "     <!-- test acc -->\r\n",
       "     <g transform=\"translate(165.5 91.275)scale(0.1 -0.1)\">\r\n",
       "      <use xlink:href=\"#SimHei-74\"/>\r\n",
       "      <use x=\"50\" xlink:href=\"#SimHei-65\"/>\r\n",
       "      <use x=\"100\" xlink:href=\"#SimHei-73\"/>\r\n",
       "      <use x=\"150\" xlink:href=\"#SimHei-74\"/>\r\n",
       "      <use x=\"200\" xlink:href=\"#SimHei-20\"/>\r\n",
       "      <use x=\"250\" xlink:href=\"#SimHei-61\"/>\r\n",
       "      <use x=\"300\" xlink:href=\"#SimHei-63\"/>\r\n",
       "      <use x=\"350\" xlink:href=\"#SimHei-63\"/>\r\n",
       "     </g>\r\n",
       "    </g>\r\n",
       "   </g>\r\n",
       "  </g>\r\n",
       " </g>\r\n",
       " <defs>\r\n",
       "  <clipPath id=\"p0009f28c90\">\r\n",
       "   <rect height=\"135.9\" width=\"195.3\" x=\"29.2\" y=\"7.2\"/>\r\n",
       "  </clipPath>\r\n",
       " </defs>\r\n",
       "</svg>\r\n"
      ],
      "text/plain": [
       "<Figure size 252x180 with 1 Axes>"
      ]
     },
     "metadata": {
      "needs_background": "light"
     },
     "output_type": "display_data"
    }
   ],
   "source": [
    "num_epochs = 10\n",
    "d2l.train_ch3(net, train_iter, test_iter, loss, num_epochs, trainer)"
   ]
  }
 ],
 "metadata": {
  "kernelspec": {
   "display_name": "Python 3 (ipykernel)",
   "language": "python",
   "name": "python3"
  },
  "language_info": {
   "codemirror_mode": {
    "name": "ipython",
    "version": 3
   },
   "file_extension": ".py",
   "mimetype": "text/x-python",
   "name": "python",
   "nbconvert_exporter": "python",
   "pygments_lexer": "ipython3",
   "version": "3.8.12"
  },
  "widgets": {
   "application/vnd.jupyter.widget-state+json": {
    "state": {},
    "version_major": 2,
    "version_minor": 0
   }
  }
 },
 "nbformat": 4,
 "nbformat_minor": 5
}
