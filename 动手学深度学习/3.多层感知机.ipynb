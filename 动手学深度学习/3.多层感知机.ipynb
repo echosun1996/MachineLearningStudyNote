{
 "cells": [
  {
   "cell_type": "markdown",
   "id": "a41ea9d1-5e35-46ee-8e04-98bb792ee0ad",
   "metadata": {},
   "source": [
    "# 多层感知机"
   ]
  },
  {
   "cell_type": "code",
   "execution_count": 1,
   "id": "21fee72b-c838-4599-b6a0-47a528e4a8ba",
   "metadata": {},
   "outputs": [],
   "source": [
    "%matplotlib widget\n",
    "import os\n",
    "import random\n",
    "\n",
    "import numpy as np\n",
    "import pandas as pd\n",
    "import torch\n",
    "import torchvision\n",
    "from d2l import torch as d2l\n",
    "from IPython.core.interactiveshell import InteractiveShell\n",
    "from tensorflow.keras.datasets import fashion_mnist\n",
    "from torch.utils import data\n",
    "from torchvision import transforms\n",
    "\n",
    "InteractiveShell.ast_node_interactivity = \"all\"\n",
    "\n",
    "d2l.plt.rcParams['font.sans-serif'] = ['SimHei']  # 显示中文\n",
    "d2l.plt.rcParams['axes.unicode_minus'] = False  # 显示负号"
   ]
  },
  {
   "cell_type": "markdown",
   "id": "7ef72142-f13c-497c-bc91-234f3efd4f5b",
   "metadata": {},
   "source": [
    "## 激活函数"
   ]
  },
  {
   "cell_type": "markdown",
   "id": "05b404de-a1bb-4ee3-892e-979288b31fde",
   "metadata": {},
   "source": [
    "### ReLU函数\n",
    "\n",
    "$$ReLU(x) = max(x,0)$$"
   ]
  },
  {
   "cell_type": "code",
   "execution_count": 2,
   "id": "def780f6-de78-4dcd-b5a7-4bae5f667e99",
   "metadata": {},
   "outputs": [
    {
     "data": {
      "application/vnd.jupyter.widget-view+json": {
       "model_id": "d5616df2a47249e996e168819a55e67b",
       "version_major": 2,
       "version_minor": 0
      },
      "text/html": [
       "\n",
       "            <div style=\"display: inline-block;\">\n",
       "                <div class=\"jupyter-widgets widget-label\" style=\"text-align: center;\">\n",
       "                    Figure\n",
       "                </div>\n",
       "                <img src='data:image/png;base64,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' width=500.0/>\n",
       "            </div>\n",
       "        "
      ],
      "text/plain": [
       "Canvas(toolbar=Toolbar(toolitems=[('Home', 'Reset original view', 'home', 'home'), ('Back', 'Back to previous …"
      ]
     },
     "metadata": {},
     "output_type": "display_data"
    }
   ],
   "source": [
    "x = torch.arange(-8,8,0.1,requires_grad = True)\n",
    "y = torch.relu(x)\n",
    "# x\n",
    "# x.detach()\n",
    "d2l.set_figsize()\n",
    "d2l.plot(x.detach(),y.detach(),'x','relu',figsize=(5,2.5))\n",
    "# d2l.plot.show()"
   ]
  },
  {
   "cell_type": "code",
   "execution_count": null,
   "id": "dc45d298-64e6-4842-8844-18f706320165",
   "metadata": {},
   "outputs": [],
   "source": []
  }
 ],
 "metadata": {
  "kernelspec": {
   "display_name": "Python 3 (ipykernel)",
   "language": "python",
   "name": "python3"
  },
  "language_info": {
   "codemirror_mode": {
    "name": "ipython",
    "version": 3
   },
   "file_extension": ".py",
   "mimetype": "text/x-python",
   "name": "python",
   "nbconvert_exporter": "python",
   "pygments_lexer": "ipython3",
   "version": "3.8.12"
  },
  "widgets": {
   "application/vnd.jupyter.widget-state+json": {
    "state": {
     "34ae80cdb19e4486a236e22714a1e35c": {
      "model_module": "@jupyter-widgets/base",
      "model_module_version": "1.2.0",
      "model_name": "LayoutModel",
      "state": {}
     },
     "3fb5c0deacd44491a27db678c0b6ad26": {
      "model_module": "@jupyter-widgets/base",
      "model_module_version": "1.2.0",
      "model_name": "LayoutModel",
      "state": {}
     },
     "aeb16c56dd4e46d9b3c91d50bf607f21": {
      "model_module": "jupyter-matplotlib",
      "model_module_version": "^0.10.2",
      "model_name": "ToolbarModel",
      "state": {
       "layout": "IPY_MODEL_34ae80cdb19e4486a236e22714a1e35c",
       "toolitems": [
        [
         "Home",
         "Reset original view",
         "home",
         "home"
        ],
        [
         "Back",
         "Back to previous view",
         "arrow-left",
         "back"
        ],
        [
         "Forward",
         "Forward to next view",
         "arrow-right",
         "forward"
        ],
        [
         "Pan",
         "Left button pans, Right button zooms\nx/y fixes axis, CTRL fixes aspect",
         "arrows",
         "pan"
        ],
        [
         "Zoom",
         "Zoom to rectangle\nx/y fixes axis, CTRL fixes aspect",
         "square-o",
         "zoom"
        ],
        [
         "Download",
         "Download plot",
         "floppy-o",
         "save_figure"
        ]
       ]
      }
     },
     "d5616df2a47249e996e168819a55e67b": {
      "model_module": "jupyter-matplotlib",
      "model_module_version": "^0.10.2",
      "model_name": "MPLCanvasModel",
      "state": {
       "_data_url": "data:image/png;base64,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",
       "_figure_label": "Figure 1",
       "_height": 250,
       "_width": 500,
       "layout": "IPY_MODEL_3fb5c0deacd44491a27db678c0b6ad26",
       "toolbar": "IPY_MODEL_aeb16c56dd4e46d9b3c91d50bf607f21",
       "toolbar_position": "left"
      }
     }
    },
    "version_major": 2,
    "version_minor": 0
   }
  }
 },
 "nbformat": 4,
 "nbformat_minor": 5
}
