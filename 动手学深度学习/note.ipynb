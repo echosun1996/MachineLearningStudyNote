{
 "cells": [
  {
   "cell_type": "markdown",
   "id": "e80eb48e-aeb5-4fea-902a-f1e45134c23b",
   "metadata": {},
   "source": [
    "# 《动手学深度学习》笔记"
   ]
  },
  {
   "cell_type": "code",
   "execution_count": null,
   "id": "65d745df-9b93-4130-a30e-57e97c275e99",
   "metadata": {},
   "outputs": [],
   "source": []
  }
 ],
 "metadata": {
  "kernelspec": {
   "display_name": "Python 3.8",
   "language": "python",
   "name": "python3"
  },
  "language_info": {
   "codemirror_mode": {
    "name": "ipython",
    "version": 3
   },
   "file_extension": ".py",
   "mimetype": "text/x-python",
   "name": "python",
   "nbconvert_exporter": "python",
   "pygments_lexer": "ipython3",
   "version": "3.8.8"
  }
 },
 "nbformat": 4,
 "nbformat_minor": 5
}
