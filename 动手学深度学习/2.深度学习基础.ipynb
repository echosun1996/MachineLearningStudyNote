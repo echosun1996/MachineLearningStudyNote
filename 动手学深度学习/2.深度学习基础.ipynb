{
 "cells": [
  {
   "cell_type": "markdown",
   "id": "b6317847-92c9-492a-82cf-90188722d395",
   "metadata": {},
   "source": [
    "# 《动手学深度学习》深度学习基础"
   ]
  },
  {
   "cell_type": "markdown",
   "id": "42ddecf7-ab42-4f0e-beff-c96f5da52dc0",
   "metadata": {
    "tags": []
   },
   "source": [
    "导入包"
   ]
  },
  {
   "cell_type": "code",
   "execution_count": 4,
   "id": "46e5eb1b-488c-486c-8ec6-ec550203599c",
   "metadata": {},
   "outputs": [],
   "source": [
    "import os\n",
    "\n",
    "import numpy as np\n",
    "import pandas as pd\n",
    "import torch\n",
    "from tensorflow.keras.datasets import fashion_mnist\n",
    "from IPython.core.interactiveshell import InteractiveShell\n",
    "InteractiveShell.ast_node_interactivity = \"all\""
   ]
  },
  {
   "cell_type": "markdown",
   "id": "d2a81514-75a4-451f-9b34-4d70cc2c728d",
   "metadata": {
    "tags": []
   },
   "source": [
    "信任当前文件"
   ]
  },
  {
   "cell_type": "code",
   "execution_count": 3,
   "id": "e654cd99-5e26-4d22-ad79-7003506aded0",
   "metadata": {
    "tags": []
   },
   "outputs": [
    {
     "name": "stdout",
     "output_type": "stream",
     "text": [
      "Signing notebook: 2.深度学习基础.ipynb\n"
     ]
    }
   ],
   "source": [
    "!jupyter trust 2.深度学习基础.ipynb"
   ]
  },
  {
   "cell_type": "code",
   "execution_count": null,
   "id": "8e7d15b4-3ac9-438f-98a6-287868fbcc0d",
   "metadata": {},
   "outputs": [],
   "source": []
  }
 ],
 "metadata": {
  "kernelspec": {
   "display_name": "Python 3.8",
   "language": "python",
   "name": "python3"
  },
  "language_info": {
   "codemirror_mode": {
    "name": "ipython",
    "version": 3
   },
   "file_extension": ".py",
   "mimetype": "text/x-python",
   "name": "python",
   "nbconvert_exporter": "python",
   "pygments_lexer": "ipython3",
   "version": "3.8.8"
  }
 },
 "nbformat": 4,
 "nbformat_minor": 5
}
