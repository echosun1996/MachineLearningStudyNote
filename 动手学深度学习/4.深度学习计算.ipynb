{
 "cells": [
  {
   "cell_type": "markdown",
   "id": "5f749f37-f800-4c5b-b9ea-f12182a4367e",
   "metadata": {},
   "source": [
    "# 深度学习计算\n",
    "Pytorch 可以方便的构造结构化的神经网络。"
   ]
  },
  {
   "cell_type": "markdown",
   "id": "b70ff8cb-a346-4644-adaf-e88ec33a3411",
   "metadata": {},
   "source": [
    "## 以“多层感知机”为例\n",
    "\n",
    "### 使用pytorch内置的“Sequential”来创建块。\n",
    "创建一个两层的网络结构。第一层是一个256个单元和ReLU激活函数的全连接的隐藏层；第二层是一个具有10个隐藏单元不带激活函数的全连接的输出层。"
   ]
  },
  {
   "cell_type": "code",
   "execution_count": 12,
   "id": "8bac40a9-60f5-4ecd-825f-61bfa83ff089",
   "metadata": {},
   "outputs": [
    {
     "data": {
      "text/plain": [
       "tensor([[ 0.0025,  0.3402,  0.1446,  0.0756,  0.0347, -0.0842, -0.0869,  0.0454,\n",
       "         -0.2401,  0.1225],\n",
       "        [ 0.0703,  0.2796,  0.0541,  0.0137,  0.0451,  0.0215, -0.0850, -0.0919,\n",
       "         -0.2147,  0.0110]], grad_fn=<AddmmBackward0>)"
      ]
     },
     "execution_count": 12,
     "metadata": {},
     "output_type": "execute_result"
    }
   ],
   "source": [
    "import torch\n",
    "\n",
    "net = torch.nn.Sequential(torch.nn.Linear(\n",
    "    20, 256), torch.nn.ReLU(), torch.nn.Linear(256, 10))\n",
    "X = torch.rand(2, 20)\n",
    "net(X)"
   ]
  },
  {
   "cell_type": "markdown",
   "id": "21091b95-e98a-41b5-8421-6994b684d26b",
   "metadata": {},
   "source": [
    "### 自定义块"
   ]
  },
  {
   "cell_type": "code",
   "execution_count": 13,
   "id": "17721c3f-d0b3-4d1a-a99e-ff9f287d65b4",
   "metadata": {},
   "outputs": [
    {
     "data": {
      "text/plain": [
       "tensor([[-0.0589,  0.0416, -0.0361, -0.0030,  0.2509,  0.1424,  0.1926, -0.1186,\n",
       "          0.0687, -0.0658],\n",
       "        [-0.0578,  0.0836,  0.0741, -0.0082,  0.2624,  0.1138,  0.1078, -0.0280,\n",
       "          0.1162, -0.1145]], grad_fn=<AddmmBackward0>)"
      ]
     },
     "execution_count": 13,
     "metadata": {},
     "output_type": "execute_result"
    }
   ],
   "source": [
    "class MLP(torch.nn.Module):\n",
    "    def __init__(self):\n",
    "        super().__init__()\n",
    "        self.hidden = torch.nn.Linear(20, 256)\n",
    "        self.out = torch.nn.Linear(256, 10)\n",
    "\n",
    "    def forward(self, X):\n",
    "        return self.out(torch.nn.functional.relu(self.hidden(X)))\n",
    "\n",
    "\n",
    "net = MLP()\n",
    "X = torch.rand(2, 20)\n",
    "net(X)"
   ]
  },
  {
   "cell_type": "markdown",
   "id": "4e07a39c-a623-4206-9578-a4a0a2bedb73",
   "metadata": {},
   "source": [
    "## 实现pytorch内置的“Sequential”"
   ]
  },
  {
   "cell_type": "code",
   "execution_count": 17,
   "id": "2eeb4a36-db03-4966-87c5-e5df58281629",
   "metadata": {},
   "outputs": [
    {
     "data": {
      "text/plain": [
       "tensor([[ 0.2887,  0.0716,  0.4199, -0.2774,  0.1471,  0.1894, -0.2937, -0.2233,\n",
       "          0.0428, -0.0668],\n",
       "        [ 0.3021,  0.0883,  0.5142, -0.3177,  0.2247,  0.1806, -0.3075, -0.2498,\n",
       "         -0.0454, -0.0476]], grad_fn=<AddmmBackward0>)"
      ]
     },
     "execution_count": 17,
     "metadata": {},
     "output_type": "execute_result"
    }
   ],
   "source": [
    "class MySequential(torch.nn.Module):\n",
    "    def __init__(self, *args):\n",
    "        super().__init__()\n",
    "        for block in args:\n",
    "            self._modules[block] = block  # Module内置了一个有序字典\n",
    "\n",
    "    def forward(self, X):\n",
    "        for block in self._modules.values():\n",
    "            X = block(X)\n",
    "        return X\n",
    "\n",
    "\n",
    "net = MySequential(torch.nn.Linear(20, 256),\n",
    "                   torch.nn.ReLU(), torch.nn.Linear(256, 10))\n",
    "X = torch.rand(2, 20)\n",
    "net(X)"
   ]
  },
  {
   "cell_type": "markdown",
   "id": "7b5cff19-2aa0-4267-970e-62a311055301",
   "metadata": {},
   "source": [
    "## 查看神经网络"
   ]
  },
  {
   "cell_type": "code",
   "execution_count": 18,
   "id": "4b32aa4d-4017-4982-a610-e94b36b43573",
   "metadata": {},
   "outputs": [
    {
     "data": {
      "text/plain": [
       "tensor([[ 0.0158, -0.1089, -0.0396,  0.0476, -0.0572,  0.2625, -0.0118, -0.1034,\n",
       "          0.0983, -0.0203],\n",
       "        [ 0.0861, -0.1505,  0.0174,  0.0709, -0.0258,  0.1927, -0.0503,  0.0008,\n",
       "         -0.0225, -0.0891]], grad_fn=<AddmmBackward0>)"
      ]
     },
     "execution_count": 18,
     "metadata": {},
     "output_type": "execute_result"
    }
   ],
   "source": [
    "net = torch.nn.Sequential(torch.nn.Linear(\n",
    "    20, 256), torch.nn.ReLU(), torch.nn.Linear(256, 10))\n",
    "X = torch.rand(2, 20)\n",
    "net(X)"
   ]
  },
  {
   "cell_type": "markdown",
   "id": "c282dc8b-0009-4c45-8e76-02b496b0f6ec",
   "metadata": {},
   "source": [
    "### 查看神经网络结构"
   ]
  },
  {
   "cell_type": "code",
   "execution_count": 19,
   "id": "21d7cc4c-2830-48ab-9ba5-c2a40759e976",
   "metadata": {},
   "outputs": [
    {
     "data": {
      "text/plain": [
       "Sequential(\n",
       "  (0): Linear(in_features=20, out_features=256, bias=True)\n",
       "  (1): ReLU()\n",
       "  (2): Linear(in_features=256, out_features=10, bias=True)\n",
       ")"
      ]
     },
     "execution_count": 19,
     "metadata": {},
     "output_type": "execute_result"
    }
   ],
   "source": [
    "net"
   ]
  },
  {
   "cell_type": "markdown",
   "id": "7e01f611-1e68-4712-866a-4c75e02a8d70",
   "metadata": {},
   "source": [
    "### 查看每层的参数"
   ]
  },
  {
   "cell_type": "code",
   "execution_count": 25,
   "id": "afef1cf0-6c35-49df-a6c2-9db25805c631",
   "metadata": {},
   "outputs": [
    {
     "data": {
      "text/plain": [
       "OrderedDict([('weight',\n",
       "              tensor([[-0.0405, -0.0025, -0.0189,  ..., -0.0561, -0.0423,  0.0461],\n",
       "                      [ 0.0523,  0.0048,  0.0618,  ..., -0.0143,  0.0534, -0.0197],\n",
       "                      [ 0.0061,  0.0553, -0.0093,  ..., -0.0565,  0.0610,  0.0190],\n",
       "                      ...,\n",
       "                      [ 0.0069,  0.0035,  0.0332,  ..., -0.0187,  0.0151,  0.0262],\n",
       "                      [-0.0576,  0.0056, -0.0600,  ..., -0.0374, -0.0137,  0.0107],\n",
       "                      [ 0.0291, -0.0184,  0.0187,  ..., -0.0386, -0.0488,  0.0595]])),\n",
       "             ('bias',\n",
       "              tensor([ 0.0112,  0.0452,  0.0435,  0.0369, -0.0139,  0.0280, -0.0466, -0.0326,\n",
       "                       0.0518, -0.0620]))])"
      ]
     },
     "execution_count": 25,
     "metadata": {},
     "output_type": "execute_result"
    }
   ],
   "source": [
    "net[2].state_dict()"
   ]
  },
  {
   "cell_type": "code",
   "execution_count": 28,
   "id": "3c9eda56-0a0d-41b8-8221-944f2dca3755",
   "metadata": {},
   "outputs": [
    {
     "name": "stdout",
     "output_type": "stream",
     "text": [
      "Parameter containing:\n",
      "tensor([ 0.0112,  0.0452,  0.0435,  0.0369, -0.0139,  0.0280, -0.0466, -0.0326,\n",
      "         0.0518, -0.0620], requires_grad=True)\n",
      "tensor([ 0.0112,  0.0452,  0.0435,  0.0369, -0.0139,  0.0280, -0.0466, -0.0326,\n",
      "         0.0518, -0.0620])\n"
     ]
    }
   ],
   "source": [
    "print(net[2].bias)\n",
    "print(net[2].bias.data)"
   ]
  },
  {
   "cell_type": "code",
   "execution_count": 43,
   "id": "b056da92-b8ea-494c-a122-f9c2ea689941",
   "metadata": {},
   "outputs": [
    {
     "name": "stdout",
     "output_type": "stream",
     "text": [
      "('0.weight', torch.Size([256, 20]))\n",
      "('0.bias', torch.Size([256]))\n",
      "('2.weight', torch.Size([10, 256]))\n",
      "('2.bias', torch.Size([10]))\n",
      "tensor([ 0.0112,  0.0452,  0.0435,  0.0369, -0.0139,  0.0280, -0.0466, -0.0326,\n",
      "         0.0518, -0.0620])\n"
     ]
    }
   ],
   "source": [
    "for name, param in net.named_parameters():\n",
    "    print((name, param.shape))\n",
    "print(net.state_dict()['2.bias'])"
   ]
  },
  {
   "cell_type": "markdown",
   "id": "0e9b83b1-c777-462c-83f5-2ab48b986521",
   "metadata": {
    "tags": []
   },
   "source": [
    "## 参数初始化"
   ]
  },
  {
   "cell_type": "markdown",
   "id": "83ce5cb5-dd52-4f25-a598-ea9dc6add7ee",
   "metadata": {},
   "source": [
    "### 将权重初始化为标准差为0.01的高斯随机变量，并将偏置设置为0"
   ]
  },
  {
   "cell_type": "code",
   "execution_count": 49,
   "id": "6de54894-4408-46dc-aaf7-41fea6571289",
   "metadata": {},
   "outputs": [
    {
     "data": {
      "text/plain": [
       "OrderedDict([('weight',\n",
       "              tensor([[ 0.0198,  0.0013,  0.0006,  ..., -0.0224,  0.0123,  0.0019],\n",
       "                      [ 0.0110,  0.0102, -0.0081,  ..., -0.0075, -0.0132, -0.0232],\n",
       "                      [ 0.0043,  0.0054,  0.0038,  ..., -0.0271, -0.0036, -0.0029],\n",
       "                      ...,\n",
       "                      [-0.0063, -0.0118, -0.0082,  ..., -0.0027, -0.0139, -0.0110],\n",
       "                      [ 0.0033, -0.0247,  0.0036,  ...,  0.0114,  0.0004, -0.0166],\n",
       "                      [-0.0181,  0.0165, -0.0071,  ...,  0.0047, -0.0014,  0.0172]])),\n",
       "             ('bias', tensor([0., 0., 0., 0., 0., 0., 0., 0., 0., 0.]))])"
      ]
     },
     "execution_count": 49,
     "metadata": {},
     "output_type": "execute_result"
    }
   ],
   "source": [
    "def init_normal(module):\n",
    "    if type(module) == torch.nn.Linear:\n",
    "        torch.nn.init.normal_(module.weight,mean=0,std=0.01)\n",
    "        torch.nn.init.zeros_(module.bias)\n",
    "\n",
    "net = torch.nn.Sequential(torch.nn.Linear(\n",
    "    20, 256), torch.nn.ReLU(), torch.nn.Linear(256, 10))\n",
    "\n",
    "net.apply(init_normal)\n",
    "net[2].state_dict()"
   ]
  },
  {
   "cell_type": "markdown",
   "id": "3d963b17-0769-44a4-be2d-a8164b936d54",
   "metadata": {},
   "source": [
    "### 将权重初始化为1，并将偏置设置为0"
   ]
  },
  {
   "cell_type": "code",
   "execution_count": 50,
   "id": "f9222997-8c67-45c6-837b-452a74007828",
   "metadata": {},
   "outputs": [
    {
     "data": {
      "text/plain": [
       "OrderedDict([('weight',\n",
       "              tensor([[1., 1., 1.,  ..., 1., 1., 1.],\n",
       "                      [1., 1., 1.,  ..., 1., 1., 1.],\n",
       "                      [1., 1., 1.,  ..., 1., 1., 1.],\n",
       "                      ...,\n",
       "                      [1., 1., 1.,  ..., 1., 1., 1.],\n",
       "                      [1., 1., 1.,  ..., 1., 1., 1.],\n",
       "                      [1., 1., 1.,  ..., 1., 1., 1.]])),\n",
       "             ('bias', tensor([0., 0., 0., 0., 0., 0., 0., 0., 0., 0.]))])"
      ]
     },
     "execution_count": 50,
     "metadata": {},
     "output_type": "execute_result"
    }
   ],
   "source": [
    "def init_normal(module):\n",
    "    if type(module) == torch.nn.Linear:\n",
    "        torch.nn.init.constant_(module.weight,1)\n",
    "        torch.nn.init.zeros_(module.bias)\n",
    "\n",
    "net = torch.nn.Sequential(torch.nn.Linear(\n",
    "    20, 256), torch.nn.ReLU(), torch.nn.Linear(256, 10))\n",
    "\n",
    "net.apply(init_normal)\n",
    "net[2].state_dict()"
   ]
  },
  {
   "cell_type": "markdown",
   "id": "e3c8592a-76e5-49eb-9f76-0c8891646f0a",
   "metadata": {},
   "source": [
    "### 直接设定某个参数"
   ]
  },
  {
   "cell_type": "code",
   "execution_count": 53,
   "id": "eadd6944-149e-485f-80fa-5a7dc717c289",
   "metadata": {},
   "outputs": [
    {
     "data": {
      "text/plain": [
       "OrderedDict([('weight',\n",
       "              tensor([[1., 1., 1.,  ..., 1., 1., 1.],\n",
       "                      [1., 1., 1.,  ..., 1., 1., 1.],\n",
       "                      [1., 1., 1.,  ..., 1., 1., 1.],\n",
       "                      ...,\n",
       "                      [1., 1., 1.,  ..., 1., 1., 1.],\n",
       "                      [1., 1., 1.,  ..., 1., 1., 1.],\n",
       "                      [1., 1., 1.,  ..., 1., 1., 1.]])),\n",
       "             ('bias',\n",
       "              tensor([10.,  0.,  0.,  0.,  0.,  0.,  0.,  0.,  0.,  0.]))])"
      ]
     },
     "execution_count": 53,
     "metadata": {},
     "output_type": "execute_result"
    }
   ],
   "source": [
    "net[2].bias.data[0]=10\n",
    "net[2].state_dict()"
   ]
  },
  {
   "cell_type": "markdown",
   "id": "a1076a95-eba9-4f1b-be73-0bf3910b4252",
   "metadata": {},
   "source": [
    "## 保存和读取张量和网络"
   ]
  },
  {
   "cell_type": "markdown",
   "id": "5421bbde-4bfb-4232-a161-a0731c13befb",
   "metadata": {},
   "source": [
    "### 保存张量"
   ]
  },
  {
   "cell_type": "code",
   "execution_count": 62,
   "id": "9182bea4-7016-45c1-bc3c-4c5616666b2a",
   "metadata": {},
   "outputs": [
    {
     "data": {
      "text/plain": [
       "[tensor([[0.3542, 0.9103, 0.6794, 0.5084, 0.9133, 0.0081, 0.8036, 0.5374, 0.5328,\n",
       "          0.2054, 0.3020, 0.3962, 0.3102, 0.3714, 0.8525, 0.9643, 0.9550, 0.5625,\n",
       "          0.6267, 0.0515],\n",
       "         [0.4727, 0.0999, 0.0940, 0.5063, 0.3826, 0.8663, 0.8532, 0.3783, 0.2636,\n",
       "          0.0717, 0.1112, 0.7846, 0.2300, 0.4228, 0.1764, 0.8222, 0.8728, 0.8149,\n",
       "          0.2174, 0.4113]]),\n",
       " tensor([0., 0., 0., 0., 0., 0., 0., 0., 0., 0.])]"
      ]
     },
     "execution_count": 62,
     "metadata": {},
     "output_type": "execute_result"
    }
   ],
   "source": [
    "X = torch.rand(2, 20)\n",
    "y = torch.zeros(10)\n",
    "torch.save([X,y],'X-save_temp')\n",
    "[X,y]"
   ]
  },
  {
   "cell_type": "markdown",
   "id": "e1938094-f983-474e-8b33-7e6036169de6",
   "metadata": {},
   "source": [
    "### 读取张量"
   ]
  },
  {
   "cell_type": "code",
   "execution_count": 63,
   "id": "a8516e54-2c72-4015-882f-dc90de124d80",
   "metadata": {},
   "outputs": [
    {
     "data": {
      "text/plain": [
       "(tensor([[0.3542, 0.9103, 0.6794, 0.5084, 0.9133, 0.0081, 0.8036, 0.5374, 0.5328,\n",
       "          0.2054, 0.3020, 0.3962, 0.3102, 0.3714, 0.8525, 0.9643, 0.9550, 0.5625,\n",
       "          0.6267, 0.0515],\n",
       "         [0.4727, 0.0999, 0.0940, 0.5063, 0.3826, 0.8663, 0.8532, 0.3783, 0.2636,\n",
       "          0.0717, 0.1112, 0.7846, 0.2300, 0.4228, 0.1764, 0.8222, 0.8728, 0.8149,\n",
       "          0.2174, 0.4113]]),\n",
       " tensor([0., 0., 0., 0., 0., 0., 0., 0., 0., 0.]))"
      ]
     },
     "execution_count": 63,
     "metadata": {},
     "output_type": "execute_result"
    }
   ],
   "source": [
    "X_read,y_read = torch.load('X-save_temp')\n",
    "X_read,y_read"
   ]
  },
  {
   "cell_type": "markdown",
   "id": "0ce4fb2c-6d6b-478a-b12d-f5561bb24c81",
   "metadata": {},
   "source": [
    "### 保存整个模型"
   ]
  },
  {
   "cell_type": "code",
   "execution_count": 71,
   "id": "43832097-23d1-42d8-abc5-42fd71634876",
   "metadata": {},
   "outputs": [
    {
     "data": {
      "text/plain": [
       "OrderedDict([('0.weight',\n",
       "              tensor([[-0.1187,  0.4239],\n",
       "                      [ 0.1013,  0.5562],\n",
       "                      [ 0.4396, -0.1136],\n",
       "                      [ 0.5349,  0.7042],\n",
       "                      [-0.2213,  0.6671]])),\n",
       "             ('0.bias', tensor([ 0.6218, -0.1190,  0.4912,  0.3491, -0.2176])),\n",
       "             ('2.weight',\n",
       "              tensor([[-0.4181,  0.4151, -0.3008,  0.1904, -0.1256],\n",
       "                      [ 0.2354, -0.0326,  0.0359,  0.3142, -0.1758]])),\n",
       "             ('2.bias', tensor([0.2629, 0.3474]))])"
      ]
     },
     "execution_count": 71,
     "metadata": {},
     "output_type": "execute_result"
    }
   ],
   "source": [
    "net = torch.nn.Sequential(torch.nn.Linear(2, 5),\n",
    "                   torch.nn.ReLU(), torch.nn.Linear(5, 2))\n",
    "torch.save(net,'net_temp')\n",
    "net.state_dict()"
   ]
  },
  {
   "cell_type": "markdown",
   "id": "36524623-c680-4c83-9393-c3eb7b98ca28",
   "metadata": {},
   "source": [
    "### 读取整个模型"
   ]
  },
  {
   "cell_type": "code",
   "execution_count": 72,
   "id": "272d944f-fec9-4ae4-8bd0-6dae4e5447e6",
   "metadata": {},
   "outputs": [
    {
     "data": {
      "text/plain": [
       "OrderedDict([('0.weight',\n",
       "              tensor([[-0.1187,  0.4239],\n",
       "                      [ 0.1013,  0.5562],\n",
       "                      [ 0.4396, -0.1136],\n",
       "                      [ 0.5349,  0.7042],\n",
       "                      [-0.2213,  0.6671]])),\n",
       "             ('0.bias', tensor([ 0.6218, -0.1190,  0.4912,  0.3491, -0.2176])),\n",
       "             ('2.weight',\n",
       "              tensor([[-0.4181,  0.4151, -0.3008,  0.1904, -0.1256],\n",
       "                      [ 0.2354, -0.0326,  0.0359,  0.3142, -0.1758]])),\n",
       "             ('2.bias', tensor([0.2629, 0.3474]))])"
      ]
     },
     "execution_count": 72,
     "metadata": {},
     "output_type": "execute_result"
    }
   ],
   "source": [
    "net_read = torch.load('net_temp')\n",
    "net_read.state_dict()"
   ]
  },
  {
   "cell_type": "markdown",
   "id": "30a5f760-449d-4f5e-8d62-feb29edf5271",
   "metadata": {},
   "source": [
    "### 仅保存模型的参数"
   ]
  },
  {
   "cell_type": "code",
   "execution_count": 78,
   "id": "6959d7cc-561d-4c6f-94fc-a73ad38a1854",
   "metadata": {},
   "outputs": [
    {
     "data": {
      "text/plain": [
       "OrderedDict([('0.weight',\n",
       "              tensor([[-0.6121, -0.0523],\n",
       "                      [-0.1059, -0.0466],\n",
       "                      [-0.1188, -0.0988],\n",
       "                      [-0.2418,  0.5693],\n",
       "                      [-0.1798,  0.1912]])),\n",
       "             ('0.bias', tensor([-0.2122, -0.2530,  0.2486,  0.4672,  0.6486])),\n",
       "             ('2.weight',\n",
       "              tensor([[ 0.2628, -0.2970, -0.0628, -0.4034,  0.4362],\n",
       "                      [-0.3537,  0.0181,  0.0323,  0.2822, -0.0645]])),\n",
       "             ('2.bias', tensor([-0.3583,  0.2941]))])"
      ]
     },
     "execution_count": 78,
     "metadata": {},
     "output_type": "execute_result"
    }
   ],
   "source": [
    "net = torch.nn.Sequential(torch.nn.Linear(2, 5),\n",
    "                   torch.nn.ReLU(), torch.nn.Linear(5, 2))\n",
    "torch.save(net.state_dict(),'net_params_temp')\n",
    "net.state_dict()"
   ]
  },
  {
   "cell_type": "code",
   "execution_count": 80,
   "id": "a7ffbdee-162d-41ee-af05-73157c911ccc",
   "metadata": {},
   "outputs": [
    {
     "name": "stdout",
     "output_type": "stream",
     "text": [
      "OrderedDict([('0.weight', tensor([[-0.6121, -0.0523],\n",
      "        [-0.1059, -0.0466],\n",
      "        [-0.1188, -0.0988],\n",
      "        [-0.2418,  0.5693],\n",
      "        [-0.1798,  0.1912]])), ('0.bias', tensor([-0.2122, -0.2530,  0.2486,  0.4672,  0.6486])), ('2.weight', tensor([[ 0.2628, -0.2970, -0.0628, -0.4034,  0.4362],\n",
      "        [-0.3537,  0.0181,  0.0323,  0.2822, -0.0645]])), ('2.bias', tensor([-0.3583,  0.2941]))])\n"
     ]
    }
   ],
   "source": [
    "net_new = torch.nn.Sequential(torch.nn.Linear(2, 5),\n",
    "                   torch.nn.ReLU(), torch.nn.Linear(5, 2))\n",
    "net_params = torch.load('net_params_temp')\n",
    "net_new.load_state_dict(net_params)\n",
    "print(net_new.state_dict())"
   ]
  },
  {
   "cell_type": "markdown",
   "id": "0d76f3fc-fa1b-4eb1-8d2d-8c5c6521b2f1",
   "metadata": {},
   "source": [
    "## GPU计算"
   ]
  },
  {
   "cell_type": "markdown",
   "id": "ceb72fb7-e511-4443-9907-f38bd97180a7",
   "metadata": {},
   "source": [
    "### 查看数据所在的设备"
   ]
  },
  {
   "cell_type": "code",
   "execution_count": 83,
   "id": "c51a14a5-4341-4710-9090-dd8dee23089f",
   "metadata": {},
   "outputs": [
    {
     "data": {
      "text/plain": [
       "device(type='cpu')"
      ]
     },
     "execution_count": 83,
     "metadata": {},
     "output_type": "execute_result"
    }
   ],
   "source": [
    "X = torch.rand(2, 20)\n",
    "X.device"
   ]
  },
  {
   "cell_type": "markdown",
   "id": "e83495b2-8b12-405e-a931-8ab01a3ed983",
   "metadata": {},
   "source": [
    "### 将数据移动到GPU上计算"
   ]
  },
  {
   "cell_type": "code",
   "execution_count": 90,
   "id": "536030c8-0d67-40a4-88d9-441b4648febf",
   "metadata": {},
   "outputs": [
    {
     "name": "stdout",
     "output_type": "stream",
     "text": [
      "cuda:0\n",
      "cuda:0\n",
      "tensor([[0.8542, 1.1229, 0.8869, 1.3560, 0.2596, 0.4408, 0.4422, 0.8121, 0.5268,\n",
      "         0.9892, 0.7047, 0.2713, 1.1169, 0.5368, 1.0712, 1.3488, 0.7407, 0.3929,\n",
      "         0.5463, 1.1236],\n",
      "        [0.1262, 0.7674, 1.3805, 1.0873, 0.6866, 1.4109, 1.1670, 0.5813, 1.3712,\n",
      "         0.7208, 0.3556, 1.2987, 0.3896, 1.4586, 1.4041, 1.3134, 1.0984, 1.6845,\n",
      "         1.7329, 1.0194]], device='cuda:0')\n"
     ]
    }
   ],
   "source": [
    "X = torch.rand(2, 20,device=torch.device('cuda:0'))\n",
    "Y = torch.rand(2, 20,device=torch.device('cuda:0'))\n",
    "print(X.device)\n",
    "print(Y.device)\n",
    "print(X+Y)"
   ]
  }
 ],
 "metadata": {
  "kernelspec": {
   "display_name": "Python 3 (ipykernel)",
   "language": "python",
   "name": "python3"
  },
  "language_info": {
   "codemirror_mode": {
    "name": "ipython",
    "version": 3
   },
   "file_extension": ".py",
   "mimetype": "text/x-python",
   "name": "python",
   "nbconvert_exporter": "python",
   "pygments_lexer": "ipython3",
   "version": "3.8.12"
  },
  "widgets": {
   "application/vnd.jupyter.widget-state+json": {
    "state": {},
    "version_major": 2,
    "version_minor": 0
   }
  }
 },
 "nbformat": 4,
 "nbformat_minor": 5
}
